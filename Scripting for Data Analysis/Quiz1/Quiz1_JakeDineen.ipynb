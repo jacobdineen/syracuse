{
 "cells": [
  {
   "cell_type": "code",
   "execution_count": 2,
   "metadata": {
    "ExecuteTime": {
     "end_time": "2018-07-26T06:38:37.889982Z",
     "start_time": "2018-07-26T06:38:37.881006Z"
    }
   },
   "outputs": [
    {
     "name": "stdout",
     "output_type": "stream",
     "text": [
      "<class 'bool'>\n",
      "<class 'float'>\n",
      "<class 'str'>\n"
     ]
    }
   ],
   "source": [
    "m = True\n",
    "n = 3.14\n",
    "q = \"−7.2345907654\"\n",
    "print (type(m))\n",
    "print (type(n))\n",
    "print (type(q))"
   ]
  },
  {
   "cell_type": "code",
   "execution_count": 8,
   "metadata": {
    "ExecuteTime": {
     "end_time": "2018-07-26T06:39:33.191149Z",
     "start_time": "2018-07-26T06:39:33.186163Z"
    }
   },
   "outputs": [
    {
     "data": {
      "text/plain": [
       "'Monty Python'"
      ]
     },
     "execution_count": 8,
     "metadata": {},
     "output_type": "execute_result"
    }
   ],
   "source": [
    "String1 = 'Monty Python'\n",
    "String2 = \"Monty Python\"\n",
    "String3 = 'Monty ' + 'Python'\n",
    "\n",
    "\n",
    "type(String3)\n",
    "String3"
   ]
  },
  {
   "cell_type": "code",
   "execution_count": 12,
   "metadata": {
    "ExecuteTime": {
     "end_time": "2018-07-26T06:40:42.224387Z",
     "start_time": "2018-07-26T06:40:42.218403Z"
    }
   },
   "outputs": [
    {
     "name": "stdout",
     "output_type": "stream",
     "text": [
      "4\n",
      "8\n",
      "16\n"
     ]
    },
    {
     "data": {
      "text/plain": [
       "12"
      ]
     },
     "execution_count": 12,
     "metadata": {},
     "output_type": "execute_result"
    }
   ],
   "source": [
    "Evennumbers = [2, 4, 6, 8, 10, 12, 14, 16, 18]\n",
    "Temp = Evennumbers[1]+Evennumbers[3]\n",
    "\n",
    "print (Evennumbers[1])\n",
    "print (Evennumbers[3])\n",
    "print (Evennumbers[7])\n",
    "Temp"
   ]
  },
  {
   "cell_type": "code",
   "execution_count": 15,
   "metadata": {
    "ExecuteTime": {
     "end_time": "2018-07-26T06:41:15.037677Z",
     "start_time": "2018-07-26T06:41:15.032691Z"
    }
   },
   "outputs": [
    {
     "data": {
      "text/plain": [
       "['sunglasses', 'hat', 'passport', 'laptop']"
      ]
     },
     "execution_count": 15,
     "metadata": {},
     "output_type": "execute_result"
    }
   ],
   "source": [
    "\n",
    "Suitcase = [\"sunglasses\", \"hat\", \"passport\", \"laptop\", \"suit\", \"shoes\"]\n",
    "\n",
    "Suitcase[1:]\n",
    "Suitcase[:4]"
   ]
  },
  {
   "cell_type": "code",
   "execution_count": 19,
   "metadata": {
    "ExecuteTime": {
     "end_time": "2018-07-26T06:42:52.382725Z",
     "start_time": "2018-07-26T06:42:52.378735Z"
    }
   },
   "outputs": [
    {
     "name": "stdout",
     "output_type": "stream",
     "text": [
      "Try Again\n"
     ]
    }
   ],
   "source": [
    "x = 5\n",
    "if x == 5 and x < 5:\n",
    "     print(\"Welcome to the world of logical operators\")\n",
    "else:\n",
    "     print(\"Try Again\")"
   ]
  },
  {
   "cell_type": "code",
   "execution_count": 20,
   "metadata": {
    "ExecuteTime": {
     "end_time": "2018-07-26T06:43:05.909212Z",
     "start_time": "2018-07-26T06:43:05.905223Z"
    }
   },
   "outputs": [
    {
     "name": "stdout",
     "output_type": "stream",
     "text": [
      "2\n",
      "3\n",
      "4\n",
      "5\n"
     ]
    }
   ],
   "source": [
    "xlist = [1, 2, 3, 4]\n",
    "for x in xlist:\n",
    "     print(x + 1)"
   ]
  },
  {
   "cell_type": "code",
   "execution_count": 24,
   "metadata": {
    "ExecuteTime": {
     "end_time": "2018-07-26T06:44:03.659595Z",
     "start_time": "2018-07-26T06:44:02.608385Z"
    }
   },
   "outputs": [
    {
     "name": "stdout",
     "output_type": "stream",
     "text": [
      "Type Threshold: 55\n",
      "Great\n"
     ]
    }
   ],
   "source": [
    "nlist = [8, 92, 79, 55, 23, 17, 4, 45, 63, 9, 100]\n",
    "threshold = int(input('Type Threshold: '))\n",
    "if (max(nlist) > threshold):\n",
    "     print('Great')\n",
    "else:\n",
    "     print('Not great')"
   ]
  },
  {
   "cell_type": "code",
   "execution_count": 1,
   "metadata": {
    "ExecuteTime": {
     "end_time": "2018-07-27T02:25:19.561353Z",
     "start_time": "2018-07-27T02:25:19.550382Z"
    }
   },
   "outputs": [
    {
     "name": "stdout",
     "output_type": "stream",
     "text": [
      "bcb\n"
     ]
    }
   ],
   "source": [
    "examples = ['abab', 'xyz', 'aa', 'x', 'bcb']\n",
    "\n",
    "for i in examples:\n",
    "    if len(i) >= 3 and i[0] == i[-1]:\n",
    "        print(i)\n",
    "        \n"
   ]
  },
  {
   "cell_type": "code",
   "execution_count": 33,
   "metadata": {
    "ExecuteTime": {
     "end_time": "2018-07-26T06:50:24.189449Z",
     "start_time": "2018-07-26T06:50:24.184462Z"
    }
   },
   "outputs": [
    {
     "name": "stdout",
     "output_type": "stream",
     "text": [
      "xyx\n"
     ]
    }
   ],
   "source": [
    "examples = ['', 'x', 'xy', 'xyx', 'xx']\n",
    "\n",
    "for i in examples:\n",
    "    if len(i) >= 3 and i[0] == i[-1]:\n",
    "        print(i)"
   ]
  },
  {
   "cell_type": "code",
   "execution_count": 34,
   "metadata": {
    "ExecuteTime": {
     "end_time": "2018-07-26T06:50:50.085058Z",
     "start_time": "2018-07-26T06:50:50.080049Z"
    }
   },
   "outputs": [
    {
     "name": "stdout",
     "output_type": "stream",
     "text": [
      "aaa\n"
     ]
    }
   ],
   "source": [
    "examples = ['aaa', 'be', 'abc', 'hello']\n",
    "\n",
    "for i in examples:\n",
    "    if len(i) >= 3 and i[0] == i[-1]:\n",
    "        print(i)\n",
    "        \n",
    "    "
   ]
  },
  {
   "cell_type": "code",
   "execution_count": 2,
   "metadata": {
    "ExecuteTime": {
     "end_time": "2018-07-27T02:51:15.213898Z",
     "start_time": "2018-07-27T02:51:14.780058Z"
    }
   },
   "outputs": [
    {
     "name": "stdout",
     "output_type": "stream",
     "text": [
      "State with the Highest Avg Verbal SAT Score = South_Dakota ||| Score = 594\n",
      "State: New_York | Math SAT Avg: 510\n",
      "State: Connecticut | Math SAT Avg: 515\n",
      "State: Massachusetts | Math SAT Avg: 523\n",
      "State: New_Jersey | Math SAT Avg: 514\n",
      "State: New_Hampshire | Math SAT Avg: 521\n",
      "State: Maine | Math SAT Avg: 501\n",
      "State: Pennsylvania | Math SAT Avg: 502\n",
      "State: Pennsylvania | Math SAT Avg: 502\n",
      "State: Virginia | Math SAT Avg: 509\n",
      "State: North_Carolina | Math SAT Avg: 507\n",
      "State: Connecticut | Math SAT Avg: 515\n",
      "State: Vermont | Math SAT Avg: 512\n",
      "State: Indiana | Math SAT Avg: 506\n",
      "State: New_Jersey | Math SAT Avg: 514\n",
      "State: Oregon | Math SAT Avg: 528\n",
      "State: New_Jersey | Math SAT Avg: 514\n",
      "State: Washington | Math SAT Avg: 531\n",
      "State: California | Math SAT Avg: 519\n",
      "State: New_Jersey | Math SAT Avg: 514\n",
      "State: Arizona | Math SAT Avg: 524\n",
      "State: Montana | Math SAT Avg: 539\n",
      "State: Ohio | Math SAT Avg: 542\n",
      "State: Colorado | Math SAT Avg: 553\n",
      "State: Montana | Math SAT Avg: 539\n",
      "State: New_Jersey | Math SAT Avg: 514\n",
      "State: Tennessee | Math SAT Avg: 557\n",
      "State: New_Mexico | Math SAT Avg: 543\n",
      "State: Tennessee | Math SAT Avg: 557\n",
      "State: Wyoming | Math SAT Avg: 546\n",
      "State: Michigan | Math SAT Avg: 573\n",
      "State: Illinois | Math SAT Avg: 597\n",
      "State: Minnesota | Math SAT Avg: 593\n",
      "State: Colorado | Math SAT Avg: 553\n",
      "State: Kansas | Math SAT Avg: 585\n",
      "State: Louisiana | Math SAT Avg: 561\n",
      "State: Kansas | Math SAT Avg: 585\n",
      "State: Nebraska | Math SAT Avg: 576\n",
      "State: Oklahoma | Math SAT Avg: 566\n",
      "State: Wisconsin | Math SAT Avg: 596\n",
      "State: Utah | Math SAT Avg: 556\n",
      "State: Arkansas | Math SAT Avg: 555\n",
      "State: Iowa | Math SAT Avg: 602\n",
      "State: Illinois | Math SAT Avg: 597\n",
      "State: Mississippi | Math SAT Avg: 547\n",
      "State: North_Dakota | Math SAT Avg: 601\n"
     ]
    }
   ],
   "source": [
    "import os\n",
    "os.getcwd()\n",
    "import numpy as np\n",
    "\n",
    "state = open('state_satscores_2004.txt', 'r')\n",
    "\n",
    "state_list = [] #Create Empty List\n",
    "for i in state: #Write the file to a new list with some operations\n",
    "    textline = i.strip()\n",
    "    items = textline.split()\n",
    "    state_list.append(items)\n",
    "\n",
    "state = [] #Empty List\n",
    "verbal = [] #Empty List\n",
    "math = [] #Empty List\n",
    "for stat, verba, mat in state_list:\n",
    "    state.append(stat) #append string\n",
    "    verbal.append(int(verba)) #append as int for operations\n",
    "    math.append(int(mat)) #append as int for operations\n",
    "    \n",
    "max_verbal = np.max(verbal) #numpy for max of list\n",
    "max_state = state[verbal.index(max_verbal)] #index search on max verbal score\n",
    "\n",
    "print('State with the Highest Avg Verbal SAT Score = {} ||| Score = {}'.format(max_state, max_verbal))\n",
    "\n",
    "\n",
    "sat_500 = [] #create empty list\n",
    "math_above500= []\n",
    "\n",
    "for i in math:\n",
    "    if i >= 500:\n",
    "        sat_500.append(state[math.index(i)]) #iterate and update list with math{index} > 500\n",
    "        math_above500.append(i)\n",
    "\n",
    "counter = 0 #Counter for check\n",
    "for i in math: #Counter how many instances of the list are greater or equal to 500\n",
    "    if i >= 500:\n",
    "        counter +=1\n",
    "        \n",
    "try: #Simple try catch for seeing if the length of the list is equiv. to the counter value\n",
    "    if len(sat_500) == counter:\n",
    "        for i,j in zip(sat_500, math_above500):\n",
    "            print('State: {} | Math SAT Avg: {}'.format(i, j))\n",
    "except:\n",
    "    print('something went wrong')\n",
    "        \n"
   ]
  },
  {
   "cell_type": "code",
   "execution_count": 8,
   "metadata": {
    "ExecuteTime": {
     "end_time": "2018-07-27T02:54:15.408261Z",
     "start_time": "2018-07-27T02:54:15.401279Z"
    }
   },
   "outputs": [
    {
     "data": {
      "text/plain": [
       "(array([1, 1, 1, 1, 0, 1, 1, 1, 1, 1], dtype=int64),\n",
       " array([1. , 1.8, 2.6, 3.4, 4.2, 5. , 5.8, 6.6, 7.4, 8.2, 9. ]))"
      ]
     },
     "execution_count": 8,
     "metadata": {},
     "output_type": "execute_result"
    }
   ],
   "source": [
    "import numpy as np\n",
    "numbs = [1,2,3,4,5,6,7,8,9]\n",
    "np.mean(numbs)\n"
   ]
  }
 ],
 "metadata": {
  "hide_input": false,
  "kernelspec": {
   "display_name": "Python 3",
   "language": "python",
   "name": "python3"
  },
  "language_info": {
   "codemirror_mode": {
    "name": "ipython",
    "version": 3
   },
   "file_extension": ".py",
   "mimetype": "text/x-python",
   "name": "python",
   "nbconvert_exporter": "python",
   "pygments_lexer": "ipython3",
   "version": "3.6.4"
  }
 },
 "nbformat": 4,
 "nbformat_minor": 2
}
