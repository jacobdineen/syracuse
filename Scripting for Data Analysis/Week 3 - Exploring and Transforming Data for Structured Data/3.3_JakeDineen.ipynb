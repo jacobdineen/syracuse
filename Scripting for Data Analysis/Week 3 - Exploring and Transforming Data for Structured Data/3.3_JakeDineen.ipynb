{
 "cells": [
  {
   "cell_type": "markdown",
   "metadata": {},
   "source": [
    "Now you try: Create a dictionary of at least five contacts with first names and phone numbers, sort the list in alphabetical order, and print the contacts with their phone numbers."
   ]
  },
  {
   "cell_type": "code",
   "execution_count": 38,
   "metadata": {
    "ExecuteTime": {
     "end_time": "2018-07-26T00:15:41.389573Z",
     "start_time": "2018-07-26T00:15:41.381594Z"
    }
   },
   "outputs": [
    {
     "name": "stdout",
     "output_type": "stream",
     "text": [
      "-------------------------------------------------------------\n",
      "Using Index\n",
      "-------------------------------------------------------------\n",
      "Bailee 894-456-7891\n",
      "Dave 486-456-7891\n",
      "Jake 123-456-7891\n",
      "Kat 546-785-7891\n",
      "Mandy 123-776-7891\n",
      "-------------------------------------------------------------\n",
      "Using keys/values\n",
      "-------------------------------------------------------------\n",
      "Bailee 894-456-7891\n",
      "Dave 486-456-7891\n",
      "Jake 123-456-7891\n",
      "Kat 546-785-7891\n",
      "Mandy 123-776-7891\n"
     ]
    }
   ],
   "source": [
    "phone = {'Jake' : '123-456-7891', 'Mandy' : '123-776-7891', 'Bailee': '894-456-7891','Dave': '486-456-7891', 'Kat': '546-785-7891'}\n",
    "#Keys, Values, Items\n",
    "print('-------------------------------------------------------------')\n",
    "print('Using Index')\n",
    "print('-------------------------------------------------------------')\n",
    "for key in sorted(phone):\n",
    "    print(key, phone[key])\n",
    "\n",
    "print('-------------------------------------------------------------')\n",
    "print('Using keys/values')\n",
    "print('-------------------------------------------------------------')\n",
    "for key,value in sorted(phone.items()):\n",
    "    print(key,value)"
   ]
  }
 ],
 "metadata": {
  "hide_input": false,
  "kernelspec": {
   "display_name": "Python 3",
   "language": "python",
   "name": "python3"
  },
  "language_info": {
   "codemirror_mode": {
    "name": "ipython",
    "version": 3
   },
   "file_extension": ".py",
   "mimetype": "text/x-python",
   "name": "python",
   "nbconvert_exporter": "python",
   "pygments_lexer": "ipython3",
   "version": "3.6.4"
  }
 },
 "nbformat": 4,
 "nbformat_minor": 2
}
