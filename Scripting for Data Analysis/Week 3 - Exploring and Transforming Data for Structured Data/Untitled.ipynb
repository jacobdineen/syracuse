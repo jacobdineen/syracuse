{
 "cells": [
  {
   "cell_type": "code",
   "execution_count": 7,
   "metadata": {
    "ExecuteTime": {
     "end_time": "2018-07-26T00:49:14.988198Z",
     "start_time": "2018-07-26T00:49:14.978224Z"
    }
   },
   "outputs": [
    {
     "name": "stdout",
     "output_type": "stream",
     "text": [
      "The value of orange is: 32\n",
      "-------------------------------------------------\n",
      "banana 6\n",
      "apple 0\n",
      "orange 32\n",
      "pear 15\n",
      "cherry 14\n"
     ]
    }
   ],
   "source": [
    "stock = {\"banana\":6,\"apple\":0,\"orange\":32,\"pear\":15}\n",
    "\n",
    "prices={\"banana\":4,\"apple\":2,\"orange\":1.5,\"pear\":3}\n",
    "\n",
    "stock['orange']\n",
    "print('The value of orange is: {}'.format( stock['orange']))\n",
    "\n",
    "\n",
    "stock['cherry'] = 14\n",
    "print('-------------------------------------------------')\n",
    "for key,value in stock.items():\n",
    "    print(key,value)"
   ]
  }
 ],
 "metadata": {
  "hide_input": false,
  "kernelspec": {
   "display_name": "Python 3",
   "language": "python",
   "name": "python3"
  },
  "language_info": {
   "codemirror_mode": {
    "name": "ipython",
    "version": 3
   },
   "file_extension": ".py",
   "mimetype": "text/x-python",
   "name": "python",
   "nbconvert_exporter": "python",
   "pygments_lexer": "ipython3",
   "version": "3.6.4"
  }
 },
 "nbformat": 4,
 "nbformat_minor": 2
}
