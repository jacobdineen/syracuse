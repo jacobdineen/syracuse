{
 "cells": [
  {
   "cell_type": "code",
   "execution_count": 9,
   "metadata": {
    "ExecuteTime": {
     "end_time": "2018-07-25T23:41:38.772643Z",
     "start_time": "2018-07-25T23:41:38.765662Z"
    }
   },
   "outputs": [
    {
     "data": {
      "text/plain": [
       "[['Atlanta', '13993', '20.06'],\n",
       " ['Boston', '14916', '22.54'],\n",
       " ['Charlotte', '23901', '17'],\n",
       " ['Chicago', '18404', '21.98'],\n",
       " ['Cleveland', '16969', '19.63'],\n",
       " ['Dallas', '16868', '17.05'],\n",
       " ['Denver', '12668', '17.4'],\n",
       " ['Detroit', '21454', '24.42'],\n",
       " ['Golden_State', '15025', '17.04'],\n",
       " ['Houston', '15846', '17.56'],\n",
       " ['Indiana', '12885', '13.77'],\n",
       " ['LA_Clippers', '11869', '21.95'],\n",
       " ['LA_Lakers', '17378', '29.18'],\n",
       " ['Miami', '15008', '17.6'],\n",
       " ['Milwaukee', '16088', '14.08'],\n",
       " ['Minnesota', '26160', '10.92'],\n",
       " ['New_Jersey', '12160', '13.31'],\n",
       " ['New_York', '17815', '22.7'],\n",
       " ['Orlando', '15606', '20.47'],\n",
       " ['Philadelphia', '14017', '19.04'],\n",
       " ['Phoenix', '14114', '16.59'],\n",
       " ['Portland', '12884', '22.19'],\n",
       " ['Sacramento', '17014', '16.96'],\n",
       " ['San_Antonio', '14722', '16.79'],\n",
       " ['Seattle', '12244', '18.11'],\n",
       " ['Utah', '12616', '18.41'],\n",
       " ['Washington', '11565', '14.55']]"
      ]
     },
     "execution_count": 9,
     "metadata": {},
     "output_type": "execute_result"
    }
   ],
   "source": [
    "import os\n",
    "os.getcwd()\n",
    "nbafile = open('nba-attendance-1989.txt', 'r') #Read in the file\n",
    "nbalist = []\n",
    "for i in nbafile: #Write the file to a new list with some operations\n",
    "    textline = i.strip()\n",
    "    items = textline.split()\n",
    "    nbalist.append(items)\n",
    "    "
   ]
  },
  {
   "cell_type": "code",
   "execution_count": 45,
   "metadata": {
    "ExecuteTime": {
     "end_time": "2018-07-25T23:58:54.211536Z",
     "start_time": "2018-07-25T23:58:54.196577Z"
    }
   },
   "outputs": [
    {
     "name": "stdout",
     "output_type": "stream",
     "text": [
      "Total Attendance: 424189\n",
      "Avg Attendance 15710.7\n",
      "Max Attendance by Team: |Team = Minnesota | Attendance = 26160\n",
      "Max TicketPrice by Team: |Team = LA_Lakers | Price = $29.18\n"
     ]
    }
   ],
   "source": [
    "import numpy as np\n",
    "import pandas as pd\n",
    "\n",
    "#Separate lists for vars\n",
    "teams = []\n",
    "attendance = []\n",
    "price = []\n",
    "\n",
    "#Write each feature to a list\n",
    "for team, att, pric in nbalist:\n",
    "    teams.append(team)\n",
    "    attendance.append(int(att))\n",
    "    price.append(float(pric))\n",
    "\n",
    "#Display the total attendance, average attendance, \n",
    "#the max attendance with the team name, and the max ticket price with the team name.\n",
    "\n",
    "print('Total Attendance:', np.sum(attendance))\n",
    "print('Avg Attendance', np.round(np.mean(attendance), 2))\n",
    "\n",
    "max_att = np.max(attendance)\n",
    "max_team = teams[attendance.index(max_att)]\n",
    "print('Max Attendance by Team: |Team = {} | Attendance = {}'.format(max_team,max_att))\n",
    "\n",
    "max_tick = np.max(price)\n",
    "max_team_tic = teams[price.index(max_tick)]\n",
    "print('Max TicketPrice by Team: |Team = {} | Price = ${}'.format(max_team_tic,max_tick))\n"
   ]
  }
 ],
 "metadata": {
  "hide_input": false,
  "kernelspec": {
   "display_name": "Python 3",
   "language": "python",
   "name": "python3"
  },
  "language_info": {
   "codemirror_mode": {
    "name": "ipython",
    "version": 3
   },
   "file_extension": ".py",
   "mimetype": "text/x-python",
   "name": "python",
   "nbconvert_exporter": "python",
   "pygments_lexer": "ipython3",
   "version": "3.6.4"
  }
 },
 "nbformat": 4,
 "nbformat_minor": 2
}
