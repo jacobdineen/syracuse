{
 "cells": [
  {
   "cell_type": "code",
   "execution_count": 10,
   "metadata": {
    "ExecuteTime": {
     "end_time": "2018-07-26T00:46:12.058014Z",
     "start_time": "2018-07-26T00:46:11.989691Z"
    }
   },
   "outputs": [
    {
     "name": "stdout",
     "output_type": "stream",
     "text": [
      "Read 40 country data\n",
      "Field life (First) Maximum 79.0 at Japan\n",
      "Field life (First) Minimum 51.5 at Ethiopia\n",
      "Field Average 67.0375\n"
     ]
    },
    {
     "name": "stderr",
     "output_type": "stream",
     "text": [
      "C:\\Users\\jdine\\Documents\\Anaconda3\\envs\\tensorflowlatest\\lib\\site-packages\\ipykernel_launcher.py:12: DeprecationWarning: 'U' mode is deprecated\n",
      "  if sys.path[0] == '':\n"
     ]
    }
   ],
   "source": [
    "import os\n",
    "import pandas as pd\n",
    "import numpy as np\n",
    "import csv\n",
    "path = os.getcwd()  #Get Current working Directory\n",
    "list(enumerate(os.listdir(path)))  #Get path to movie review files\n",
    "infile = os.listdir(path)[17]\n",
    "\n",
    "# create new empty list\n",
    "countryList = []\n",
    "\n",
    "with open(infile, 'rU') as csvfile:\n",
    "    # the csv file reader returns a list of the csv items on each line\n",
    "    countryReader = csv.reader(csvfile, dialect='excel', delimiter=',')\n",
    "\n",
    "    # from each line, a list of row items, put each element in a dictionary\n",
    "    #   with a key representing the data\n",
    "    for line in countryReader:\n",
    "        #skip lines without data, specific for each file to catch non-data lines\n",
    "        if line[0] == '' or line[0].startswith('Televison') or line[0].startswith('SOURCE') \\\n",
    "                or line[0].startswith('Country'):\n",
    "            continue\n",
    "        else:\n",
    "            try:\n",
    "                # create a dictionary for each country\n",
    "                country = {}\n",
    "                # add each piece of data under a key representing that data\n",
    "                country['name'] = line[0]\n",
    "                country['life'] = line[1]\n",
    "                country['people_tv'] = line[2]\n",
    "                country['people_dr'] = line[3]\n",
    "                country['femalelife'] = line[4]\n",
    "                country['malelife'] = line[5]\n",
    "\n",
    "                # add this countryto the list\n",
    "                countryList.append(country)\n",
    "            # catch errors in file formatting (number items per line)  and print an error message\n",
    "            except IndexError:\n",
    "                print('Error: ', line)\n",
    "csvfile.close()\n",
    "\n",
    "print(\"Read\", len(countryList), \"country data\")\n",
    "\n",
    "# explore values of a numeric field\n",
    "fieldname = 'life'\n",
    "# collect the values in this list as numbers\n",
    "numberList = []\n",
    "for num, country in enumerate(countryList):\n",
    "    try:\n",
    "        #print(num, country['name'])\n",
    "        numberList.append(float(country[fieldname]))\n",
    "    except ValueError:\n",
    "        print('Number conversion error on value', country[fieldname],\n",
    "              'at line', num, 'Min and max not valid')\n",
    "\n",
    "# report the average, max and min values and the first ones\n",
    "maxval = max(numberList)\n",
    "#print(numberList.index(maxval))\n",
    "maxname = countryList[numberList.index(maxval)]['name']\n",
    "minval = min(numberList)\n",
    "#print(numberList.index(minval))\n",
    "minname = countryList[numberList.index(minval)]['name']\n",
    "avg = sum(numberList) / len(numberList)\n",
    "print('Field', fieldname, '(First) Maximum', maxval, 'at', maxname)\n",
    "print('Field', fieldname, '(First) Minimum', minval, 'at', minname)\n",
    "print('Field', 'Average', avg)"
   ]
  }
 ],
 "metadata": {
  "hide_input": false,
  "kernelspec": {
   "display_name": "Python 3",
   "language": "python",
   "name": "python3"
  },
  "language_info": {
   "codemirror_mode": {
    "name": "ipython",
    "version": 3
   },
   "file_extension": ".py",
   "mimetype": "text/x-python",
   "name": "python",
   "nbconvert_exporter": "python",
   "pygments_lexer": "ipython3",
   "version": "3.6.4"
  }
 },
 "nbformat": 4,
 "nbformat_minor": 2
}
