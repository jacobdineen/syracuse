{
 "cells": [
  {
   "cell_type": "markdown",
   "metadata": {},
   "source": [
    "Now you try: Create a dictionary of at least five contacts with first names and phone numbers, sort the list in alphabetical order, and print the contacts with their phone numbers."
   ]
  },
  {
   "cell_type": "code",
   "execution_count": 35,
   "metadata": {
    "ExecuteTime": {
     "end_time": "2018-07-26T00:14:17.222160Z",
     "start_time": "2018-07-26T00:14:17.213184Z"
    }
   },
   "outputs": [
    {
     "name": "stdout",
     "output_type": "stream",
     "text": [
      "-------------------------------------------------------------\n",
      "Using Index\n",
      "-------------------------------------------------------------\n",
      "Dave 486-456-7891\n",
      "Kat 546-785-7891\n",
      "bailee 894-456-7891\n",
      "jake 123-456-7891\n",
      "mandy 123-776-7891\n",
      "-------------------------------------------------------------\n",
      "Using keys/values\n",
      "-------------------------------------------------------------\n",
      "jake 123-456-7891\n",
      "mandy 123-776-7891\n",
      "bailee 894-456-7891\n",
      "Dave 486-456-7891\n",
      "Kat 546-785-7891\n"
     ]
    }
   ],
   "source": [
    "phone = {'jake' : '123-456-7891', 'mandy' : '123-776-7891', 'bailee': '894-456-7891','Dave': '486-456-7891', 'Kat': '546-785-7891'}\n",
    "#Keys, Values, Items\n",
    "print('-------------------------------------------------------------')\n",
    "print('Using Index')\n",
    "print('-------------------------------------------------------------')\n",
    "for key in sorted(phone):\n",
    "    print(key, phone[key])\n",
    "\n",
    "print('-------------------------------------------------------------')\n",
    "print('Using keys/values')\n",
    "print('-------------------------------------------------------------')\n",
    "for key,value in phone.items():\n",
    "    print(key,value)"
   ]
  }
 ],
 "metadata": {
  "hide_input": false,
  "kernelspec": {
   "display_name": "Python 3",
   "language": "python",
   "name": "python3"
  },
  "language_info": {
   "codemirror_mode": {
    "name": "ipython",
    "version": 3
   },
   "file_extension": ".py",
   "mimetype": "text/x-python",
   "name": "python",
   "nbconvert_exporter": "python",
   "pygments_lexer": "ipython3",
   "version": "3.6.4"
  }
 },
 "nbformat": 4,
 "nbformat_minor": 2
}
