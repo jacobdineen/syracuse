{
 "cells": [
  {
   "cell_type": "code",
   "execution_count": 28,
   "metadata": {
    "ExecuteTime": {
     "end_time": "2018-07-12T03:20:35.000684Z",
     "start_time": "2018-07-12T03:20:34.993703Z"
    }
   },
   "outputs": [
    {
     "name": "stdout",
     "output_type": "stream",
     "text": [
      "1 a\n",
      "2 b\n",
      "3 c\n",
      "4 apple\n",
      "5 banana\n",
      "6 at\n",
      "7 car\n",
      "8 do\n",
      "9 am\n",
      "10 bike\n"
     ]
    },
    {
     "data": {
      "text/plain": [
       "[(1, 'a'),\n",
       " (2, 'b'),\n",
       " (3, 'c'),\n",
       " (4, 'apple'),\n",
       " (5, 'banana'),\n",
       " (6, 'at'),\n",
       " (7, 'car'),\n",
       " (8, 'do'),\n",
       " (9, 'am'),\n",
       " (10, 'bike')]"
      ]
     },
     "execution_count": 28,
     "metadata": {},
     "output_type": "execute_result"
    }
   ],
   "source": [
    "#Activity 1\n",
    "samples = ['a', 'b', 'c', 'apple', 'banana', 'at', 'car', 'do', 'am', 'bike']\n",
    "for i,j in enumerate(samples):\n",
    "    print(i+1,j)\n",
    "    \n",
    "[(i+1,j) for i,j in enumerate(samples)]\n"
   ]
  },
  {
   "cell_type": "code",
   "execution_count": 40,
   "metadata": {
    "ExecuteTime": {
     "end_time": "2018-07-12T03:26:32.720332Z",
     "start_time": "2018-07-12T03:26:32.713350Z"
    }
   },
   "outputs": [
    {
     "name": "stdout",
     "output_type": "stream",
     "text": [
      "list\n",
      "a\n",
      "b\n",
      "c\n",
      "at\n",
      "car\n",
      "do\n"
     ]
    },
    {
     "data": {
      "text/plain": [
       "['list', 'a', 'b', 'c', 'at', 'car', 'do']"
      ]
     },
     "execution_count": 40,
     "metadata": {},
     "output_type": "execute_result"
    }
   ],
   "source": [
    "samples = ['list', 'string', 'a', 'b', 'c', 'apple', 'banana', 'at', 'car', 'do']\n",
    "for i in samples:\n",
    "    if len(i) < 5:\n",
    "        print(i)\n",
    "        \n",
    "c = [i for i in samples if len(i) < 5]\n",
    "c"
   ]
  }
 ],
 "metadata": {
  "hide_input": false,
  "kernelspec": {
   "display_name": "Python 3",
   "language": "python",
   "name": "python3"
  },
  "language_info": {
   "codemirror_mode": {
    "name": "ipython",
    "version": 3
   },
   "file_extension": ".py",
   "mimetype": "text/x-python",
   "name": "python",
   "nbconvert_exporter": "python",
   "pygments_lexer": "ipython3",
   "version": "3.6.4"
  }
 },
 "nbformat": 4,
 "nbformat_minor": 2
}
