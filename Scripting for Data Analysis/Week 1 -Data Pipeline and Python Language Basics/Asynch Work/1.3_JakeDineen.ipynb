{
 "cells": [
  {
   "cell_type": "markdown",
   "metadata": {},
   "source": [
    "Jacob Dineen\n",
    "\n",
    "IST 652\n",
    "\n"
   ]
  },
  {
   "cell_type": "markdown",
   "metadata": {},
   "source": [
    "### Activity 1:\n",
    "\n",
    "What will the following code print out?\n",
    "\n",
    "x = 43\n",
    "\n",
    "x = x + 1\n",
    "\n",
    "print (x)\n",
    "\n",
    "a) 43\n",
    "b) 44\n",
    "c) x + 1\n",
    "d) Error because x = x + 1 is not possible mathematically"
   ]
  },
  {
   "cell_type": "code",
   "execution_count": 1,
   "metadata": {
    "ExecuteTime": {
     "end_time": "2018-07-12T02:14:48.140632Z",
     "start_time": "2018-07-12T02:14:48.132147Z"
    }
   },
   "outputs": [
    {
     "name": "stdout",
     "output_type": "stream",
     "text": [
      "44\n"
     ]
    }
   ],
   "source": [
    "#Answer\n",
    "# B. \n",
    "\n",
    "x = 43\n",
    "x = x +1\n",
    "print(x)"
   ]
  },
  {
   "cell_type": "markdown",
   "metadata": {},
   "source": [
    "### Activity 2:\n",
    "\n",
    "Write a sequence of statements into the Python interpreter to prompt the user for hours and rate per hour, \n",
    "\n",
    "printing each one, and then to compute gross pay as (hours * rate). Your output lines should look something like:\n",
    "\n",
    "Enter Hours: 35\n",
    "\n",
    "Enter Rate: 2.75\n",
    "\n",
    "Pay: 96.25\n",
    "\n",
    "Don’t worry about making sure that Pay has exactly two digits after the decimal point.\n",
    "Submit your code and the output by doing a copy/paste from the Python interpreter."
   ]
  },
  {
   "cell_type": "code",
   "execution_count": 22,
   "metadata": {
    "ExecuteTime": {
     "end_time": "2018-07-12T02:21:42.424836Z",
     "start_time": "2018-07-12T02:21:39.544904Z"
    },
    "scrolled": true
   },
   "outputs": [
    {
     "name": "stdout",
     "output_type": "stream",
     "text": [
      "Enter hours:35\n",
      "Enter Rate:2.75\n",
      "Pay: $96.25\n"
     ]
    }
   ],
   "source": [
    "#Answer for Activity 2\n",
    "hours = float(input('Enter hours:' , ))\n",
    "rate = float(input('Enter Rate:' ,))\n",
    "print('Pay: ${}'.format(hours*rate))\n"
   ]
  },
  {
   "cell_type": "markdown",
   "metadata": {},
   "source": [
    "### Activity 3:\n",
    "\n",
    "Assume that we execute the following assignment statements:\n",
    "\n",
    "width = 17\n",
    "\n",
    "height = 12.0\n",
    "\n",
    "For each of the following expressions, write the value of the expression and its type.\n",
    "1. width / 2\n",
    "2. width / 2.0\n",
    "3. height / 3\n",
    "4. 1 + 2 * 5\n",
    "\n",
    "Use the Python interpreter to check your answers. Submit your answers."
   ]
  },
  {
   "cell_type": "code",
   "execution_count": 27,
   "metadata": {
    "ExecuteTime": {
     "end_time": "2018-07-12T02:30:19.367446Z",
     "start_time": "2018-07-12T02:30:19.359467Z"
    }
   },
   "outputs": [
    {
     "name": "stdout",
     "output_type": "stream",
     "text": [
      "Question 1: |Type <class 'float'>: | Answer 8.5\n",
      "Question 2: |Type <class 'float'>: | Answer 8.5\n",
      "Question 3: |Type <class 'float'>: | Answer 4.0\n",
      "Question 4: |Type <class 'int'>: | Answer 11\n"
     ]
    }
   ],
   "source": [
    "#Answer for Activity 3\n",
    "width = 17\n",
    "height = 12.0\n",
    "\n",
    "width_by2 = width/2\n",
    "width_by2float = width/2.0\n",
    "height_by3 = height/3\n",
    "arith = 1 + 2 * 5\n",
    "\n",
    "def printanswer(i,x):\n",
    "    print('Question {}: |Type {}: | Answer {}'.format(i, type(x), x))\n",
    "    \n",
    "printanswer(1,width_by2)\n",
    "printanswer(2,width_by2float)\n",
    "printanswer(3,height_by3)\n",
    "printanswer(4,arith)"
   ]
  }
 ],
 "metadata": {
  "hide_input": false,
  "kernelspec": {
   "display_name": "Python 3",
   "language": "python",
   "name": "python3"
  },
  "language_info": {
   "codemirror_mode": {
    "name": "ipython",
    "version": 3
   },
   "file_extension": ".py",
   "mimetype": "text/x-python",
   "name": "python",
   "nbconvert_exporter": "python",
   "pygments_lexer": "ipython3",
   "version": "3.6.4"
  }
 },
 "nbformat": 4,
 "nbformat_minor": 2
}
