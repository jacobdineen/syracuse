{
 "cells": [
  {
   "cell_type": "code",
   "execution_count": 36,
   "metadata": {
    "ExecuteTime": {
     "end_time": "2018-07-12T02:55:44.454904Z",
     "start_time": "2018-07-12T02:55:41.567624Z"
    }
   },
   "outputs": [
    {
     "name": "stdout",
     "output_type": "stream",
     "text": [
      "Please enter your score:0.95\n",
      "Grade: A\n"
     ]
    }
   ],
   "source": [
    "user_score = float(input(\"Please enter your score:\" , ))\n",
    "if (float(user_score) >= 0.9) and (float(user_score) < 1.0):\n",
    "    print('Grade: A')\n",
    "elif (float(user_score) >= .8) and (float(user_score) < .9):\n",
    "    print('Grade: B')\n",
    "elif (float(user_score) >= .7) and (float(user_score) < .8):\n",
    "    print('Grade: C')\n",
    "elif (float(user_score) >= .6) and (float(user_score) < .7) :\n",
    "    print('Grade: D')\n",
    "elif float(user_score) < .6 :\n",
    "    print('Grade: F')\n",
    "elif (float(user_score) > 1.0) or (float(user_score) < 0.0):\n",
    "    print('Invalid Range, Bad Score')\n"
   ]
  },
  {
   "cell_type": "code",
   "execution_count": 41,
   "metadata": {
    "ExecuteTime": {
     "end_time": "2018-07-12T02:57:46.608700Z",
     "start_time": "2018-07-12T02:57:41.630455Z"
    }
   },
   "outputs": [
    {
     "name": "stdout",
     "output_type": "stream",
     "text": [
      "Please enter your score:perfect\n",
      "Please Enter A Numeric Value, Bad Score\n"
     ]
    }
   ],
   "source": [
    "user_score = input(\"Please enter your score:\" , )\n",
    "if user_score == 'perfect':\n",
    "    print(\"Please Enter A Numeric Value, Bad Score\")\n",
    "elif (float(user_score) >= 0.9) and (float(user_score) < 1.0):\n",
    "    print('Grade: A')\n",
    "elif (float(user_score) >= .8) and (float(user_score) < .9):\n",
    "    print('Grade: B')\n",
    "elif (float(user_score) >= .7) and (float(user_score) < .8):\n",
    "    print('Grade: C')\n",
    "elif (float(user_score) >= .6) and (float(user_score) < .7) :\n",
    "    print('Grade: D')\n",
    "elif float(user_score) < .6 :\n",
    "    print('Grade: F')\n",
    "elif (float(user_score) > 1.0) or (float(user_score) < 0.0):\n",
    "    print('Invalid Range, Bad Score')\n",
    "\n"
   ]
  },
  {
   "cell_type": "code",
   "execution_count": 42,
   "metadata": {
    "ExecuteTime": {
     "end_time": "2018-07-12T02:57:54.790405Z",
     "start_time": "2018-07-12T02:57:52.778739Z"
    }
   },
   "outputs": [
    {
     "name": "stdout",
     "output_type": "stream",
     "text": [
      "Please enter your score:10.0\n",
      "Invalid Range, Bad Score\n"
     ]
    }
   ],
   "source": [
    "user_score = input(\"Please enter your score:\" , )\n",
    "if user_score == 'perfect':\n",
    "    print(\"Please Enter A Numeric Value\")\n",
    "elif (float(user_score) >= 0.9) and (float(user_score) < 1.0):\n",
    "    print('Grade: A')\n",
    "elif (float(user_score) >= .8) and (float(user_score) < .9):\n",
    "    print('Grade: B')\n",
    "elif (float(user_score) >= .7) and (float(user_score) < .8):\n",
    "    print('Grade: C')\n",
    "elif (float(user_score) >= .6) and (float(user_score) < .7) :\n",
    "    print('Grade: D')\n",
    "elif float(user_score) < .6 :\n",
    "    print('Grade: F')\n",
    "elif (float(user_score) > 1.0) or (float(user_score) < 0.0):\n",
    "    print('Invalid Range, Bad Score')\n"
   ]
  },
  {
   "cell_type": "code",
   "execution_count": 43,
   "metadata": {
    "ExecuteTime": {
     "end_time": "2018-07-12T02:58:03.990963Z",
     "start_time": "2018-07-12T02:58:02.545704Z"
    }
   },
   "outputs": [
    {
     "name": "stdout",
     "output_type": "stream",
     "text": [
      "Please enter your score:0.75\n",
      "Grade: C\n"
     ]
    }
   ],
   "source": [
    "user_score = input(\"Please enter your score:\" , )\n",
    "if user_score == 'perfect':\n",
    "    print(\"Please Enter A Numeric Value\")\n",
    "elif (float(user_score) >= 0.9) and (float(user_score) < 1.0):\n",
    "    print('Grade: A')\n",
    "elif (float(user_score) >= .8) and (float(user_score) < .9):\n",
    "    print('Grade: B')\n",
    "elif (float(user_score) >= .7) and (float(user_score) < .8):\n",
    "    print('Grade: C')\n",
    "elif (float(user_score) >= .6) and (float(user_score) < .7) :\n",
    "    print('Grade: D')\n",
    "elif float(user_score) < .6 :\n",
    "    print('Grade: F')\n",
    "elif (float(user_score) > 1.0) or (float(user_score) < 0.0):\n",
    "    print('Invalid Range, Bad Score')\n"
   ]
  },
  {
   "cell_type": "code",
   "execution_count": 45,
   "metadata": {
    "ExecuteTime": {
     "end_time": "2018-07-12T02:58:15.333231Z",
     "start_time": "2018-07-12T02:58:13.872473Z"
    }
   },
   "outputs": [
    {
     "name": "stdout",
     "output_type": "stream",
     "text": [
      "Please enter your score:0.5\n",
      "Grade: F\n"
     ]
    }
   ],
   "source": [
    "user_score = input(\"Please enter your score:\" , )\n",
    "if user_score == 'perfect':\n",
    "    print(\"Please Enter A Numeric Value\")\n",
    "elif (float(user_score) >= 0.9) and (float(user_score) < 1.0):\n",
    "    print('Grade: A')\n",
    "elif (float(user_score) >= .8) and (float(user_score) < .9):\n",
    "    print('Grade: B')\n",
    "elif (float(user_score) >= .7) and (float(user_score) < .8):\n",
    "    print('Grade: C')\n",
    "elif (float(user_score) >= .6) and (float(user_score) < .7) :\n",
    "    print('Grade: D')\n",
    "elif float(user_score) < .6 :\n",
    "    print('Grade: F')\n",
    "elif (float(user_score) > 1.0) or (float(user_score) < 0.0):\n",
    "    print('Invalid Range, Bad Score')\n"
   ]
  }
 ],
 "metadata": {
  "hide_input": false,
  "kernelspec": {
   "display_name": "Python 3",
   "language": "python",
   "name": "python3"
  },
  "language_info": {
   "codemirror_mode": {
    "name": "ipython",
    "version": 3
   },
   "file_extension": ".py",
   "mimetype": "text/x-python",
   "name": "python",
   "nbconvert_exporter": "python",
   "pygments_lexer": "ipython3",
   "version": "3.6.4"
  }
 },
 "nbformat": 4,
 "nbformat_minor": 2
}
