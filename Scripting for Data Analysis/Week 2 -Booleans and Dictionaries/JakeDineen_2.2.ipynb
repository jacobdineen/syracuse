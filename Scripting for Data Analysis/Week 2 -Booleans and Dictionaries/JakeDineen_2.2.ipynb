{
 "cells": [
  {
   "cell_type": "markdown",
   "metadata": {},
   "source": [
    "### Jake Dineen - 2.2 More About Strings Activity"
   ]
  },
  {
   "cell_type": "code",
   "execution_count": 4,
   "metadata": {
    "ExecuteTime": {
     "end_time": "2018-07-14T03:39:03.636926Z",
     "start_time": "2018-07-14T03:39:03.633935Z"
    }
   },
   "outputs": [],
   "source": [
    "#Var Assignment\n",
    "mp = 'Today is a Great DAY'"
   ]
  },
  {
   "cell_type": "code",
   "execution_count": 5,
   "metadata": {
    "ExecuteTime": {
     "end_time": "2018-07-14T03:39:16.057222Z",
     "start_time": "2018-07-14T03:39:16.053233Z"
    }
   },
   "outputs": [
    {
     "data": {
      "text/plain": [
       "'today is a great day'"
      ]
     },
     "execution_count": 5,
     "metadata": {},
     "output_type": "execute_result"
    }
   ],
   "source": [
    "mp.lower()"
   ]
  },
  {
   "cell_type": "code",
   "execution_count": 6,
   "metadata": {
    "ExecuteTime": {
     "end_time": "2018-07-14T03:39:28.322548Z",
     "start_time": "2018-07-14T03:39:28.319556Z"
    }
   },
   "outputs": [
    {
     "data": {
      "text/plain": [
       "'TODAY IS A GREAT DAY'"
      ]
     },
     "execution_count": 6,
     "metadata": {},
     "output_type": "execute_result"
    }
   ],
   "source": [
    "mp.upper()"
   ]
  },
  {
   "cell_type": "code",
   "execution_count": 8,
   "metadata": {
    "ExecuteTime": {
     "end_time": "2018-07-14T03:39:38.184071Z",
     "start_time": "2018-07-14T03:39:38.180082Z"
    }
   },
   "outputs": [
    {
     "data": {
      "text/plain": [
       "'Today is a Great DAY'"
      ]
     },
     "execution_count": 8,
     "metadata": {},
     "output_type": "execute_result"
    }
   ],
   "source": [
    "mp.strip()"
   ]
  },
  {
   "cell_type": "code",
   "execution_count": 10,
   "metadata": {
    "ExecuteTime": {
     "end_time": "2018-07-14T03:40:07.484097Z",
     "start_time": "2018-07-14T03:40:07.481105Z"
    }
   },
   "outputs": [
    {
     "data": {
      "text/plain": [
       "True"
      ]
     },
     "execution_count": 10,
     "metadata": {},
     "output_type": "execute_result"
    }
   ],
   "source": [
    "mp.startswith('T')"
   ]
  },
  {
   "cell_type": "code",
   "execution_count": 11,
   "metadata": {
    "ExecuteTime": {
     "end_time": "2018-07-14T03:40:18.897790Z",
     "start_time": "2018-07-14T03:40:18.893801Z"
    }
   },
   "outputs": [
    {
     "data": {
      "text/plain": [
       "19"
      ]
     },
     "execution_count": 11,
     "metadata": {},
     "output_type": "execute_result"
    }
   ],
   "source": [
    "mp.find('Y')"
   ]
  }
 ],
 "metadata": {
  "hide_input": false,
  "kernelspec": {
   "display_name": "Python 3",
   "language": "python",
   "name": "python3"
  },
  "language_info": {
   "codemirror_mode": {
    "name": "ipython",
    "version": 3
   },
   "file_extension": ".py",
   "mimetype": "text/x-python",
   "name": "python",
   "nbconvert_exporter": "python",
   "pygments_lexer": "ipython3",
   "version": "3.6.4"
  }
 },
 "nbformat": 4,
 "nbformat_minor": 2
}
