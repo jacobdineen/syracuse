{
 "cells": [
  {
   "cell_type": "code",
   "execution_count": null,
   "metadata": {},
   "outputs": [],
   "source": []
  },
  {
   "cell_type": "code",
   "execution_count": 26,
   "metadata": {
    "ExecuteTime": {
     "end_time": "2018-07-14T04:39:01.466567Z",
     "start_time": "2018-07-14T04:39:01.457591Z"
    }
   },
   "outputs": [
    {
     "name": "stdout",
     "output_type": "stream",
     "text": [
      "Number of teams:  27\n",
      "Line:  ['Atlanta', '13993', '20.06']\n",
      "Line:  ['Boston', '14916', '22.54']\n",
      "Line:  ['Charlotte', '23901', '17']\n",
      "Line:  ['Chicago', '18404', '21.98']\n",
      "Line:  ['Cleveland', '16969', '19.63']\n",
      "Line:  ['Dallas', '16868', '17.05']\n",
      "Line:  ['Denver', '12668', '17.4']\n",
      "Line:  ['Detroit', '21454', '24.42']\n",
      "Line:  ['Golden_State', '15025', '17.04']\n",
      "Line:  ['Houston', '15846', '17.56']\n",
      "Line:  ['Indiana', '12885', '13.77']\n",
      "Line:  ['LA_Clippers', '11869', '21.95']\n",
      "Line:  ['LA_Lakers', '17378', '29.18']\n",
      "Line:  ['Miami', '15008', '17.6']\n",
      "Line:  ['Milwaukee', '16088', '14.08']\n",
      "Line:  ['Minnesota', '26160', '10.92']\n",
      "Line:  ['New_Jersey', '12160', '13.31']\n",
      "Line:  ['New_York', '17815', '22.7']\n",
      "Line:  ['Orlando', '15606', '20.47']\n",
      "Line:  ['Philadelphia', '14017', '19.04']\n",
      "Line:  ['Phoenix', '14114', '16.59']\n",
      "Line:  ['Portland', '12884', '22.19']\n",
      "Line:  ['Sacramento', '17014', '16.96']\n",
      "Line:  ['San_Antonio', '14722', '16.79']\n",
      "Line:  ['Seattle', '12244', '18.11']\n",
      "Line:  ['Utah', '12616', '18.41']\n",
      "Line:  ['Washington', '11565', '14.55']\n"
     ]
    }
   ],
   "source": [
    "#Jake Dineen\n",
    "#Nba_Practice.py\n",
    "#Reading txt files\n",
    "nba = open('nba-attendance-1989.txt', 'r')\n",
    "count = 0\n",
    "\n",
    "nba_list = []\n",
    "\n",
    "for i in nba:\n",
    "    count += 1\n",
    "    textline = i.strip()\n",
    "    items = textline.split()\n",
    "    nba_list.append(items)\n",
    "    \n",
    "print('Number of teams: ', count)\n",
    "\n",
    "for i in nba_list:\n",
    "    print ('Line: ', i)"
   ]
  }
 ],
 "metadata": {
  "hide_input": false,
  "kernelspec": {
   "display_name": "Python 3",
   "language": "python",
   "name": "python3"
  },
  "language_info": {
   "codemirror_mode": {
    "name": "ipython",
    "version": 3
   },
   "file_extension": ".py",
   "mimetype": "text/x-python",
   "name": "python",
   "nbconvert_exporter": "python",
   "pygments_lexer": "ipython3",
   "version": "3.6.4"
  }
 },
 "nbformat": 4,
 "nbformat_minor": 2
}
