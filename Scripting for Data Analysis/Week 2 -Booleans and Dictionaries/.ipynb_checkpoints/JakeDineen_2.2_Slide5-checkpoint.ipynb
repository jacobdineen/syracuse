{
 "cells": [
  {
   "cell_type": "code",
   "execution_count": 49,
   "metadata": {
    "ExecuteTime": {
     "end_time": "2018-07-14T03:55:58.360020Z",
     "start_time": "2018-07-14T03:55:58.354037Z"
    }
   },
   "outputs": [
    {
     "data": {
      "text/plain": [
       "'Extracted: 0.85'"
      ]
     },
     "execution_count": 49,
     "metadata": {},
     "output_type": "execute_result"
    }
   ],
   "source": [
    "#{:d} for int\n",
    "#{:.2f} #Format floating point w/ two decimals\n",
    "\n",
    "mystr = 'X-DSPAM-Confidence:0.8475'\n",
    "colon = int((mystr.find(':') + 1))\n",
    "string = float(mystr[colon:])\n",
    "'Extracted: {:.2f}'.format(string)\n",
    "\n",
    "mystr = 'X-DSPAM-Confidence:0.8475'\n",
    "mystr = mystr.split(sep= ':')\n",
    "'Extracted: {:.2f}'.format(float(mystr[1]))"
   ]
  }
 ],
 "metadata": {
  "hide_input": false,
  "kernelspec": {
   "display_name": "Python 3",
   "language": "python",
   "name": "python3"
  },
  "language_info": {
   "codemirror_mode": {
    "name": "ipython",
    "version": 3
   },
   "file_extension": ".py",
   "mimetype": "text/x-python",
   "name": "python",
   "nbconvert_exporter": "python",
   "pygments_lexer": "ipython3",
   "version": "3.6.4"
  }
 },
 "nbformat": 4,
 "nbformat_minor": 2
}
