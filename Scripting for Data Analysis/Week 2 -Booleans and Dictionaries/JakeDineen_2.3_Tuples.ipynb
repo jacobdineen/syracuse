{
 "cells": [
  {
   "cell_type": "markdown",
   "metadata": {},
   "source": [
    "Create a sequence of items in Python. \n",
    "\n",
    "The sequence should include at least five items. \n",
    "\n",
    "Identify the length of the tuple and list the items in your tuple using Python."
   ]
  },
  {
   "cell_type": "code",
   "execution_count": 7,
   "metadata": {
    "ExecuteTime": {
     "end_time": "2018-07-14T04:07:42.839625Z",
     "start_time": "2018-07-14T04:07:42.835635Z"
    }
   },
   "outputs": [
    {
     "name": "stdout",
     "output_type": "stream",
     "text": [
      "length of tuple is: 7\n"
     ]
    }
   ],
   "source": [
    "var = ('person', 'car', 'bike', 'house', 'home', 'dog', 'cat')\n",
    "print('length of tuple is: {}'.format(len(var)))\n"
   ]
  },
  {
   "cell_type": "code",
   "execution_count": 20,
   "metadata": {
    "ExecuteTime": {
     "end_time": "2018-07-14T04:10:39.469571Z",
     "start_time": "2018-07-14T04:10:39.465581Z"
    }
   },
   "outputs": [
    {
     "name": "stdout",
     "output_type": "stream",
     "text": [
      "1 person\n",
      "2 car\n",
      "3 bike\n",
      "4 house\n",
      "5 home\n",
      "6 dog\n",
      "7 cat\n"
     ]
    }
   ],
   "source": [
    "for i,j in enumerate(var):\n",
    "    print(i+1,j)\n"
   ]
  },
  {
   "cell_type": "code",
   "execution_count": 29,
   "metadata": {
    "ExecuteTime": {
     "end_time": "2018-07-14T04:12:43.623246Z",
     "start_time": "2018-07-14T04:12:43.619257Z"
    }
   },
   "outputs": [
    {
     "data": {
      "text/plain": [
       "'size in bytes: 104'"
      ]
     },
     "execution_count": 29,
     "metadata": {},
     "output_type": "execute_result"
    }
   ],
   "source": [
    "import sys\n",
    "'size in bytes: {}'.format(sys.getsizeof(var))"
   ]
  }
 ],
 "metadata": {
  "hide_input": false,
  "kernelspec": {
   "display_name": "Python 3",
   "language": "python",
   "name": "python3"
  },
  "language_info": {
   "codemirror_mode": {
    "name": "ipython",
    "version": 3
   },
   "file_extension": ".py",
   "mimetype": "text/x-python",
   "name": "python",
   "nbconvert_exporter": "python",
   "pygments_lexer": "ipython3",
   "version": "3.6.4"
  }
 },
 "nbformat": 4,
 "nbformat_minor": 2
}
