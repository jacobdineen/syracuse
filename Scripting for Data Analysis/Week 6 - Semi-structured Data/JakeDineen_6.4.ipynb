{
 "cells": [
  {
   "cell_type": "code",
   "execution_count": 41,
   "metadata": {
    "ExecuteTime": {
     "end_time": "2018-08-15T23:33:22.959750Z",
     "start_time": "2018-08-15T23:33:22.858007Z"
    }
   },
   "outputs": [
    {
     "name": "stdout",
     "output_type": "stream",
     "text": [
      "title {} Italy bridge: State of emergency follows Genoa disaster\n",
      "description {} Italy's prime minister says it will last 12 months, and promises €5m to the Liguria region.\n",
      "link {} https://www.bbc.co.uk/news/world-europe-45193614\n",
      "guid {'isPermaLink': 'true'} https://www.bbc.co.uk/news/world-europe-45193614\n",
      "pubDate {} Wed, 15 Aug 2018 17:55:39 GMT\n",
      "{http://search.yahoo.com/mrss/}thumbnail {'width': '976', 'height': '549', 'url': 'http://c.files.bbci.co.uk/BD8B/production/_103032584_048685917.jpg'} None\n"
     ]
    }
   ],
   "source": [
    "import urllib\n",
    "from urllib import request\n",
    "url = \"http://feeds.bbci.co.uk/news/rss.xml\"\n",
    "from bs4 import BeautifulSoup\n",
    "import urllib.request\n",
    "xmlstring = urllib.request.urlopen(url).read().decode('utf8')\n",
    "len(xmlstring)\n",
    "xmlstring[:500]\n",
    "import xml.etree.ElementTree as etree\n",
    "import io\n",
    "xmlfile = io.StringIO(xmlstring)\n",
    "tree = etree.parse(xmlfile)\n",
    "root = tree.getroot()\n",
    "root.tag\n",
    "root.attrib\n",
    "root.text\n",
    "\n",
    "firstchild = root[0]\n",
    "firstchild.tag\n",
    "firstchild.attrib\n",
    "firstchild.text\n",
    "\n",
    "\n",
    "firstgrandchild = firstchild[0]\n",
    "firstgrandchild.text\n",
    "\n",
    "itemlist = firstchild.findall('item')\n",
    "firstitem = itemlist[0]\n",
    "for element in firstitem:\n",
    "    print(element.tag, element.attrib, element.text)\n"
   ]
  }
 ],
 "metadata": {
  "hide_input": false,
  "kernelspec": {
   "display_name": "Python 3",
   "language": "python",
   "name": "python3"
  },
  "language_info": {
   "codemirror_mode": {
    "name": "ipython",
    "version": 3
   },
   "file_extension": ".py",
   "mimetype": "text/x-python",
   "name": "python",
   "nbconvert_exporter": "python",
   "pygments_lexer": "ipython3",
   "version": "3.6.4"
  }
 },
 "nbformat": 4,
 "nbformat_minor": 2
}
