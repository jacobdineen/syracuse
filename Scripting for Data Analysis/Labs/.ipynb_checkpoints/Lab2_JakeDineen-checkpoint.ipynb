{
 "cells": [
  {
   "cell_type": "code",
   "execution_count": 64,
   "metadata": {
    "ExecuteTime": {
     "end_time": "2018-07-14T06:05:52.407137Z",
     "start_time": "2018-07-14T06:05:52.403148Z"
    }
   },
   "outputs": [],
   "source": [
    "#Load Dicts\n",
    "stock = {\"banana\": 6, \"apple\": 0, \"orange\": 32, \"pear\": 15}\n",
    "prices = {\"banana\": 4, \"apple\": 2, \"orange\": 1.5, \"pear\": 3}"
   ]
  },
  {
   "cell_type": "markdown",
   "metadata": {},
   "source": [
    "## a.\n",
    "Show the expression that gets the value of the stock dictionary at the key ‘orange’.\n",
    "\n",
    "Show a statement that adds an item to the stock dictionary called ‘cherry’ with some integer value and that adds ‘cherry’ to the prices dictionary with a numeric value. (Or pick your own fruit name.)"
   ]
  },
  {
   "cell_type": "code",
   "execution_count": 83,
   "metadata": {
    "ExecuteTime": {
     "end_time": "2018-07-14T06:08:18.972770Z",
     "start_time": "2018-07-14T06:08:18.963794Z"
    }
   },
   "outputs": [
    {
     "name": "stdout",
     "output_type": "stream",
     "text": [
      "The value of orange is: 32\n",
      "Cherry is now in the stock dict\n",
      "Cherry is now in the prices dict\n"
     ]
    }
   ],
   "source": [
    "#Checking the value for key 'orange' in stock dict\n",
    "stock['orange']\n",
    "print('The value of orange is: {}'.format( stock['orange']))\n",
    "\n",
    "#Add cherry to the stock dict\n",
    "stock['cherry'] = 4\n",
    "prices['cherry'] = 1\n",
    "\n",
    "#Simple check\n",
    "if 'cherry' in stock:\n",
    "    print('Cherry is now in the stock dict')\n",
    "if 'cherry' in prices:\n",
    "    print('Cherry is now in the prices dict')"
   ]
  },
  {
   "cell_type": "markdown",
   "metadata": {},
   "source": [
    "## b.\n",
    "Write the code for a loop that iterates over the stock dictionary and prints each key and value."
   ]
  },
  {
   "cell_type": "code",
   "execution_count": 84,
   "metadata": {
    "ExecuteTime": {
     "end_time": "2018-07-14T06:08:20.312282Z",
     "start_time": "2018-07-14T06:08:20.309290Z"
    }
   },
   "outputs": [
    {
     "name": "stdout",
     "output_type": "stream",
     "text": [
      "banana 6\n",
      "apple 0\n",
      "orange 32\n",
      "pear 15\n",
      "cherry 4\n"
     ]
    }
   ],
   "source": [
    "for key, value in stock.items(): #This method returns a list of tuple pairs.\n",
    "    print(key, value)\n",
    "#https://www.tutorialspoint.com/python/dictionary_items.htm"
   ]
  },
  {
   "cell_type": "markdown",
   "metadata": {},
   "source": [
    "## c.\n",
    "Suppose that we have a list:\n",
    "\n",
    "groceries = [‘apple’, ‘banana’, ‘pear’]\n",
    "\n",
    "Write the code that will sum the total number in stock of the items in the groceries list."
   ]
  },
  {
   "cell_type": "code",
   "execution_count": 95,
   "metadata": {
    "ExecuteTime": {
     "end_time": "2018-07-14T06:12:17.885044Z",
     "start_time": "2018-07-14T06:12:17.876068Z"
    }
   },
   "outputs": [
    {
     "name": "stdout",
     "output_type": "stream",
     "text": [
      "Stock Count mapping: 21\n",
      "Stock Count List Comprehension: 21\n"
     ]
    }
   ],
   "source": [
    "#Load List\n",
    "groceries = ['apple', 'banana', 'pear']\n",
    "\n",
    "import numpy as np #For operations\n",
    "\n",
    "#Trying out mapping\n",
    "np.sum(list(map(stock.get, groceries)))\n",
    "print('Stock Count mapping: {}'.format(np.sum(list(map(stock.get, groceries)))))\n",
    "\n",
    "#Trying List Comprehension\n",
    "np.sum([stock[i] for i in groceries])\n",
    "print('Stock Count List Comprehension: {}'.format(np.sum([stock[i] for i in groceries])))\n",
    "\n",
    "#Tried out two different methods here. Listcomp was more familiar and easier to understand, but I've heard \n",
    "#Mapping is faster when scaling."
   ]
  },
  {
   "cell_type": "markdown",
   "metadata": {},
   "source": [
    "## d.\n",
    "Write the code that can print out the total value in stock of all the items. \n",
    "\n",
    "This program can iterate over the stock dictionary and for each item multiply the number in stock times the price of that item in the prices dictionary. (This can include the items for ‘cherry’ or not, as you choose.)"
   ]
  },
  {
   "cell_type": "code",
   "execution_count": 96,
   "metadata": {
    "ExecuteTime": {
     "end_time": "2018-07-14T06:12:45.174775Z",
     "start_time": "2018-07-14T06:12:45.169788Z"
    }
   },
   "outputs": [
    {
     "name": "stdout",
     "output_type": "stream",
     "text": [
      "{'banana': 24, 'apple': 0, 'orange': 48.0, 'pear': 45, 'cherry': 4}\n",
      "Total Price*Stock of Inventory = $121.0\n"
     ]
    }
   ],
   "source": [
    "#Creating a new dict with the stored keys/values of the multiplication\n",
    "print({key: price * stock[key] for key, price in prices.items()} )\n",
    "\n",
    "#Print out the total cost/rev of inventory in stock.\n",
    "print('Total Price*Stock of Inventory = ${}'.format(sum(price * stock[key] for key, price in prices.items())))"
   ]
  }
 ],
 "metadata": {
  "hide_input": false,
  "kernelspec": {
   "display_name": "Python 3",
   "language": "python",
   "name": "python3"
  },
  "language_info": {
   "codemirror_mode": {
    "name": "ipython",
    "version": 3
   },
   "file_extension": ".py",
   "mimetype": "text/x-python",
   "name": "python",
   "nbconvert_exporter": "python",
   "pygments_lexer": "ipython3",
   "version": "3.6.4"
  }
 },
 "nbformat": 4,
 "nbformat_minor": 2
}
