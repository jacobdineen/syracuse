{
 "cells": [
  {
   "cell_type": "markdown",
   "metadata": {},
   "source": [
    "## Prompt\n",
    "\n",
    "For the NBAfile.py program, for each line, create a string using string formatting that puts the team, attendance, and ticket prices into a formatted string. Each line should look something like:\n",
    "\n",
    "\n",
    "‘The attendance at Atlanta was 13993 and the ticket price was $20.06’\n",
    "\n",
    "\n",
    "Your program should then print these strings instead of the lines. Submit your code and the output of your program."
   ]
  },
  {
   "cell_type": "markdown",
   "metadata": {},
   "source": [
    "### Reading in the Data"
   ]
  },
  {
   "cell_type": "code",
   "execution_count": 21,
   "metadata": {
    "ExecuteTime": {
     "end_time": "2018-07-14T04:54:56.019381Z",
     "start_time": "2018-07-14T04:54:56.012400Z"
    }
   },
   "outputs": [],
   "source": [
    "#Work from asynch 2\n",
    "import pandas as pd\n",
    "import numpy as np\n",
    "from time import sleep\n",
    "\n",
    "nba = open('nba-attendance-1989.txt', 'r') #Read in data\n",
    "count = 0 #prime counter\n",
    "\n",
    "nba_list = []\n",
    "\n",
    "for i in nba:\n",
    "    count += 1\n",
    "    textline = i.strip()\n",
    "    items = textline.split()\n",
    "    nba_list.append(items)\n",
    "    "
   ]
  },
  {
   "cell_type": "markdown",
   "metadata": {},
   "source": [
    "## Lab One"
   ]
  },
  {
   "cell_type": "code",
   "execution_count": 25,
   "metadata": {
    "ExecuteTime": {
     "end_time": "2018-07-14T04:55:40.295215Z",
     "start_time": "2018-07-14T04:55:37.576854Z"
    }
   },
   "outputs": [
    {
     "name": "stdout",
     "output_type": "stream",
     "text": [
      "The attendance in Atlanta was 13993 and the ticket price was $20.06\n",
      "The attendance in Boston was 14916 and the ticket price was $22.54\n",
      "The attendance in Charlotte was 23901 and the ticket price was $17\n",
      "The attendance in Chicago was 18404 and the ticket price was $21.98\n",
      "The attendance in Cleveland was 16969 and the ticket price was $19.63\n",
      "The attendance in Dallas was 16868 and the ticket price was $17.05\n",
      "The attendance in Denver was 12668 and the ticket price was $17.4\n",
      "The attendance in Detroit was 21454 and the ticket price was $24.42\n",
      "The attendance in Golden_State was 15025 and the ticket price was $17.04\n",
      "The attendance in Houston was 15846 and the ticket price was $17.56\n",
      "The attendance in Indiana was 12885 and the ticket price was $13.77\n",
      "The attendance in LA_Clippers was 11869 and the ticket price was $21.95\n",
      "The attendance in LA_Lakers was 17378 and the ticket price was $29.18\n",
      "The attendance in Miami was 15008 and the ticket price was $17.6\n",
      "The attendance in Milwaukee was 16088 and the ticket price was $14.08\n",
      "The attendance in Minnesota was 26160 and the ticket price was $10.92\n",
      "The attendance in New_Jersey was 12160 and the ticket price was $13.31\n",
      "The attendance in New_York was 17815 and the ticket price was $22.7\n",
      "The attendance in Orlando was 15606 and the ticket price was $20.47\n",
      "The attendance in Philadelphia was 14017 and the ticket price was $19.04\n",
      "The attendance in Phoenix was 14114 and the ticket price was $16.59\n",
      "The attendance in Portland was 12884 and the ticket price was $22.19\n",
      "The attendance in Sacramento was 17014 and the ticket price was $16.96\n",
      "The attendance in San_Antonio was 14722 and the ticket price was $16.79\n",
      "The attendance in Seattle was 12244 and the ticket price was $18.11\n",
      "The attendance in Utah was 12616 and the ticket price was $18.41\n",
      "The attendance in Washington was 11565 and the ticket price was $14.55\n"
     ]
    }
   ],
   "source": [
    "#using regular loops\n",
    "for city, attendance, price in nba_list:\n",
    "    print('The attendance in {} was {} and the ticket price was ${}'.format(city, attendance, price))\n",
    "    sleep(.1)"
   ]
  }
 ],
 "metadata": {
  "hide_input": false,
  "kernelspec": {
   "display_name": "Python 3",
   "language": "python",
   "name": "python3"
  },
  "language_info": {
   "codemirror_mode": {
    "name": "ipython",
    "version": 3
   },
   "file_extension": ".py",
   "mimetype": "text/x-python",
   "name": "python",
   "nbconvert_exporter": "python",
   "pygments_lexer": "ipython3",
   "version": "3.6.4"
  }
 },
 "nbformat": 4,
 "nbformat_minor": 2
}
