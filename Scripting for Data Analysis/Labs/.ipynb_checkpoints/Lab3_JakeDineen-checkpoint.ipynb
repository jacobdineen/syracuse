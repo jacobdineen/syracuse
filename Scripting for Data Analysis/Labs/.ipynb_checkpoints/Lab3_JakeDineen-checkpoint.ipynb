{
 "cells": [
  {
   "cell_type": "markdown",
   "metadata": {},
   "source": [
    "# Problem 1\n",
    "\n",
    "What will the following Python program print out?\n",
    "\n",
    "def fred():\n",
    "    print \"Zap\"\n",
    "\n",
    "def jane():\n",
    "    print \"ABC\"\n",
    "    \n",
    "jane()\n",
    "\n",
    "fred()\n",
    "\n",
    "jane()\n",
    "\n",
    "\n",
    "### ANSWER BOLDED\n",
    "\n",
    "a) Zap ABC jane fred jane\n",
    "\n",
    "b) Zap ABC Zap\n",
    "\n",
    "c) ABC Zap jane\n",
    "\n",
    "#### d) ABC Zap ABC\n",
    "\n",
    "e) Zap Zap Zap\n"
   ]
  },
  {
   "cell_type": "code",
   "execution_count": 3,
   "metadata": {
    "ExecuteTime": {
     "end_time": "2018-07-15T05:12:41.280151Z",
     "start_time": "2018-07-15T05:12:41.274167Z"
    }
   },
   "outputs": [
    {
     "name": "stdout",
     "output_type": "stream",
     "text": [
      "ABC\n",
      "Zap\n",
      "ABC\n"
     ]
    }
   ],
   "source": [
    "#Test Run\n",
    "\n",
    "def fred():\n",
    "    print (\"Zap\")\n",
    "\n",
    "def jane():\n",
    "    print (\"ABC\")\n",
    "    \n",
    "jane()\n",
    "fred()\n",
    "jane()\n"
   ]
  },
  {
   "cell_type": "markdown",
   "metadata": {},
   "source": [
    "# Problem 2\n",
    "\n",
    "Rewrite your pay computation with time-and-a-half for overtime and create a function called computepay that takes two parameters (hours and rate).\n",
    "\n",
    "\n",
    "Enter Hours: 45\n",
    "\n",
    "Enter Rate: 10\n",
    "\n",
    "Pay: 475.0"
   ]
  },
  {
   "cell_type": "code",
   "execution_count": 3,
   "metadata": {
    "ExecuteTime": {
     "end_time": "2018-07-16T17:42:12.364670Z",
     "start_time": "2018-07-16T17:42:09.836914Z"
    }
   },
   "outputs": [
    {
     "name": "stdout",
     "output_type": "stream",
     "text": [
      "Enter Hours:50\n",
      "Enter Rate:10\n",
      "Pay: $550.0\n"
     ]
    }
   ],
   "source": [
    "Hours = float(input('Enter Hours:'))\n",
    "Rate = float(input('Enter Rate:'))\n",
    "\n",
    "def computepay(Hours, Rate):\n",
    "    if Hours > 40:\n",
    "        Pay = ((Hours - 40)* (Rate*1.5) + (40* Rate))\n",
    "        print('Pay: ${}'.format(Pay))\n",
    "    else:\n",
    "        Pay = Hours * Rate\n",
    "        print('Pay: ${}'.format(Pay))\n",
    "        \n",
    "computepay(Hours = Hours, Rate= Rate)"
   ]
  }
 ],
 "metadata": {
  "hide_input": false,
  "kernelspec": {
   "display_name": "Python 3",
   "language": "python",
   "name": "python3"
  },
  "language_info": {
   "codemirror_mode": {
    "name": "ipython",
    "version": 3
   },
   "file_extension": ".py",
   "mimetype": "text/x-python",
   "name": "python",
   "nbconvert_exporter": "python",
   "pygments_lexer": "ipython3",
   "version": "3.6.4"
  }
 },
 "nbformat": 4,
 "nbformat_minor": 2
}
