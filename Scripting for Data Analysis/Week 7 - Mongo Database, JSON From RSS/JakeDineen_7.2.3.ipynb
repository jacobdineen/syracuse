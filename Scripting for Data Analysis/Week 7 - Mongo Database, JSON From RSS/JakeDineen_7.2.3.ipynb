{
 "cells": [
  {
   "cell_type": "code",
   "execution_count": 5,
   "metadata": {
    "ExecuteTime": {
     "end_time": "2018-08-23T05:52:00.415992Z",
     "start_time": "2018-08-23T05:52:00.244451Z"
    }
   },
   "outputs": [],
   "source": [
    "import urllib.request\n",
    "import json\n",
    "earthquake_url = \"http://earthquake.usgs.gov/earthquakes/feed/v1.0/summary/significant_month.geojson\"\n",
    "response = urllib.request.urlopen(earthquake_url)\n",
    "json_string = response.read().decode('utf-8')"
   ]
  },
  {
   "cell_type": "code",
   "execution_count": 7,
   "metadata": {
    "ExecuteTime": {
     "end_time": "2018-08-23T06:01:21.165798Z",
     "start_time": "2018-08-23T06:01:21.157820Z"
    }
   },
   "outputs": [
    {
     "data": {
      "text/plain": [
       "dict"
      ]
     },
     "execution_count": 7,
     "metadata": {},
     "output_type": "execute_result"
    }
   ],
   "source": [
    "eq_parsed_json = json.loads(json_string)\n",
    "type(eq_parsed_json)\n"
   ]
  },
  {
   "cell_type": "code",
   "execution_count": 8,
   "metadata": {
    "ExecuteTime": {
     "end_time": "2018-08-23T06:01:23.222848Z",
     "start_time": "2018-08-23T06:01:23.219856Z"
    }
   },
   "outputs": [
    {
     "data": {
      "text/plain": [
       "dict_keys(['type', 'metadata', 'features', 'bbox'])"
      ]
     },
     "execution_count": 8,
     "metadata": {},
     "output_type": "execute_result"
    }
   ],
   "source": [
    "eq_parsed_json.keys()"
   ]
  },
  {
   "cell_type": "code",
   "execution_count": 9,
   "metadata": {
    "ExecuteTime": {
     "end_time": "2018-08-23T06:01:29.810884Z",
     "start_time": "2018-08-23T06:01:29.807381Z"
    }
   },
   "outputs": [
    {
     "data": {
      "text/plain": [
       "'FeatureCollection'"
      ]
     },
     "execution_count": 9,
     "metadata": {},
     "output_type": "execute_result"
    }
   ],
   "source": [
    "eq_parsed_json['type']"
   ]
  },
  {
   "cell_type": "code",
   "execution_count": 10,
   "metadata": {
    "ExecuteTime": {
     "end_time": "2018-08-23T06:01:38.568171Z",
     "start_time": "2018-08-23T06:01:38.565179Z"
    }
   },
   "outputs": [
    {
     "data": {
      "text/plain": [
       "{'api': '1.5.8',\n",
       " 'count': 19,\n",
       " 'generated': 1535003473000,\n",
       " 'status': 200,\n",
       " 'title': 'USGS Significant Earthquakes, Past Month',\n",
       " 'url': 'https://earthquake.usgs.gov/earthquakes/feed/v1.0/summary/significant_month.geojson'}"
      ]
     },
     "execution_count": 10,
     "metadata": {},
     "output_type": "execute_result"
    }
   ],
   "source": [
    "eq_parsed_json['metadata']"
   ]
  },
  {
   "cell_type": "code",
   "execution_count": 12,
   "metadata": {
    "ExecuteTime": {
     "end_time": "2018-08-23T06:01:52.885176Z",
     "start_time": "2018-08-23T06:01:52.881187Z"
    }
   },
   "outputs": [
    {
     "data": {
      "text/plain": [
       "'USGS Significant Earthquakes, Past Month'"
      ]
     },
     "execution_count": 12,
     "metadata": {},
     "output_type": "execute_result"
    }
   ],
   "source": [
    "title = eq_parsed_json['metadata']['title']\n",
    "title"
   ]
  },
  {
   "cell_type": "code",
   "execution_count": 14,
   "metadata": {
    "ExecuteTime": {
     "end_time": "2018-08-23T06:02:21.388876Z",
     "start_time": "2018-08-23T06:02:21.384887Z"
    }
   },
   "outputs": [
    {
     "data": {
      "text/plain": [
       "19"
      ]
     },
     "execution_count": 14,
     "metadata": {},
     "output_type": "execute_result"
    }
   ],
   "source": [
    "quakelist = eq_parsed_json['features']\n",
    "len(quakelist)"
   ]
  },
  {
   "cell_type": "code",
   "execution_count": 16,
   "metadata": {
    "ExecuteTime": {
     "end_time": "2018-08-23T06:02:32.772723Z",
     "start_time": "2018-08-23T06:02:32.768735Z"
    }
   },
   "outputs": [
    {
     "data": {
      "text/plain": [
       "dict"
      ]
     },
     "execution_count": 16,
     "metadata": {},
     "output_type": "execute_result"
    }
   ],
   "source": [
    "quake1 = quakelist[0]\n",
    "type(quake1)"
   ]
  },
  {
   "cell_type": "code",
   "execution_count": 17,
   "metadata": {
    "ExecuteTime": {
     "end_time": "2018-08-23T06:02:39.539492Z",
     "start_time": "2018-08-23T06:02:39.535503Z"
    }
   },
   "outputs": [
    {
     "data": {
      "text/plain": [
       "dict_keys(['type', 'properties', 'geometry', 'id'])"
      ]
     },
     "execution_count": 17,
     "metadata": {},
     "output_type": "execute_result"
    }
   ],
   "source": [
    "quake1.keys()"
   ]
  },
  {
   "cell_type": "code",
   "execution_count": 18,
   "metadata": {
    "ExecuteTime": {
     "end_time": "2018-08-23T06:02:46.316510Z",
     "start_time": "2018-08-23T06:02:46.310526Z"
    }
   },
   "outputs": [
    {
     "name": "stdout",
     "output_type": "stream",
     "text": [
      "{\n",
      "  \"type\": \"Feature\",\n",
      "  \"properties\": {\n",
      "    \"mag\": 6.3,\n",
      "    \"place\": \"45km SSE of Tanaga Volcano, Alaska\",\n",
      "    \"time\": 1534995315950,\n",
      "    \"updated\": 1535002639791,\n",
      "    \"tz\": -600,\n",
      "    \"url\": \"https://earthquake.usgs.gov/earthquakes/eventpage/us1000gfvg\",\n",
      "    \"detail\": \"https://earthquake.usgs.gov/earthquakes/feed/v1.0/detail/us1000gfvg.geojson\",\n",
      "    \"felt\": null,\n",
      "    \"cdi\": null,\n",
      "    \"mmi\": 5.84,\n",
      "    \"alert\": \"green\",\n",
      "    \"status\": \"reviewed\",\n",
      "    \"tsunami\": 1,\n",
      "    \"sig\": 611,\n",
      "    \"net\": \"us\",\n",
      "    \"code\": \"1000gfvg\",\n",
      "    \"ids\": \",at00pdw9ys,ak20156243,us1000gfvg,\",\n",
      "    \"sources\": \",at,ak,us,\",\n",
      "    \"types\": \",geoserve,impact-link,losspager,origin,phase-data,shakemap,\",\n",
      "    \"nst\": null,\n",
      "    \"dmin\": 0.567,\n",
      "    \"rms\": 0.72,\n",
      "    \"gap\": 67,\n",
      "    \"magType\": \"mww\",\n",
      "    \"type\": \"earthquake\",\n",
      "    \"title\": \"M 6.3 - 45km SSE of Tanaga Volcano, Alaska\"\n",
      "  },\n",
      "  \"geometry\": {\n",
      "    \"type\": \"Point\",\n",
      "    \"coordinates\": [\n",
      "      -177.881,\n",
      "      51.5106,\n",
      "      43.91\n",
      "    ]\n",
      "  },\n",
      "  \"id\": \"us1000gfvg\"\n",
      "}\n"
     ]
    }
   ],
   "source": [
    "print(json.dumps(quake1, indent=2))"
   ]
  },
  {
   "cell_type": "code",
   "execution_count": null,
   "metadata": {},
   "outputs": [],
   "source": []
  }
 ],
 "metadata": {
  "hide_input": false,
  "kernelspec": {
   "display_name": "Python 3",
   "language": "python",
   "name": "python3"
  },
  "language_info": {
   "codemirror_mode": {
    "name": "ipython",
    "version": 3
   },
   "file_extension": ".py",
   "mimetype": "text/x-python",
   "name": "python",
   "nbconvert_exporter": "python",
   "pygments_lexer": "ipython3",
   "version": "3.6.4"
  }
 },
 "nbformat": 4,
 "nbformat_minor": 2
}
