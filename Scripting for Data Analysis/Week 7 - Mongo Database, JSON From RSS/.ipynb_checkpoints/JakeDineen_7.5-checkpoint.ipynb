{
 "cells": [
  {
   "cell_type": "code",
   "execution_count": 19,
   "metadata": {
    "ExecuteTime": {
     "end_time": "2018-08-23T17:23:08.392766Z",
     "start_time": "2018-08-23T17:23:08.174350Z"
    }
   },
   "outputs": [
    {
     "name": "stdout",
     "output_type": "stream",
     "text": [
      "Collected data from USGS Significant Earthquakes, Past Month\n",
      "Connected successfully!!!\n",
      "Added 19 to earthquakes collection in usgs database\n"
     ]
    }
   ],
   "source": [
    "\n",
    "import urllib.request\n",
    "import json\n",
    "import pymongo\n",
    "\n",
    "\n",
    "# get the bbc rss feed of news stories and connect to it\n",
    "earthquake_url = \"http://earthquake.usgs.gov/earthquakes/feed/v1.0/summary/significant_month.geojson\"\n",
    "\n",
    "try:\n",
    "\tresponse = urllib.request.urlopen(earthquake_url)\n",
    "except urllib.error.URLError as e:\n",
    "    if hasattr(e, 'reason'):\n",
    "        print('We failed to reach a server.')\n",
    "        print('Reason: ', e.reason)\n",
    "    elif hasattr(e, 'code'):\n",
    "        print('The server couldn\\'t fulfill the request.')\n",
    "        print('Error code: ', e.code)\n",
    "else:\n",
    "\t# the url request was successful - convert the response to a string\n",
    "\tjson_string = response.read().decode('utf-8')\n",
    "\n",
    "\t# the json package loads() converts the string to python dictionaries and lists\n",
    "\teq_json = json.loads(json_string)\n",
    "\t\n",
    "\t# from the json dictionary we get the title to print\n",
    "\ttitle = eq_json['metadata']['title']\n",
    "\tprint('Collected data from', title)\n",
    "\t#  and we get the list of earthquakes\n",
    "\tquakelist = eq_json['features']\n",
    "\n",
    "\t# Connection to Mongo DB\n",
    "\ttry:\n",
    "\t    client=pymongo.MongoClient('localhost', 27017)\n",
    "\t    print (\"Connected successfully!!!\")\n",
    "\texcept pymongo.errors.ConnectionFailure as e:\n",
    "\t    print (\"Could not connect to MongoDB: %s\" % e )\n",
    "\telse:\n",
    "\n",
    "\t\t# use database named usgs or create it if not there already\n",
    "\t\teqdb = client.usgs\n",
    "\t\t# create collection named earthquakes or create it if not there already\n",
    "\t\tquakecoll = eqdb.earthquakes\n",
    "\t\t# add all the earthquakes to the list\n",
    "\t\tquakecoll.insert_many(quakelist)\n",
    "\t\tprint(\"Added\", len(quakelist), \"to earthquakes collection in usgs database\")\n",
    "        \t\t# close the database connection\n",
    "\t\tclient.close()"
   ]
  },
  {
   "cell_type": "code",
   "execution_count": 99,
   "metadata": {
    "ExecuteTime": {
     "end_time": "2018-08-23T17:49:13.842871Z",
     "start_time": "2018-08-23T17:49:13.834892Z"
    }
   },
   "outputs": [
    {
     "name": "stdout",
     "output_type": "stream",
     "text": [
      "Location-> 45km SSE of Tanaga Volcano, Alaska----- Time-> 1534995315950\n",
      "Location-> 265km WNW of Bandon, Oregon----- Time-> 1534930307050\n",
      "Location-> 79km E of Lakatoro, Vanuatu----- Time-> 1534890747010\n",
      "Location-> 30km NE of Rio Caribe, Venezuela----- Time-> 1534887106070\n",
      "Location-> 2km S of Belanting, Indonesia----- Time-> 1534690588090\n",
      "Location-> 282km ESE of Lambasa, Fiji----- Time-> 1534652939760\n",
      "Location-> 6km NE of Sembalunlawang, Indonesia----- Time-> 1534651821570\n",
      "Location-> 259km NNE of Ndoi Island, Fiji----- Time-> 1534638182740\n",
      "Location-> 280km NNE of Ndoi Island, Fiji----- Time-> 1534637977970\n",
      "Location-> 14km N of Golfito, Costa Rica----- Time-> 1534548144900\n",
      "Location-> 109km NNW of Kampungbajo, Indonesia----- Time-> 1534520102070\n",
      "Location-> 250km SE of Iwo Jima, Japan----- Time-> 1534443773350\n",
      "Location-> 50km S of Tanaga Volcano, Alaska----- Time-> 1534370214780\n",
      "Location-> 7km NE of Aguanga, CA----- Time-> 1534296266310\n",
      "Location-> 90km SW of Kaktovik, Alaska----- Time-> 1534085934286\n",
      "Location-> 3km SE of Todo, Indonesia----- Time-> 1533792331910\n",
      "Location-> 0km SW of Loloan, Indonesia----- Time-> 1533469598190\n",
      "Location-> 10km ESE of Black Point-Green Point, CA----- Time-> 1532989373470\n",
      "Location-> 5km WNW of Obelobel, Indonesia----- Time-> 1532818058740\n",
      "Location-> 45km SSE of Tanaga Volcano, Alaska----- Time-> 1534995315950\n",
      "Location-> 265km WNW of Bandon, Oregon----- Time-> 1534930307050\n",
      "Location-> 79km E of Lakatoro, Vanuatu----- Time-> 1534890747010\n",
      "Location-> 30km NE of Rio Caribe, Venezuela----- Time-> 1534887106070\n",
      "Location-> 2km S of Belanting, Indonesia----- Time-> 1534690588090\n",
      "Location-> 282km ESE of Lambasa, Fiji----- Time-> 1534652939760\n",
      "Location-> 6km NE of Sembalunlawang, Indonesia----- Time-> 1534651821570\n",
      "Location-> 259km NNE of Ndoi Island, Fiji----- Time-> 1534638182740\n",
      "Location-> 280km NNE of Ndoi Island, Fiji----- Time-> 1534637977970\n",
      "Location-> 14km N of Golfito, Costa Rica----- Time-> 1534548144900\n",
      "Location-> 109km NNW of Kampungbajo, Indonesia----- Time-> 1534520102070\n",
      "Location-> 250km SE of Iwo Jima, Japan----- Time-> 1534443773350\n",
      "Location-> 50km S of Tanaga Volcano, Alaska----- Time-> 1534370214780\n",
      "Location-> 7km NE of Aguanga, CA----- Time-> 1534296266310\n",
      "Location-> 90km SW of Kaktovik, Alaska----- Time-> 1534085934286\n",
      "Location-> 3km SE of Todo, Indonesia----- Time-> 1533792331910\n",
      "Location-> 0km SW of Loloan, Indonesia----- Time-> 1533469598190\n",
      "Location-> 10km ESE of Black Point-Green Point, CA----- Time-> 1532989373470\n",
      "Location-> 5km WNW of Obelobel, Indonesia----- Time-> 1532818058740\n"
     ]
    }
   ],
   "source": [
    "docs = quakecoll.find()\n",
    "a = list(docs)\n",
    "\n",
    "places = []\n",
    "times = []\n",
    "for i in range(0,len(a)):\n",
    "    places.append((a[i]['properties']['place']))\n",
    "    times.append((a[i]['properties']['time']))\n",
    "\n",
    "for i,j in zip(places,times):\n",
    "    print('Location-> {}----- Time-> {}'.format(i,j))"
   ]
  }
 ],
 "metadata": {
  "hide_input": false,
  "kernelspec": {
   "display_name": "Python 3",
   "language": "python",
   "name": "python3"
  },
  "language_info": {
   "codemirror_mode": {
    "name": "ipython",
    "version": 3
   },
   "file_extension": ".py",
   "mimetype": "text/x-python",
   "name": "python",
   "nbconvert_exporter": "python",
   "pygments_lexer": "ipython3",
   "version": "3.6.4"
  }
 },
 "nbformat": 4,
 "nbformat_minor": 2
}
