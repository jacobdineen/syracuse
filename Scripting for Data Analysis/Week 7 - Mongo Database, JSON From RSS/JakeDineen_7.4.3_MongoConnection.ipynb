{
 "cells": [
  {
   "cell_type": "code",
   "execution_count": 42,
   "metadata": {
    "ExecuteTime": {
     "end_time": "2018-08-23T06:55:43.112559Z",
     "start_time": "2018-08-23T06:55:43.107573Z"
    }
   },
   "outputs": [],
   "source": [
    "# I believe this would work, but I'm unable to establish a connection.\n",
    "\n",
    "\n",
    "#!pip install pymongo\n",
    "import pymongo\n",
    "from pymongo import MongoClient\n",
    "client = MongoClient('localhost',27017)\n"
   ]
  },
  {
   "cell_type": "code",
   "execution_count": 43,
   "metadata": {
    "ExecuteTime": {
     "end_time": "2018-08-23T06:55:44.525783Z",
     "start_time": "2018-08-23T06:55:44.522791Z"
    }
   },
   "outputs": [],
   "source": [
    "#Create the new collection\n",
    "db = client.peopledb3\n",
    "peoplecol = db.people2"
   ]
  },
  {
   "cell_type": "code",
   "execution_count": 44,
   "metadata": {
    "ExecuteTime": {
     "end_time": "2018-08-23T06:55:50.796024Z",
     "start_time": "2018-08-23T06:55:50.777075Z"
    }
   },
   "outputs": [
    {
     "data": {
      "text/plain": [
       "<pymongo.results.InsertManyResult at 0x19be0e7b908>"
      ]
     },
     "execution_count": 44,
     "metadata": {},
     "output_type": "execute_result"
    }
   ],
   "source": [
    "#insert the people\n",
    "peoplelist = [{ \"name\": \"Britney Sykes\", \"age\": 21 , 'position':'Guard'}, { \"name\": \"Briana Day\", \"age\": 19, 'position':'Center'}, { \"name\": \"Alexis Peterson\", \"age\": 21, 'position':'Guard' }, { \"name\": \"Gabby Cooper\", \"age\": 18, 'position':'Guard'}]\n",
    "peoplecol.insert_many(peoplelist)"
   ]
  },
  {
   "cell_type": "code",
   "execution_count": 45,
   "metadata": {
    "ExecuteTime": {
     "end_time": "2018-08-23T06:55:55.218205Z",
     "start_time": "2018-08-23T06:55:55.213220Z"
    }
   },
   "outputs": [
    {
     "name": "stdout",
     "output_type": "stream",
     "text": [
      "{'_id': ObjectId('5b7e5a7657d54662c0cd39f4'), 'name': 'Briana Day', 'age': 19, 'position': 'Center'}\n",
      "{'_id': ObjectId('5b7e5a7657d54662c0cd39f6'), 'name': 'Gabby Cooper', 'age': 18, 'position': 'Guard'}\n"
     ]
    }
   ],
   "source": [
    "for doc in peoplecol.find():\n",
    "    if doc['age'] < 20:\n",
    "        print(doc)"
   ]
  }
 ],
 "metadata": {
  "hide_input": false,
  "kernelspec": {
   "display_name": "Python 3",
   "language": "python",
   "name": "python3"
  },
  "language_info": {
   "codemirror_mode": {
    "name": "ipython",
    "version": 3
   },
   "file_extension": ".py",
   "mimetype": "text/x-python",
   "name": "python",
   "nbconvert_exporter": "python",
   "pygments_lexer": "ipython3",
   "version": "3.6.4"
  }
 },
 "nbformat": 4,
 "nbformat_minor": 2
}
