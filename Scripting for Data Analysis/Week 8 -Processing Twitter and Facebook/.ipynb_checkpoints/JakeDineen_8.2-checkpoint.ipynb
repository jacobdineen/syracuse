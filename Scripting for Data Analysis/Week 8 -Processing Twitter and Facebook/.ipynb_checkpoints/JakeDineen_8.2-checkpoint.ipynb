{
 "cells": [
  {
   "cell_type": "code",
   "execution_count": 18,
   "metadata": {
    "ExecuteTime": {
     "end_time": "2018-08-26T23:58:22.689541Z",
     "start_time": "2018-08-26T23:58:22.682559Z"
    }
   },
   "outputs": [
    {
     "name": "stderr",
     "output_type": "stream",
     "text": [
      "C:\\Users\\jdine\\Documents\\Anaconda3\\envs\\tensorflowlatest\\lib\\site-packages\\ipykernel_launcher.py:3: DeprecationWarning: database_names is deprecated. Use list_database_names instead.\n",
      "  This is separate from the ipykernel package so we can avoid doing imports until\n"
     ]
    },
    {
     "data": {
      "text/plain": [
       "['admin', 'bball', 'config', 'local', 'peopledb2', 'peopledb3', 'usgs']"
      ]
     },
     "execution_count": 18,
     "metadata": {},
     "output_type": "execute_result"
    }
   ],
   "source": [
    "import pymongo\n",
    "client = pymongo.MongoClient('localhost', 27017)\n",
    "client.database_names()"
   ]
  },
  {
   "cell_type": "code",
   "execution_count": 19,
   "metadata": {
    "ExecuteTime": {
     "end_time": "2018-08-26T23:58:22.697519Z",
     "start_time": "2018-08-26T23:58:22.690539Z"
    }
   },
   "outputs": [
    {
     "name": "stderr",
     "output_type": "stream",
     "text": [
      "C:\\Users\\jdine\\Documents\\Anaconda3\\envs\\tensorflowlatest\\lib\\site-packages\\ipykernel_launcher.py:2: DeprecationWarning: collection_names is deprecated. Use list_collection_names instead.\n",
      "  \n"
     ]
    },
    {
     "data": {
      "text/plain": [
       "['bbcoll']"
      ]
     },
     "execution_count": 19,
     "metadata": {},
     "output_type": "execute_result"
    }
   ],
   "source": [
    "db = client.bball\n",
    "db.collection_names()"
   ]
  },
  {
   "cell_type": "code",
   "execution_count": 20,
   "metadata": {
    "ExecuteTime": {
     "end_time": "2018-08-26T23:58:22.703503Z",
     "start_time": "2018-08-26T23:58:22.698517Z"
    }
   },
   "outputs": [],
   "source": [
    "coll = db.bbcoll\n",
    "docs = coll.find()\n"
   ]
  },
  {
   "cell_type": "code",
   "execution_count": 21,
   "metadata": {
    "ExecuteTime": {
     "end_time": "2018-08-26T23:58:25.430211Z",
     "start_time": "2018-08-26T23:58:25.266649Z"
    }
   },
   "outputs": [
    {
     "data": {
      "text/plain": [
       "2000"
      ]
     },
     "execution_count": 21,
     "metadata": {},
     "output_type": "execute_result"
    }
   ],
   "source": [
    "doclist = [tweet for tweet in docs]\n",
    "len(doclist)"
   ]
  },
  {
   "cell_type": "code",
   "execution_count": 34,
   "metadata": {
    "ExecuteTime": {
     "end_time": "2018-08-27T00:05:43.429958Z",
     "start_time": "2018-08-27T00:05:43.426965Z"
    }
   },
   "outputs": [],
   "source": [
    "#print(doclist[:1])\n"
   ]
  },
  {
   "cell_type": "code",
   "execution_count": 35,
   "metadata": {
    "ExecuteTime": {
     "end_time": "2018-08-27T00:06:36.930891Z",
     "start_time": "2018-08-27T00:06:36.924907Z"
    }
   },
   "outputs": [
    {
     "name": "stdout",
     "output_type": "stream",
     "text": [
      "\n",
      "Date: Mon Mar 27 22:30:30 +0000 2017\n",
      "From: Will\n",
      "Screen name: frenchythe1st\n",
      "Message RT @HowardWKYT: The final seconds of the Kentucky-North Carolina game was an emotional roller coaster for Big Blue fans. #marchmadness #WKY…\n",
      "\n",
      "Date: Mon Mar 27 22:30:22 +0000 2017\n",
      "From: Kahlen Donatell\n",
      "Screen name: KahDon\n",
      "Message RT @WhistleSports: When you perfectly time the #UNC buzzer beater 😱🏀 #MarchMadness\n",
      "\n",
      "(via:@SamuelGrubbs1 ) https://t.co/Ol2ibpZjB4\n",
      "\n",
      "Date: Mon Mar 27 22:30:21 +0000 2017\n",
      "From: Jesús\n",
      "Screen name: _jonwilliams\n",
      "Message RT @HowardWKYT: The final seconds of the Kentucky-North Carolina game was an emotional roller coaster for Big Blue fans. #marchmadness #WKY…\n",
      "\n",
      "Date: Mon Mar 27 22:30:14 +0000 2017\n",
      "From: plug,\n",
      "Screen name: 21shawtyy\n",
      "Message RT @BleacherReport: And then there were four... #MarchMadness https://t.co/0MbxpgAuUC\n",
      "\n",
      "Date: Mon Mar 27 22:30:11 +0000 2017\n",
      "From: Joni Dickerson\n",
      "Screen name: jonidickerson\n",
      "Message RT @mycarolinastdnt: RT if you'll be cheering on @GamecockWBB and @dawnstaley tonight. Let's Go Gamecocks! #MarchMadness\n"
     ]
    }
   ],
   "source": [
    "def print_tweet_data(tweets):\n",
    "    for tweet in tweets:\n",
    "        print('\\nDate:', tweet['created_at'])\n",
    "        print('From:', tweet['user']['name'])\n",
    "        print('Screen name:', tweet['user']['screen_name'])\n",
    "        print('Message', tweet['text'])\n",
    "        \n",
    "print_tweet_data(doclist[:5])"
   ]
  },
  {
   "cell_type": "code",
   "execution_count": 59,
   "metadata": {
    "ExecuteTime": {
     "end_time": "2018-08-27T00:17:24.534619Z",
     "start_time": "2018-08-27T00:17:24.528635Z"
    }
   },
   "outputs": [
    {
     "name": "stdout",
     "output_type": "stream",
     "text": [
      "URL count for the first five tweets: 191\n"
     ]
    }
   ],
   "source": [
    "\n",
    "#Count URLs for first five documents\n",
    "strTweet = \"\"\n",
    "countURL = 0    \n",
    "FirstFiveTweets = doclist[:5]\n",
    "for tweet in FirstFiveTweets:\n",
    "    strTweet = str(tweet)\n",
    "    countURL += strTweet.count(\"url\")\n",
    "    \n",
    "print('URL count for the first five tweets: {:.0f}'.format(countURL))"
   ]
  }
 ],
 "metadata": {
  "hide_input": false,
  "kernelspec": {
   "display_name": "Python 3",
   "language": "python",
   "name": "python3"
  },
  "language_info": {
   "codemirror_mode": {
    "name": "ipython",
    "version": 3
   },
   "file_extension": ".py",
   "mimetype": "text/x-python",
   "name": "python",
   "nbconvert_exporter": "python",
   "pygments_lexer": "ipython3",
   "version": "3.6.4"
  }
 },
 "nbformat": 4,
 "nbformat_minor": 2
}
