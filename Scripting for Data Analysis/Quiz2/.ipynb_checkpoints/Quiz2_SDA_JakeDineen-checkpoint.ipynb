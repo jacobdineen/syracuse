{
 "cells": [
  {
   "cell_type": "code",
   "execution_count": 3,
   "metadata": {
    "ExecuteTime": {
     "end_time": "2018-08-25T06:33:02.982982Z",
     "start_time": "2018-08-25T06:33:02.978993Z"
    }
   },
   "outputs": [
    {
     "data": {
      "text/plain": [
       "tuple"
      ]
     },
     "execution_count": 3,
     "metadata": {},
     "output_type": "execute_result"
    }
   ],
   "source": [
    "d = (3,'three',5,'five')\n",
    "type(d)"
   ]
  },
  {
   "cell_type": "code",
   "execution_count": 4,
   "metadata": {
    "ExecuteTime": {
     "end_time": "2018-08-25T06:33:10.147833Z",
     "start_time": "2018-08-25T06:33:10.144842Z"
    }
   },
   "outputs": [
    {
     "data": {
      "text/plain": [
       "dict"
      ]
     },
     "execution_count": 4,
     "metadata": {},
     "output_type": "execute_result"
    }
   ],
   "source": [
    "d = {}\n",
    "type(d)"
   ]
  },
  {
   "cell_type": "code",
   "execution_count": 5,
   "metadata": {
    "ExecuteTime": {
     "end_time": "2018-08-25T06:33:17.809357Z",
     "start_time": "2018-08-25T06:33:17.805368Z"
    }
   },
   "outputs": [
    {
     "data": {
      "text/plain": [
       "dict"
      ]
     },
     "execution_count": 5,
     "metadata": {},
     "output_type": "execute_result"
    }
   ],
   "source": [
    "d = {3:'three',5:'five'}\n",
    "type(d)"
   ]
  },
  {
   "cell_type": "code",
   "execution_count": 7,
   "metadata": {
    "ExecuteTime": {
     "end_time": "2018-08-25T06:33:27.638087Z",
     "start_time": "2018-08-25T06:33:27.635095Z"
    }
   },
   "outputs": [
    {
     "data": {
      "text/plain": [
       "dict"
      ]
     },
     "execution_count": 7,
     "metadata": {},
     "output_type": "execute_result"
    }
   ],
   "source": [
    "d = {'3':'three','5':'five'}\n",
    "type(d)"
   ]
  },
  {
   "cell_type": "code",
   "execution_count": 17,
   "metadata": {
    "ExecuteTime": {
     "end_time": "2018-08-25T06:35:13.316232Z",
     "start_time": "2018-08-25T06:35:13.310248Z"
    }
   },
   "outputs": [
    {
     "data": {
      "text/plain": [
       "194"
      ]
     },
     "execution_count": 17,
     "metadata": {},
     "output_type": "execute_result"
    }
   ],
   "source": [
    "people = {'hugh':49,'kate':35,'lucy':24,'bob':36, 'dan': 50} #144\n",
    "\n",
    "total = 0\n",
    "for x in people.values():\n",
    "     total += x\n",
    "        \n",
    "total = sum(people.values())\n",
    "total"
   ]
  },
  {
   "cell_type": "code",
   "execution_count": 15,
   "metadata": {
    "ExecuteTime": {
     "end_time": "2018-08-25T06:34:28.034245Z",
     "start_time": "2018-08-25T06:34:28.030256Z"
    }
   },
   "outputs": [
    {
     "data": {
      "text/plain": [
       "144"
      ]
     },
     "execution_count": 15,
     "metadata": {},
     "output_type": "execute_result"
    }
   ],
   "source": [
    "total = sum(people.values())\n",
    "total"
   ]
  },
  {
   "cell_type": "code",
   "execution_count": 20,
   "metadata": {
    "ExecuteTime": {
     "end_time": "2018-08-25T06:35:27.843910Z",
     "start_time": "2018-08-25T06:35:27.839920Z"
    }
   },
   "outputs": [
    {
     "data": {
      "text/plain": [
       "dict_keys(['hugh', 'kate', 'lucy', 'bob', 'dan'])"
      ]
     },
     "execution_count": 20,
     "metadata": {},
     "output_type": "execute_result"
    }
   ],
   "source": [
    "people.keys()"
   ]
  },
  {
   "cell_type": "code",
   "execution_count": 22,
   "metadata": {
    "ExecuteTime": {
     "end_time": "2018-08-25T06:36:11.021520Z",
     "start_time": "2018-08-25T06:36:11.013543Z"
    },
    "solution": "hidden",
    "solution_first": true
   },
   "outputs": [
    {
     "name": "stdout",
     "output_type": "stream",
     "text": [
      "dylan\n"
     ]
    }
   ],
   "source": [
    "peoplelist = [{'name':'bob','age':28},{'name':'dylan','age':43},{'name':'cat','age':17}]\n",
    "for item in peoplelist:\n",
    "    if item['age']>30:                \n",
    "        print(item['name'])"
   ]
  },
  {
   "cell_type": "code",
   "execution_count": 28,
   "metadata": {
    "ExecuteTime": {
     "end_time": "2018-08-25T06:37:34.743757Z",
     "start_time": "2018-08-25T06:37:34.739768Z"
    },
    "solution": "hidden",
    "solution_first": true
   },
   "outputs": [
    {
     "data": {
      "text/plain": [
       "0"
      ]
     },
     "execution_count": 28,
     "metadata": {},
     "output_type": "execute_result"
    }
   ],
   "source": [
    "def mystery(x):\n",
    "    if x > 0:\n",
    "        return -x\n",
    "    else:\n",
    "        return x\n",
    "    \n",
    "mystery(0)"
   ]
  },
  {
   "cell_type": "code",
   "execution_count": 32,
   "metadata": {
    "ExecuteTime": {
     "end_time": "2018-08-25T06:38:17.823677Z",
     "start_time": "2018-08-25T06:38:17.818690Z"
    }
   },
   "outputs": [
    {
     "name": "stdout",
     "output_type": "stream",
     "text": [
      "[[ 2  4  6  8]\n",
      " [12 14 16 18]\n",
      " [22 24 26 28]]\n"
     ]
    },
    {
     "data": {
      "text/plain": [
       "(3, 4)"
      ]
     },
     "execution_count": 32,
     "metadata": {},
     "output_type": "execute_result"
    }
   ],
   "source": [
    "import numpy as np\n",
    "import numpy as np\n",
    "c = np.array([[2,4,6,8],[12,14,16,18],[22,24,26,28]])\n",
    "print(c)\n",
    "np.shape(c)\n"
   ]
  },
  {
   "cell_type": "code",
   "execution_count": 39,
   "metadata": {
    "ExecuteTime": {
     "end_time": "2018-08-25T06:39:51.589621Z",
     "start_time": "2018-08-25T06:39:51.582640Z"
    }
   },
   "outputs": [
    {
     "ename": "ValueError",
     "evalue": "NumPy boolean array indexing assignment cannot assign 3 input values to the 2 output values where the mask is true",
     "output_type": "error",
     "traceback": [
      "\u001b[1;31m---------------------------------------------------------------------------\u001b[0m",
      "\u001b[1;31mValueError\u001b[0m                                Traceback (most recent call last)",
      "\u001b[1;32m<ipython-input-39-15484ba5d395>\u001b[0m in \u001b[0;36m<module>\u001b[1;34m()\u001b[0m\n\u001b[0;32m      1\u001b[0m \u001b[0md\u001b[0m \u001b[1;33m=\u001b[0m \u001b[0mnp\u001b[0m\u001b[1;33m.\u001b[0m\u001b[0marray\u001b[0m\u001b[1;33m(\u001b[0m\u001b[1;33m[\u001b[0m\u001b[1;36m6\u001b[0m\u001b[1;33m,\u001b[0m\u001b[1;36m16\u001b[0m\u001b[1;33m,\u001b[0m\u001b[1;36m26\u001b[0m\u001b[1;33m]\u001b[0m\u001b[1;33m)\u001b[0m\u001b[1;33m\u001b[0m\u001b[0m\n\u001b[1;32m----> 2\u001b[1;33m \u001b[0md\u001b[0m\u001b[1;33m[\u001b[0m\u001b[0md\u001b[0m\u001b[1;33m>\u001b[0m\u001b[1;36m10\u001b[0m\u001b[1;33m]\u001b[0m\u001b[1;33m=\u001b[0m\u001b[0md\u001b[0m\u001b[1;33m\u001b[0m\u001b[0m\n\u001b[0m",
      "\u001b[1;31mValueError\u001b[0m: NumPy boolean array indexing assignment cannot assign 3 input values to the 2 output values where the mask is true"
     ]
    }
   ],
   "source": [
    "d = np.array([6,16,26])\n",
    "d[d>10]=d"
   ]
  },
  {
   "cell_type": "code",
   "execution_count": 48,
   "metadata": {
    "ExecuteTime": {
     "end_time": "2018-08-25T06:42:16.668943Z",
     "start_time": "2018-08-25T06:42:16.660964Z"
    }
   },
   "outputs": [
    {
     "ename": "TypeError",
     "evalue": "'module' object is not callable",
     "output_type": "error",
     "traceback": [
      "\u001b[1;31m---------------------------------------------------------------------------\u001b[0m",
      "\u001b[1;31mTypeError\u001b[0m                                 Traceback (most recent call last)",
      "\u001b[1;32m<ipython-input-48-a2e27a2933a4>\u001b[0m in \u001b[0;36m<module>\u001b[1;34m()\u001b[0m\n\u001b[0;32m      1\u001b[0m \u001b[1;32mfrom\u001b[0m \u001b[0mdatetime\u001b[0m \u001b[1;32mimport\u001b[0m \u001b[0mdatetime\u001b[0m\u001b[1;33m\u001b[0m\u001b[0m\n\u001b[0;32m      2\u001b[0m \u001b[1;32mimport\u001b[0m \u001b[0mdatetime\u001b[0m\u001b[1;33m\u001b[0m\u001b[0m\n\u001b[1;32m----> 3\u001b[1;33m \u001b[0mD1\u001b[0m \u001b[1;33m=\u001b[0m \u001b[0mdatetime\u001b[0m\u001b[1;33m(\u001b[0m\u001b[1;36m2017\u001b[0m\u001b[1;33m,\u001b[0m\u001b[1;36m2\u001b[0m\u001b[1;33m,\u001b[0m\u001b[1;36m22\u001b[0m\u001b[1;33m,\u001b[0m\u001b[1;36m9\u001b[0m\u001b[1;33m,\u001b[0m\u001b[1;36m30\u001b[0m\u001b[1;33m)\u001b[0m\u001b[1;33m\u001b[0m\u001b[0m\n\u001b[0m\u001b[0;32m      4\u001b[0m \u001b[0mD2\u001b[0m \u001b[1;33m=\u001b[0m \u001b[0mdatetime\u001b[0m\u001b[1;33m(\u001b[0m\u001b[1;36m2017\u001b[0m\u001b[1;33m,\u001b[0m\u001b[1;36m2\u001b[0m\u001b[1;33m,\u001b[0m\u001b[1;36m23\u001b[0m\u001b[1;33m,\u001b[0m\u001b[1;36m10\u001b[0m\u001b[1;33m,\u001b[0m\u001b[1;36m45\u001b[0m\u001b[1;33m)\u001b[0m\u001b[1;33m\u001b[0m\u001b[0m\n\u001b[0;32m      5\u001b[0m \u001b[0mD2\u001b[0m \u001b[1;33m-\u001b[0m \u001b[0mD1\u001b[0m\u001b[1;33m\u001b[0m\u001b[0m\n",
      "\u001b[1;31mTypeError\u001b[0m: 'module' object is not callable"
     ]
    }
   ],
   "source": [
    "from datetime import datetime\n",
    "import datetime\n",
    "D1 = datetime(2017,2,22,9,30)\n",
    "D2 = datetime(2017,2,23,10,45)\n",
    "D2 - D1\n",
    "D1.strftime()"
   ]
  },
  {
   "cell_type": "code",
   "execution_count": 66,
   "metadata": {
    "ExecuteTime": {
     "end_time": "2018-08-25T06:50:37.181271Z",
     "start_time": "2018-08-25T06:50:37.169303Z"
    }
   },
   "outputs": [
    {
     "name": "stdout",
     "output_type": "stream",
     "text": [
      "-------------------------------------------\n",
      "Display words greater than threshold = 10\n",
      "-------------------------------------------\n",
      "1 Word: the        Count 58\n",
      "2 Word: cats        Count 13\n",
      "3 Word: this        Count 19\n",
      "4 Word: class        Count 21\n",
      "5 Word: is        Count 101\n",
      "-------------------------------------------\n",
      "-------------------------------------------\n",
      "Display words greater than threshold = 50\n",
      "-------------------------------------------\n",
      "1 Word: the        Count 58\n",
      "2 Word: is        Count 101\n",
      "-------------------------------------------\n",
      "-------------------------------------------\n",
      "Display words greater than threshold = 100\n",
      "-------------------------------------------\n",
      "1 Word: is        Count 101\n",
      "-------------------------------------------\n"
     ]
    }
   ],
   "source": [
    "word_freq = {'the':58, 'people':6, 'beautiful':8, \n",
    "             'cats':13, 'finally':9, 'this': 19, 'class': 21, \n",
    "             'is': 101, 'almost': 1, 'over':4} #Store dict\n",
    "\n",
    "def top_words(word_freq, threshold = 10):\n",
    "    print('-------------------------------------------')\n",
    "    print('Display words greater than threshold = {}'.format(threshold)) #basic logs\n",
    "    print('-------------------------------------------') \n",
    "    counter = 1\n",
    "    for key,value in word_freq.items():\n",
    "        if value > threshold: #conditional logic\n",
    "            print('{} Word: {}        Count {}'.format(counter, key, value))\n",
    "            counter +=1\n",
    "    print('-------------------------------------------')\n",
    "            \n",
    "thresh = [10,50,100]           \n",
    "            \n",
    "for i in thresh: #Lopp through thresh list to run function multiple times\n",
    "    top_words(word_freq = word_freq, threshold= i)"
   ]
  },
  {
   "cell_type": "code",
   "execution_count": 210,
   "metadata": {
    "ExecuteTime": {
     "end_time": "2018-08-25T07:33:49.572325Z",
     "start_time": "2018-08-25T07:33:49.341941Z"
    }
   },
   "outputs": [
    {
     "name": "stdout",
     "output_type": "stream",
     "text": [
      "------------------------------------------------------------\n",
      "Printing all countries with a population above 1mm in Jan1995\n",
      "------------------------------------------------------------\n",
      "Country: Austria        Population: 8054800\n",
      "Country: Belgium        Population: 10143047\n",
      "Country: Denmark        Population: 5251027\n",
      "Country: Finland        Population: 5116800\n",
      "Country: France        Population: 58265400\n",
      "Country: Germany        Population: 81845000\n",
      "Country: Ireland        Population: 3591200\n",
      "Country: Italy        Population: 57268578\n",
      "Country: Netherland        Population: 15492800\n",
      "Country: Norway        Population: 4370000\n",
      "Country: Portugal        Population: 9920800\n",
      "Country: Spain        Population: 39241900\n",
      "Country: Sweden        Population: 8837000\n",
      "Country: Switzerland        Population: 7060400\n",
      "Country: United Kingdom        Population: 58684000\n",
      "------------------------------------------------------------\n",
      "Average population of United Kingdom from Jan89-Jan95: 58062861\n"
     ]
    }
   ],
   "source": [
    "import os\n",
    "import pandas as pd\n",
    "cwd = os.getcwd() #get cwd\n",
    "path = os.listdir(cwd)[1] #index on .csv needed\n",
    "#Rename columns on load. Slice on index. Remove junk at the beginning and end\n",
    "#Also note keep default na parm. This defaults so that all blanks are set to NaNs. This breaks the next step\n",
    "data = pd.read_csv(path, names = ['Jan89', 'Jan90', 'Jan91', 'Jan92', 'Jan93', 'Jan94', 'Jan95'], keep_default_na=False)[3:-4]\n",
    "#Replace blank values with 0\n",
    "data.replace('', 0, inplace= True)\n",
    "\n",
    "#Note that Country is the index here\n",
    "data.reset_index(inplace = True)\n",
    "\n",
    "#Iterrows lets you iterate through a dataframe \n",
    "print('------------------------------------------------------------')\n",
    "print('Printing all countries with a population above 1mm in Jan1995')\n",
    "print('------------------------------------------------------------')\n",
    "for (idx, row) in data.iterrows():\n",
    "    if int(row['Jan95']) > 1000000: #conditional logic\n",
    "        print('Country: {}        Population: {}'.format(row['index'], row['Jan95'])) #str formatting\n",
    "        \n",
    "\n",
    "\n",
    "sliced= data[data['index'] == 'United Kingdom'] #Extract row for index == UK\n",
    "sliced = pd.DataFrame(sliced.iloc[:, [1,2,3,4,5,6,7]], dtype = int) #Drop 1st col. Transform to all int dtypes\n",
    "avg = int(sliced.mean(axis = 1)) #find mean using pandas\n",
    "\n",
    "print('------------------------------------------------------------')\n",
    "print('Average population of United Kingdom from Jan89-Jan95:', avg)\n",
    "\n",
    "\n",
    "\n",
    "\n"
   ]
  }
 ],
 "metadata": {
  "hide_input": false,
  "kernelspec": {
   "display_name": "Python 3",
   "language": "python",
   "name": "python3"
  },
  "language_info": {
   "codemirror_mode": {
    "name": "ipython",
    "version": 3
   },
   "file_extension": ".py",
   "mimetype": "text/x-python",
   "name": "python",
   "nbconvert_exporter": "python",
   "pygments_lexer": "ipython3",
   "version": "3.6.4"
  }
 },
 "nbformat": 4,
 "nbformat_minor": 2
}
