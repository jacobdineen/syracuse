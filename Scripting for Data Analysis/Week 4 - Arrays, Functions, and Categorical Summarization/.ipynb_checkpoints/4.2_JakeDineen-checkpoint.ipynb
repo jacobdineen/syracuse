{
 "cells": [
  {
   "cell_type": "code",
   "execution_count": 2,
   "metadata": {
    "ExecuteTime": {
     "end_time": "2018-08-01T03:12:51.670138Z",
     "start_time": "2018-08-01T03:12:51.659168Z"
    }
   },
   "outputs": [
    {
     "name": "stdout",
     "output_type": "stream",
     "text": [
      "ABC\n",
      "Zap\n",
      "ABC\n"
     ]
    }
   ],
   "source": [
    "#4.2 Functions and Documentation Strings\n",
    "#Jacob Dineen\n",
    "#Scripting for Data Analysis\n",
    "\n",
    "#Exercise 1\n",
    "def fred():\n",
    "    print (\"Zap\")\n",
    "def jane():\n",
    "    print (\"ABC\")\n",
    "    \n",
    "jane()\n",
    "fred()\n",
    "jane()"
   ]
  },
  {
   "cell_type": "markdown",
   "metadata": {},
   "source": [
    "Answer: d) ABC Zap ABC\n",
    "\n",
    "Explanation: We are defining the functions fred and jane and then calling them in the sequence: jane, fred, jane, so we'll get the outputs of each of those function in the order in which they were called."
   ]
  },
  {
   "cell_type": "code",
   "execution_count": 19,
   "metadata": {
    "ExecuteTime": {
     "end_time": "2018-08-01T03:23:34.347306Z",
     "start_time": "2018-08-01T03:23:32.502240Z"
    }
   },
   "outputs": [
    {
     "name": "stdout",
     "output_type": "stream",
     "text": [
      "Enter Hours: 45\n",
      "Enter Rate: 20\n",
      "Pay : 950.0\n"
     ]
    }
   ],
   "source": [
    "#Exercise 2\n",
    "\n",
    "hours = int(input('Enter Hours: '))\n",
    "rate = int(input('Enter Rate: '))\n",
    "def paycompute(hours, rate):\n",
    "    if hours <= 40:\n",
    "        pay = hours * rate\n",
    "        print('Pay : {}'.format(pay))\n",
    "    elif hours > 40:\n",
    "        pay = (40 * rate) + ((hours -40) * (rate*1.5))\n",
    "        print('Pay : {}'.format(pay))\n",
    "\n",
    "        \n",
    "paycompute(hours, rate)"
   ]
  }
 ],
 "metadata": {
  "hide_input": false,
  "kernelspec": {
   "display_name": "Python 3",
   "language": "python",
   "name": "python3"
  },
  "language_info": {
   "codemirror_mode": {
    "name": "ipython",
    "version": 3
   },
   "file_extension": ".py",
   "mimetype": "text/x-python",
   "name": "python",
   "nbconvert_exporter": "python",
   "pygments_lexer": "ipython3",
   "version": "3.6.4"
  }
 },
 "nbformat": 4,
 "nbformat_minor": 2
}
