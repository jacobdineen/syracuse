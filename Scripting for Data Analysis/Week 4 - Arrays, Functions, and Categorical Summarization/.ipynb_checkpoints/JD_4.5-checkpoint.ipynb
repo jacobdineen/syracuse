{
 "cells": [
  {
   "cell_type": "code",
   "execution_count": 12,
   "metadata": {
    "ExecuteTime": {
     "end_time": "2018-08-01T05:15:34.752577Z",
     "start_time": "2018-08-01T05:15:34.527179Z"
    }
   },
   "outputs": [
    {
     "name": "stdout",
     "output_type": "stream",
     "text": [
      "Read 5 years of prices\n",
      "Shape of Prices data (5, 12)\n",
      "\n",
      "Average gas price for each month\n",
      "\n",
      "Jan : 1.3954\n",
      "Feb : 1.4591999999999998\n",
      "Mar : 1.5486\n",
      "Apr : 1.5938\n",
      "May : 1.6398\n",
      "Jun : 1.6431999999999998\n",
      "Jul : 1.59\n",
      "Aug : 1.5772\n",
      "Sep : 1.6308\n",
      "Oct : 1.1945999999999999\n",
      "Nov : 1.1602000000000001\n",
      "Dec : 1.1016\n",
      "\n",
      "Average gas price for each year\n",
      "\n",
      "2000 : 1.51\n",
      "2001 : 1.4610000000000003\n",
      "2002 : 1.3575\n",
      "2003 : 1.5907499999999999\n"
     ]
    },
    {
     "name": "stderr",
     "output_type": "stream",
     "text": [
      "C:\\Users\\jdine\\Documents\\Anaconda3\\envs\\tensorflowlatest\\lib\\site-packages\\ipykernel_launcher.py:17: DeprecationWarning: 'U' mode is deprecated\n"
     ]
    },
    {
     "data": {
      "image/png": "[encoded data removed]",
      "text/plain": [
       "<Figure size 432x288 with 1 Axes>"
      ]
     },
     "metadata": {},
     "output_type": "display_data"
    },
    {
     "data": {
      "image/png": "[encoded data removed]",
      "text/plain": [
       "<Figure size 432x288 with 1 Axes>"
      ]
     },
     "metadata": {},
     "output_type": "display_data"
    }
   ],
   "source": [
    "import os\n",
    "import csv\n",
    "import numpy as np\n",
    "path = os.getcwd()\n",
    "infile = os.listdir(path)[-5]\n",
    "\n",
    "# create new empty lists:  years and prices come from data\n",
    "yearsList = []\n",
    "pricesList = []\n",
    "# names of months for labeling results\n",
    "monthList = [\n",
    "    'Jan', 'Feb', 'Mar', 'Apr', 'May', 'Jun', 'Jul', 'Aug', 'Sep', 'Oct',\n",
    "    'Nov', 'Dec'\n",
    "]\n",
    "\n",
    "# read the data\n",
    "with open(infile, 'rU') as csvfile:\n",
    "    # the csv file reader returns a list of the csv items on each line - note delimiter is comma\n",
    "    priceReader = csv.reader(csvfile, dialect='excel', delimiter=',')\n",
    "\n",
    "    # from each line, a list of row items, make separate lists for years and for the prices\n",
    "    for line in priceReader:\n",
    "        # skip lines without data\n",
    "        if line[0] == '' or line[0].startswith('Price') or line[0].startswith(\n",
    "                'Year'):\n",
    "            continue\n",
    "        else:\n",
    "            try:\n",
    "                # add the year to list\n",
    "                if int(line[0])>= 2000:\n",
    "                    yearsList.append(line[0])\n",
    "                # append the prices (as strings) to the list\n",
    "                    pricesList.append(line[1:])\n",
    "            except IndexError:\n",
    "                print('Error: ', line)\n",
    "csvfile.close()\n",
    "\n",
    "print(\"Read\", len(yearsList), \"years of prices\")\n",
    "\n",
    "# make a numpy array for the strings\n",
    "data = np.array(pricesList)\n",
    "print('Shape of Prices data', data.shape)\n",
    "\n",
    "# convert the empty strings to strings of zeros, using a Boolean mask to find empty strings\n",
    "data[data == ''] = '0'\n",
    "\n",
    "# now we can convert the whole thing to float without getting conversion errors for the empty strings\n",
    "prices = data.astype(np.float)\n",
    "\n",
    "#print(prices)\n",
    "\n",
    "# compute the average price for each month (or use mean)\n",
    "# sum along the columns\n",
    "monthTotalPrices = np.sum(prices, axis=0)\n",
    "# divide by number of years to get average\n",
    "monthAveragePrices = monthTotalPrices / len(yearsList)\n",
    "\n",
    "#print(monthAveragePrices)\n",
    "print(\"\\nAverage gas price for each month\\n\")\n",
    "\n",
    "# print the average price for each month\n",
    "for i, mon in enumerate(monthList):\n",
    "    print(mon, ':', monthAveragePrices[i])\n",
    "\n",
    "# compute the average price for each year up to the last one with missing data\n",
    "# sum along the rows\n",
    "yearTotalPrices = np.sum(prices, axis=1)\n",
    "# divide by number of months to get average\n",
    "yearAveragePrices = yearTotalPrices / 12\n",
    "\n",
    "#print(monthAveragePrices)\n",
    "print(\"\\nAverage gas price for each year\\n\")\n",
    "\n",
    "# print the average prices for the years\n",
    "for i, year in enumerate(yearsList[:-1]):\n",
    "    print(year, ':', yearAveragePrices[i])\n",
    "\n",
    "# or display the monthly averages as a simple plot\n",
    "\n",
    "import matplotlib.pyplot as pp\n",
    "\n",
    "x = np.arange(12)\n",
    "pp.xticks(x, monthList)\n",
    "pp.plot(x, monthAveragePrices)\n",
    "pp.show()\n",
    "\n",
    "# or we can also display the years with a simple plot\n",
    "x = np.arange(len(yearsList) - 1)\n",
    "pp.xticks(x, yearsList)\n",
    "pp.plot(x, yearAveragePrices[:-1])\n",
    "pp.show()\n",
    "\n",
    "# Done!"
   ]
  }
 ],
 "metadata": {
  "hide_input": false,
  "kernelspec": {
   "display_name": "Python 3",
   "language": "python",
   "name": "python3"
  },
  "language_info": {
   "codemirror_mode": {
    "name": "ipython",
    "version": 3
   },
   "file_extension": ".py",
   "mimetype": "text/x-python",
   "name": "python",
   "nbconvert_exporter": "python",
   "pygments_lexer": "ipython3",
   "version": "3.6.4"
  }
 },
 "nbformat": 4,
 "nbformat_minor": 2
}
