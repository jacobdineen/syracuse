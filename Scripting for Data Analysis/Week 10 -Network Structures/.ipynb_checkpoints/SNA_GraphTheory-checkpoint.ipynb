{
 "cells": [
  {
   "cell_type": "code",
   "execution_count": 3,
   "metadata": {
    "ExecuteTime": {
     "end_time": "2018-09-08T00:55:32.454724Z",
     "start_time": "2018-09-08T00:55:32.451696Z"
    }
   },
   "outputs": [],
   "source": [
    "#!pip install networkx\n",
    "import networkx as nx"
   ]
  },
  {
   "cell_type": "code",
   "execution_count": 9,
   "metadata": {
    "ExecuteTime": {
     "end_time": "2018-09-08T00:56:24.944749Z",
     "start_time": "2018-09-08T00:56:24.938766Z"
    }
   },
   "outputs": [
    {
     "data": {
      "text/plain": [
       "EdgeView([(1, 2), (1, 'spam')])"
      ]
     },
     "execution_count": 9,
     "metadata": {},
     "output_type": "execute_result"
    }
   ],
   "source": [
    "g = nx.Graph()\n",
    "g.add_edge(1,2)\n",
    "g.add_node(\"spam\")\n",
    "g.nodes()\n",
    "g.edges()\n",
    "g.add_edge(1,\"spam\")\n",
    "g.edges()"
   ]
  },
  {
   "cell_type": "code",
   "execution_count": 11,
   "metadata": {
    "ExecuteTime": {
     "end_time": "2018-09-08T00:56:58.460757Z",
     "start_time": "2018-09-08T00:56:58.455770Z"
    }
   },
   "outputs": [
    {
     "data": {
      "text/plain": [
       "EdgeView([(1, 2), (1, 'spam'), (1, 3), (3, 4)])"
      ]
     },
     "execution_count": 11,
     "metadata": {},
     "output_type": "execute_result"
    }
   ],
   "source": [
    "g.add_nodes_from([3,4])\n",
    "g.add_edges_from([(1,3),(3,4)])\n",
    "g.nodes()\n",
    "g.edges()"
   ]
  },
  {
   "cell_type": "code",
   "execution_count": 16,
   "metadata": {
    "ExecuteTime": {
     "end_time": "2018-09-08T00:58:18.952310Z",
     "start_time": "2018-09-08T00:58:18.948321Z"
    }
   },
   "outputs": [
    {
     "data": {
      "text/plain": [
       "NodeDataView({1: {'color': 'red'}, 2: {}, 'spam': {}, 3: {}, 4: {}, 5: {'color': 'blue'}})"
      ]
     },
     "execution_count": 16,
     "metadata": {},
     "output_type": "execute_result"
    }
   ],
   "source": [
    "g.add_node(5, color='blue')\n",
    "g.node[1]['color'] = 'red' # g.node[1] is the dictionary of existing node 1\n",
    "g.nodes(data=True)"
   ]
  },
  {
   "cell_type": "code",
   "execution_count": 17,
   "metadata": {
    "ExecuteTime": {
     "end_time": "2018-09-08T00:58:20.131157Z",
     "start_time": "2018-09-08T00:58:20.121184Z"
    }
   },
   "outputs": [
    {
     "ename": "AttributeError",
     "evalue": "'Graph' object has no attribute 'edge'",
     "output_type": "error",
     "traceback": [
      "\u001b[1;31m---------------------------------------------------------------------------\u001b[0m",
      "\u001b[1;31mAttributeError\u001b[0m                            Traceback (most recent call last)",
      "\u001b[1;32m<ipython-input-17-6fe9820f1939>\u001b[0m in \u001b[0;36m<module>\u001b[1;34m()\u001b[0m\n\u001b[0;32m      1\u001b[0m \u001b[0mg\u001b[0m\u001b[1;33m.\u001b[0m\u001b[0madd_edge\u001b[0m\u001b[1;33m(\u001b[0m\u001b[1;36m2\u001b[0m\u001b[1;33m,\u001b[0m\u001b[1;36m5\u001b[0m\u001b[1;33m,\u001b[0m \u001b[0mweight\u001b[0m\u001b[1;33m=\u001b[0m\u001b[1;36m4.7\u001b[0m\u001b[1;33m)\u001b[0m\u001b[1;33m\u001b[0m\u001b[0m\n\u001b[1;32m----> 2\u001b[1;33m \u001b[0mg\u001b[0m\u001b[1;33m.\u001b[0m\u001b[0medge\u001b[0m\u001b[1;33m[\u001b[0m\u001b[1;36m1\u001b[0m\u001b[1;33m]\u001b[0m\u001b[1;33m[\u001b[0m\u001b[1;36m2\u001b[0m\u001b[1;33m]\u001b[0m\u001b[1;33m[\u001b[0m\u001b[1;34m'weight'\u001b[0m\u001b[1;33m]\u001b[0m \u001b[1;33m=\u001b[0m \u001b[1;36m1.2\u001b[0m\u001b[1;33m\u001b[0m\u001b[0m\n\u001b[0m\u001b[0;32m      3\u001b[0m \u001b[0mg\u001b[0m\u001b[1;33m.\u001b[0m\u001b[0medges\u001b[0m\u001b[1;33m(\u001b[0m\u001b[0mdata\u001b[0m\u001b[1;33m=\u001b[0m\u001b[1;32mTrue\u001b[0m\u001b[1;33m)\u001b[0m\u001b[1;33m\u001b[0m\u001b[0m\n",
      "\u001b[1;31mAttributeError\u001b[0m: 'Graph' object has no attribute 'edge'"
     ]
    }
   ],
   "source": [
    "g.add_edge(2,5, weight=4.7)\n",
    "g.edge[1][2]['weight'] = 1.2 \n",
    "g.edges(data=True)"
   ]
  },
  {
   "cell_type": "code",
   "execution_count": 18,
   "metadata": {
    "ExecuteTime": {
     "end_time": "2018-09-08T00:58:27.986667Z",
     "start_time": "2018-09-08T00:58:27.982679Z"
    }
   },
   "outputs": [
    {
     "data": {
      "text/plain": [
       "<dict_keyiterator at 0x1fe90fb1098>"
      ]
     },
     "execution_count": 18,
     "metadata": {},
     "output_type": "execute_result"
    }
   ],
   "source": [
    "g.neighbors(1)"
   ]
  },
  {
   "cell_type": "code",
   "execution_count": 21,
   "metadata": {
    "ExecuteTime": {
     "end_time": "2018-09-08T00:58:59.876861Z",
     "start_time": "2018-09-08T00:58:59.871874Z"
    },
    "scrolled": true
   },
   "outputs": [
    {
     "data": {
      "text/plain": [
       "matrix([[0. , 1. , 1. , 1. , 0. , 0. ],\n",
       "        [1. , 0. , 0. , 0. , 0. , 4.7],\n",
       "        [1. , 0. , 0. , 0. , 0. , 0. ],\n",
       "        [1. , 0. , 0. , 0. , 1. , 0. ],\n",
       "        [0. , 0. , 0. , 1. , 0. , 0. ],\n",
       "        [0. , 4.7, 0. , 0. , 0. , 0. ]])"
      ]
     },
     "execution_count": 21,
     "metadata": {},
     "output_type": "execute_result"
    }
   ],
   "source": [
    "adj_matrix = nx.adjacency_matrix(g)\n",
    "amatrix = adj_matrix.todense()\n",
    "amatrix"
   ]
  },
  {
   "cell_type": "code",
   "execution_count": 23,
   "metadata": {
    "ExecuteTime": {
     "end_time": "2018-09-08T00:59:45.301072Z",
     "start_time": "2018-09-08T00:59:45.297084Z"
    }
   },
   "outputs": [
    {
     "data": {
      "text/plain": [
       "DegreeView({1: 3, 2: 2, 'spam': 1, 3: 2, 4: 1, 5: 1})"
      ]
     },
     "execution_count": 23,
     "metadata": {},
     "output_type": "execute_result"
    }
   ],
   "source": [
    ">>> deg = nx.degree(g)\n",
    ">>> type(deg)\n",
    ">>> deg\n",
    ">>> min(deg.values())\n",
    ">>> max(deg.values())\n"
   ]
  },
  {
   "cell_type": "code",
   "execution_count": 42,
   "metadata": {
    "ExecuteTime": {
     "end_time": "2018-09-08T01:21:07.543113Z",
     "start_time": "2018-09-08T01:21:01.739638Z"
    },
    "scrolled": true
   },
   "outputs": [
    {
     "name": "stdout",
     "output_type": "stream",
     "text": [
      "Requirement already satisfied: geopy in c:\\users\\jdine\\documents\\anaconda3\\envs\\tensorflowlatest\\lib\\site-packages (1.16.0)\n",
      "Requirement already satisfied: geographiclib<2,>=1.49 in c:\\users\\jdine\\documents\\anaconda3\\envs\\tensorflowlatest\\lib\\site-packages (from geopy) (1.49)\n"
     ]
    },
    {
     "name": "stderr",
     "output_type": "stream",
     "text": [
      "C:\\Users\\jdine\\Documents\\Anaconda3\\envs\\tensorflowlatest\\lib\\site-packages\\geopy\\geocoders\\osm.py:138: UserWarning: Using Nominatim with the default \"geopy/1.16.0\" `user_agent` is strongly discouraged, as it violates Nominatim's ToS https://operations.osmfoundation.org/policies/nominatim/ and may possibly cause 403 and 429 HTTP errors. Please specify a custom `user_agent` with `Nominatim(user_agent=\"my-application\")` or by overriding the default `user_agent`: `geopy.geocoders.options.default_user_agent = \"my-application\"`. In geopy 2.0 this will become an exception.\n",
      "  UserWarning\n"
     ]
    },
    {
     "name": "stdout",
     "output_type": "stream",
     "text": [
      "Hinds Hall, 110, Smith Drive, University Hill, Syracuse, Onondaga County, New York, 13244, USA\n",
      "Hinds Hall, 110, Smith Drive, University Hill, Syracuse, Onondaga County, New York, 13244, USA\n",
      "Fetching Geos\n",
      "New Era Field, Bills Drive, Windom, Erie County, New York, 14127, USA\n",
      "Mall of America, 60, Lindau Lane, Bloomington, Hennepin County, Minnesota, 55425, USA\n",
      "The State University of New York, University at Buffalo - North Campus, Lee Entrance, Ellicott Complex, North Bailey, Amherst Town, Erie County, New York, 14228, USA\n",
      "Barnes & Noble, 3956, State Route 31, Euclid, Town of Clay, Onondaga County, New York, 13090, USA\n",
      "Statue of Liberty, Flagpole Plaza, Manhattan Community Board 1, New York County, NYC, Liberty Island, 10004, USA\n"
     ]
    }
   ],
   "source": [
    "!pip install geopy\n",
    "import geopy\n",
    "from geopy.geocoders import Nominatim\n",
    "geolocator = Nominatim()\n",
    "location = geolocator.geocode(\"Hinds Hall, Syracuse, NY\")\n",
    "print(location.address)\n",
    "location = geolocator.reverse(\"43.0382155,-76.1333455471294\")\n",
    "print(location.address)\n",
    "\n",
    "geos = (('42.773760,  -78.786973'), ('44.854865, -93.242215'), ('42.999775,  -78.787046'),\n",
    "('43.183994,  -76.236695'),\n",
    "('40.689249,  -74.044500'))\n",
    "\n",
    "\n",
    "lats = [i[0] for i in geos]\n",
    "lons = [i[1] for i in geos]\n",
    "print('Fetching Geos')\n",
    "for i in geos:\n",
    "    print(geolocator.reverse(i))"
   ]
  },
  {
   "cell_type": "code",
   "execution_count": 59,
   "metadata": {
    "ExecuteTime": {
     "end_time": "2018-09-08T01:34:51.694889Z",
     "start_time": "2018-09-08T01:34:51.680927Z"
    }
   },
   "outputs": [
    {
     "ename": "NameError",
     "evalue": "name 'facebook_request_fn' is not defined",
     "output_type": "error",
     "traceback": [
      "\u001b[1;31m---------------------------------------------------------------------------\u001b[0m",
      "\u001b[1;31mNameError\u001b[0m                                 Traceback (most recent call last)",
      "\u001b[1;32m<ipython-input-59-273d04339e72>\u001b[0m in \u001b[0;36m<module>\u001b[1;34m()\u001b[0m\n\u001b[0;32m     11\u001b[0m \u001b[0mclient\u001b[0m\u001b[1;33m.\u001b[0m\u001b[0mlist_database_names\u001b[0m\u001b[1;33m(\u001b[0m\u001b[1;33m)\u001b[0m\u001b[1;33m\u001b[0m\u001b[0m\n\u001b[0;32m     12\u001b[0m \u001b[1;33m\u001b[0m\u001b[0m\n\u001b[1;32m---> 13\u001b[1;33m \u001b[0mfacebook_request_fn\u001b[0m\u001b[1;33m\u001b[0m\u001b[0m\n\u001b[0m",
      "\u001b[1;31mNameError\u001b[0m: name 'facebook_request_fn' is not defined"
     ]
    }
   ],
   "source": [
    "#!pip install facebook-sdk\n",
    "\n",
    "import json\n",
    "import re\n",
    "import pymongo\n",
    "import requests\n",
    "from bson.json_util import dumps\n",
    "import facebook\n",
    "\n",
    "client=pymongo.MongoClient('localhost', 27017)\n",
    "client.list_database_names()\n",
    "\n",
    "facebook_request_fn"
   ]
  }
 ],
 "metadata": {
  "hide_input": false,
  "kernelspec": {
   "display_name": "Python 3",
   "language": "python",
   "name": "python3"
  },
  "language_info": {
   "codemirror_mode": {
    "name": "ipython",
    "version": 3
   },
   "file_extension": ".py",
   "mimetype": "text/x-python",
   "name": "python",
   "nbconvert_exporter": "python",
   "pygments_lexer": "ipython3",
   "version": "3.6.4"
  }
 },
 "nbformat": 4,
 "nbformat_minor": 2
}
