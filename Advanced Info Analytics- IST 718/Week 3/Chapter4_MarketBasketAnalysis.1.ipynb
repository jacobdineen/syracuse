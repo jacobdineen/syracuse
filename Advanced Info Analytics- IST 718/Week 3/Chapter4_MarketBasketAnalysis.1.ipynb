{
 "cells": [
  {
   "cell_type": "code",
   "execution_count": 1,
   "metadata": {},
   "outputs": [
    {
     "ename": "ModuleNotFoundError",
     "evalue": "No module named 'rpy2'",
     "output_type": "error",
     "traceback": [
      "\u001b[1;31m---------------------------------------------------------------------------\u001b[0m",
      "\u001b[1;31mModuleNotFoundError\u001b[0m                       Traceback (most recent call last)",
      "\u001b[1;32m<ipython-input-1-0e634a86c6d6>\u001b[0m in \u001b[0;36m<module>\u001b[1;34m()\u001b[0m\n\u001b[1;32m----> 1\u001b[1;33m \u001b[1;32mfrom\u001b[0m \u001b[0mrpy2\u001b[0m\u001b[1;33m.\u001b[0m\u001b[0mrobjects\u001b[0m \u001b[1;32mimport\u001b[0m \u001b[0mpandas2ri\u001b[0m\u001b[1;33m\u001b[0m\u001b[0m\n\u001b[0m\u001b[0;32m      2\u001b[0m \u001b[0mpandas2ri\u001b[0m\u001b[1;33m.\u001b[0m\u001b[0mactivate\u001b[0m\u001b[1;33m(\u001b[0m\u001b[1;33m)\u001b[0m\u001b[1;33m\u001b[0m\u001b[0m\n\u001b[0;32m      3\u001b[0m \u001b[1;32mimport\u001b[0m \u001b[0mcollections\u001b[0m\u001b[1;33m\u001b[0m\u001b[0m\n\u001b[0;32m      4\u001b[0m \u001b[1;32mfrom\u001b[0m \u001b[0mcollections\u001b[0m \u001b[1;32mimport\u001b[0m \u001b[0mOrderedDict\u001b[0m\u001b[1;33m\u001b[0m\u001b[0m\n\u001b[0;32m      5\u001b[0m \u001b[1;32mimport\u001b[0m \u001b[0mpandas\u001b[0m \u001b[1;32mas\u001b[0m \u001b[0mpd\u001b[0m\u001b[1;33m\u001b[0m\u001b[0m\n",
      "\u001b[1;31mModuleNotFoundError\u001b[0m: No module named 'rpy2'"
     ]
    }
   ],
   "source": [
    "from rpy2.robjects import pandas2ri\n",
    "pandas2ri.activate()\n",
    "import collections\n",
    "from collections import OrderedDict\n",
    "import pandas as pd\n",
    "import numpy as np\n",
    "from rpy2.robjects.vectors import ListVector\n",
    "from rpy2.robjects.packages import importr"
   ]
  },
  {
   "cell_type": "code",
   "execution_count": 23,
   "metadata": {},
   "outputs": [
    {
     "ename": "RRuntimeError",
     "evalue": "Error in library(arules) : there is no package called 'arules'\n",
     "output_type": "error",
     "traceback": [
      "\u001b[1;31m---------------------------------------------------------------------------\u001b[0m",
      "\u001b[1;31mRRuntimeError\u001b[0m                             Traceback (most recent call last)",
      "\u001b[1;32m<ipython-input-23-61f93972095c>\u001b[0m in \u001b[0;36m<module>\u001b[1;34m()\u001b[0m\n\u001b[0;32m      4\u001b[0m \u001b[1;32mfrom\u001b[0m \u001b[0mrpy2\u001b[0m\u001b[1;33m.\u001b[0m\u001b[0mrobjects\u001b[0m \u001b[1;32mimport\u001b[0m \u001b[0mr\u001b[0m   \u001b[1;31m# interface from Python to R\u001b[0m\u001b[1;33m\u001b[0m\u001b[0m\n\u001b[0;32m      5\u001b[0m \u001b[1;33m\u001b[0m\u001b[0m\n\u001b[1;32m----> 6\u001b[1;33m \u001b[0mr\u001b[0m\u001b[1;33m(\u001b[0m\u001b[1;34m'library(arules)'\u001b[0m\u001b[1;33m)\u001b[0m  \u001b[1;31m# association rules\u001b[0m\u001b[1;33m\u001b[0m\u001b[0m\n\u001b[0m\u001b[0;32m      7\u001b[0m \u001b[0mr\u001b[0m\u001b[1;33m(\u001b[0m\u001b[1;34m'library(arulesViz)'\u001b[0m\u001b[1;33m)\u001b[0m  \u001b[1;31m# data visualization of association rules\u001b[0m\u001b[1;33m\u001b[0m\u001b[0m\n\u001b[0;32m      8\u001b[0m \u001b[0mr\u001b[0m\u001b[1;33m(\u001b[0m\u001b[1;34m'library(RColorBrewer)'\u001b[0m\u001b[1;33m)\u001b[0m  \u001b[1;31m# color palettes for plots\u001b[0m\u001b[1;33m\u001b[0m\u001b[0m\n",
      "\u001b[1;32m~\\Anaconda3\\lib\\site-packages\\rpy2-2.9.0-py3.6-win-amd64.egg\\rpy2\\robjects\\__init__.py\u001b[0m in \u001b[0;36m__call__\u001b[1;34m(self, string)\u001b[0m\n\u001b[0;32m    350\u001b[0m     \u001b[1;32mdef\u001b[0m \u001b[0m__call__\u001b[0m\u001b[1;33m(\u001b[0m\u001b[0mself\u001b[0m\u001b[1;33m,\u001b[0m \u001b[0mstring\u001b[0m\u001b[1;33m)\u001b[0m\u001b[1;33m:\u001b[0m\u001b[1;33m\u001b[0m\u001b[0m\n\u001b[0;32m    351\u001b[0m         \u001b[0mp\u001b[0m \u001b[1;33m=\u001b[0m \u001b[0m_rparse\u001b[0m\u001b[1;33m(\u001b[0m\u001b[0mtext\u001b[0m\u001b[1;33m=\u001b[0m\u001b[0mStrSexpVector\u001b[0m\u001b[1;33m(\u001b[0m\u001b[1;33m(\u001b[0m\u001b[0mstring\u001b[0m\u001b[1;33m,\u001b[0m\u001b[1;33m)\u001b[0m\u001b[1;33m)\u001b[0m\u001b[1;33m)\u001b[0m\u001b[1;33m\u001b[0m\u001b[0m\n\u001b[1;32m--> 352\u001b[1;33m         \u001b[0mres\u001b[0m \u001b[1;33m=\u001b[0m \u001b[0mself\u001b[0m\u001b[1;33m.\u001b[0m\u001b[0meval\u001b[0m\u001b[1;33m(\u001b[0m\u001b[0mp\u001b[0m\u001b[1;33m)\u001b[0m\u001b[1;33m\u001b[0m\u001b[0m\n\u001b[0m\u001b[0;32m    353\u001b[0m         \u001b[1;32mreturn\u001b[0m \u001b[0mconversion\u001b[0m\u001b[1;33m.\u001b[0m\u001b[0mri2py\u001b[0m\u001b[1;33m(\u001b[0m\u001b[0mres\u001b[0m\u001b[1;33m)\u001b[0m\u001b[1;33m\u001b[0m\u001b[0m\n\u001b[0;32m    354\u001b[0m \u001b[1;33m\u001b[0m\u001b[0m\n",
      "\u001b[1;32m~\\Anaconda3\\lib\\site-packages\\rpy2-2.9.0-py3.6-win-amd64.egg\\rpy2\\robjects\\functions.py\u001b[0m in \u001b[0;36m__call__\u001b[1;34m(self, *args, **kwargs)\u001b[0m\n\u001b[0;32m    176\u001b[0m                 \u001b[0mv\u001b[0m \u001b[1;33m=\u001b[0m \u001b[0mkwargs\u001b[0m\u001b[1;33m.\u001b[0m\u001b[0mpop\u001b[0m\u001b[1;33m(\u001b[0m\u001b[0mk\u001b[0m\u001b[1;33m)\u001b[0m\u001b[1;33m\u001b[0m\u001b[0m\n\u001b[0;32m    177\u001b[0m                 \u001b[0mkwargs\u001b[0m\u001b[1;33m[\u001b[0m\u001b[0mr_k\u001b[0m\u001b[1;33m]\u001b[0m \u001b[1;33m=\u001b[0m \u001b[0mv\u001b[0m\u001b[1;33m\u001b[0m\u001b[0m\n\u001b[1;32m--> 178\u001b[1;33m         \u001b[1;32mreturn\u001b[0m \u001b[0msuper\u001b[0m\u001b[1;33m(\u001b[0m\u001b[0mSignatureTranslatedFunction\u001b[0m\u001b[1;33m,\u001b[0m \u001b[0mself\u001b[0m\u001b[1;33m)\u001b[0m\u001b[1;33m.\u001b[0m\u001b[0m__call__\u001b[0m\u001b[1;33m(\u001b[0m\u001b[1;33m*\u001b[0m\u001b[0margs\u001b[0m\u001b[1;33m,\u001b[0m \u001b[1;33m**\u001b[0m\u001b[0mkwargs\u001b[0m\u001b[1;33m)\u001b[0m\u001b[1;33m\u001b[0m\u001b[0m\n\u001b[0m\u001b[0;32m    179\u001b[0m \u001b[1;33m\u001b[0m\u001b[0m\n\u001b[0;32m    180\u001b[0m \u001b[0mpattern_link\u001b[0m \u001b[1;33m=\u001b[0m \u001b[0mre\u001b[0m\u001b[1;33m.\u001b[0m\u001b[0mcompile\u001b[0m\u001b[1;33m(\u001b[0m\u001b[1;34mr'\\\\link\\{(.+?)\\}'\u001b[0m\u001b[1;33m)\u001b[0m\u001b[1;33m\u001b[0m\u001b[0m\n",
      "\u001b[1;32m~\\Anaconda3\\lib\\site-packages\\rpy2-2.9.0-py3.6-win-amd64.egg\\rpy2\\robjects\\functions.py\u001b[0m in \u001b[0;36m__call__\u001b[1;34m(self, *args, **kwargs)\u001b[0m\n\u001b[0;32m    104\u001b[0m         \u001b[1;32mfor\u001b[0m \u001b[0mk\u001b[0m\u001b[1;33m,\u001b[0m \u001b[0mv\u001b[0m \u001b[1;32min\u001b[0m \u001b[0mkwargs\u001b[0m\u001b[1;33m.\u001b[0m\u001b[0mitems\u001b[0m\u001b[1;33m(\u001b[0m\u001b[1;33m)\u001b[0m\u001b[1;33m:\u001b[0m\u001b[1;33m\u001b[0m\u001b[0m\n\u001b[0;32m    105\u001b[0m             \u001b[0mnew_kwargs\u001b[0m\u001b[1;33m[\u001b[0m\u001b[0mk\u001b[0m\u001b[1;33m]\u001b[0m \u001b[1;33m=\u001b[0m \u001b[0mconversion\u001b[0m\u001b[1;33m.\u001b[0m\u001b[0mpy2ri\u001b[0m\u001b[1;33m(\u001b[0m\u001b[0mv\u001b[0m\u001b[1;33m)\u001b[0m\u001b[1;33m\u001b[0m\u001b[0m\n\u001b[1;32m--> 106\u001b[1;33m         \u001b[0mres\u001b[0m \u001b[1;33m=\u001b[0m \u001b[0msuper\u001b[0m\u001b[1;33m(\u001b[0m\u001b[0mFunction\u001b[0m\u001b[1;33m,\u001b[0m \u001b[0mself\u001b[0m\u001b[1;33m)\u001b[0m\u001b[1;33m.\u001b[0m\u001b[0m__call__\u001b[0m\u001b[1;33m(\u001b[0m\u001b[1;33m*\u001b[0m\u001b[0mnew_args\u001b[0m\u001b[1;33m,\u001b[0m \u001b[1;33m**\u001b[0m\u001b[0mnew_kwargs\u001b[0m\u001b[1;33m)\u001b[0m\u001b[1;33m\u001b[0m\u001b[0m\n\u001b[0m\u001b[0;32m    107\u001b[0m         \u001b[0mres\u001b[0m \u001b[1;33m=\u001b[0m \u001b[0mconversion\u001b[0m\u001b[1;33m.\u001b[0m\u001b[0mri2ro\u001b[0m\u001b[1;33m(\u001b[0m\u001b[0mres\u001b[0m\u001b[1;33m)\u001b[0m\u001b[1;33m\u001b[0m\u001b[0m\n\u001b[0;32m    108\u001b[0m         \u001b[1;32mreturn\u001b[0m \u001b[0mres\u001b[0m\u001b[1;33m\u001b[0m\u001b[0m\n",
      "\u001b[1;31mRRuntimeError\u001b[0m: Error in library(arules) : there is no package called 'arules'\n"
     ]
    }
   ],
   "source": [
    "# Association Rules for Market Basket Analysis (Python)\n",
    "\n",
    "# import package for analysis and modeling\n",
    "from rpy2.robjects import r   # interface from Python to R\n",
    "\n",
    "r('library(arules)')  # association rules\n",
    "r('library(arulesViz)')  # data visualization of association rules\n",
    "r('library(RColorBrewer)')  # color palettes for plots\n",
    "\n",
    "r('data(Groceries)')  # grocery transactions object from arules package\n",
    "\n",
    "# show the dimensions of the transactions object\n",
    "r('print(dim(Groceries))')\n",
    "\n",
    "r('print(dim(Groceries)[1])')  # 9835 market baskets for shopping trips\n",
    "r('print(dim(Groceries)[2])')  # 169 initial store items  \n",
    "\n",
    "# examine frequency for each item with support greater than 0.025\n",
    "r('pdf(file=\"fig_market_basket_initial_item_support.pdf\", \\\n",
    "    width = 8.5, height = 11)')\n",
    "r('itemFrequencyPlot(Groceries, support = 0.025, \\\n",
    "    cex.names=0.8, xlim = c(0,0.3), \\\n",
    "    type = \"relative\", horiz = TRUE, col = \"dark red\", las = 1, \\\n",
    "    xlab = paste(\"Proportion of Market Baskets Containing Item\", \\\n",
    "      \"\\n(Item Relative Frequency or Support)\"))')\n",
    "r('dev.off()')    \n",
    "\n",
    "# explore possibilities for combining similar items\n",
    "r('print(head(itemInfo(Groceries)))') \n",
    "r('print(levels(itemInfo(Groceries)[[\"level1\"]]))')  # 10 levels... too few \n",
    "r('print(levels(itemInfo(Groceries)[[\"level2\"]]))')  # 55 distinct levels\n",
    "\n",
    "# aggregate items using the 55 level2 levels for food categories\n",
    "# to create a more meaningful set of items\n",
    "r('groceries <- aggregate(Groceries, itemInfo(Groceries)[[\"level2\"]])')  \n",
    "\n",
    "r('print(dim(groceries)[1])')  # 9835 market baskets for shopping trips\n",
    "r('print(dim(groceries)[2])')  # 55 final store items (categories)  \n",
    "\n",
    "r('pdf(file=\"fig_market_basket_final_item_support.pdf\", \\\n",
    "      width = 8.5, height = 11)')\n",
    "r('itemFrequencyPlot(groceries, support = 0.025, \\\n",
    "       cex.names=1.0, xlim = c(0,0.5),\\\n",
    "       type = \"relative\", horiz = TRUE, col = \"blue\", las = 1,\\\n",
    "       xlab = paste(\"Proportion of Market Baskets Containing Item\",\\\n",
    "    \"\\n(Item Relative Frequency or Support)\"))')\n",
    "r('dev.off()')   \n",
    "\n",
    "# obtain large set of association rules for items by category and all shoppers\n",
    "# this is done by setting very low criteria for support and confidence\n",
    "r('first.rules <- apriori(groceries, \\\n",
    "       parameter = list(support = 0.001, confidence = 0.05))')\n",
    "r('print(summary(first.rules))')  # yields 69,921 rules... too many\n",
    "\n",
    "# select association rules using thresholds for support and confidence \n",
    "r('second.rules <- apriori(groceries, \\\n",
    "       parameter = list(support = 0.025, confidence = 0.05))')\n",
    "r('print(summary(second.rules))')  # yields 344 rules\n",
    "  \n",
    "# data visualization of association rules in scatter plot\n",
    "r('pdf(file=\"fig_market_basket_rules.pdf\", width = 8.5, height = 8.5)')\n",
    "r('plot(second.rules, \\\n",
    "       control=list(jitter=2, col = rev(brewer.pal(9, \"Greens\")[4:9])), \\\n",
    "  shading = \"lift\")')   \n",
    "r('dev.off()')    \n",
    "  \n",
    "# grouped matrix of rules \n",
    "r('pdf(file=\"fig_market_basket_rules_matrix.pdf\", \\\n",
    "       width = 8.5, height = 8.5)')\n",
    "r('plot(second.rules, method=\"grouped\", \\\n",
    "       control=list(col = rev(brewer.pal(9, \"Greens\")[4:9])))')\n",
    "r('dev.off()')    \n",
    "\n",
    "# select rules with vegetables in consequent (right-hand-side) item subsets\n",
    "r('vegie.rules <- subset(second.rules, subset = rhs %pin% \"vegetables\")')\n",
    "r('inspect(vegie.rules)')  # 41 rules\n",
    "\n",
    "# sort by lift and identify the top 10 rules\n",
    "r('top.vegie.rules <- head(sort(vegie.rules, \\\n",
    "       decreasing = TRUE, by = \"lift\"), 10)')\n",
    "r('inspect(top.vegie.rules)') \n",
    "\n",
    "r('pdf(file=\"fig_market_basket_farmer_rules.pdf\", width = 11, height = 8.5)')\n",
    "r('plot(top.vegie.rules, method=\"graph\", \\\n",
    "       control=list(type=\"items\"), \\\n",
    "       shading = \"lift\")')\n",
    "r('dev.off()')  \n",
    "\n",
    "# Suggestions for the student:\n",
    "# Suppose your client is someone other than the local farmer,\n",
    "# a meat producer/butcher, dairy, or brewer perhaps.\n",
    "# Determine association rules relevant to your client's products\n",
    "# guided by the market basket model. What recommendations\n",
    "# would you make about future marketplace actions?\n"
   ]
  },
  {
   "cell_type": "code",
   "execution_count": null,
   "metadata": {
    "collapsed": true
   },
   "outputs": [],
   "source": []
  }
 ],
 "metadata": {
  "kernelspec": {
   "display_name": "Python 3",
   "language": "python",
   "name": "python3"
  },
  "language_info": {
   "codemirror_mode": {
    "name": "ipython",
    "version": 3
   },
   "file_extension": ".py",
   "mimetype": "text/x-python",
   "name": "python",
   "nbconvert_exporter": "python",
   "pygments_lexer": "ipython3",
   "version": "3.6.3"
  }
 },
 "nbformat": 4,
 "nbformat_minor": 2
}
