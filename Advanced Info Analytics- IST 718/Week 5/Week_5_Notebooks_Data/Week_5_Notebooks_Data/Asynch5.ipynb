{
 "cells": [
  {
   "cell_type": "code",
   "execution_count": 1,
   "metadata": {},
   "outputs": [
    {
     "name": "stdout",
     "output_type": "stream",
     "text": [
      "[nltk_data] Downloading package stopwords to\n",
      "[nltk_data]     C:\\Users\\jdine\\AppData\\Roaming\\nltk_data...\n",
      "[nltk_data]   Package stopwords is already up-to-date!\n"
     ]
    }
   ],
   "source": [
    "# TEXT ANALYSIS \n",
    "# BASED ON MILLER (2015) and RASCHKA (2015)\n",
    "\n",
    "# import packages for text processing and multivariate analysis\n",
    "import re  # regular expressions\n",
    "import nltk  # draw on the Python natural language toolkit\n",
    "import pandas as pd  # DataFrame structure and operations\n",
    "import numpy as np  # arrays and numerical processing\n",
    "import scipy\n",
    "import matplotlib.pyplot as plt  # 2D plotting\n",
    "\n",
    "# terms-by-documents matrix\n",
    "from sklearn.feature_extraction.text import CountVectorizer\n",
    "\n",
    "# alternative distance metrics for multidimensional scaling\n",
    "from sklearn.metrics import euclidean_distances \n",
    "from sklearn.metrics.pairwise import linear_kernel as cosine_distances\n",
    "from sklearn.metrics.pairwise import manhattan_distances as manhattan_distances\n",
    "\n",
    "from sklearn import manifold  # multidimensional scaling\n",
    "from sklearn.cluster import KMeans  # cluster analysis by partitioning\n",
    "from sklearn.decomposition import PCA  # principal component analysis\n",
    "\n",
    "from nltk.corpus import stopwords\n",
    "stopwords = nltk.download('stopwords')\n"
   ]
  },
  {
   "cell_type": "code",
   "execution_count": 9,
   "metadata": {
    "collapsed": true
   },
   "outputs": [],
   "source": [
    "# define list of codes to be dropped from documents\n",
    "# carriage-returns, line-feeds, tabs\n",
    "codelist = ['\\r', '\\n', '\\t']    \n",
    "\n",
    "# contractions and other word strings to drop from further analysis, adding\n",
    "# to the usual English stopwords to be dropped from the document collection\n",
    "more_stop_words = ['cant','didnt','doesnt','dont','goes','isnt','hes',\\\n",
    "    'shes','thats','theres','theyre','wont','youll','youre','youve',\\\n",
    "    're','tv','g','us','en','ve','vg','didn','pg','gp','our','we',\n",
    "    'll','film','video','name','years','days','one','two','three',\\\n",
    "    'four','five','six','seven','eight','nine','ten','eleven','twelve'] \n",
    "# start with the initial list and add to it for movie text work \n",
    "stoplist = nltk.corpus.stopwords.words('english') + more_stop_words "
   ]
  },
  {
   "cell_type": "code",
   "execution_count": 10,
   "metadata": {
    "collapsed": true
   },
   "outputs": [],
   "source": [
    "# text parsing function for creating text documents \n",
    "# there is more we could do for data preparation \n",
    "# stemming... looking for contractions... possessives... \n",
    "# but we will work with what we have in this parsing function\n",
    "# if we want to do stemming at a later time, we can use\n",
    "#     porter = nltk.PorterStemmer()  \n",
    "# in a construction like this\n",
    "#     words_stemmed =  [porter.stem(word) for word in initial_words]  \n",
    "def text_parse(string):\n",
    "    # replace non-alphanumeric with space \n",
    "    temp_string = re.sub('[^a-zA-Z]', '  ', string)    \n",
    "    # replace codes with space\n",
    "    for i in range(len(codelist)):\n",
    "        stopstring = ' ' + codelist[i] + '  '\n",
    "        temp_string = re.sub(stopstring, '  ', temp_string)      \n",
    "    # replace single-character words with space\n",
    "    temp_string = re.sub('\\s.\\s', ' ', temp_string)   \n",
    "    # convert uppercase to lowercase\n",
    "    temp_string = temp_string.lower()    \n",
    "    # replace selected character strings/stop-words with space\n",
    "    for i in range(len(stoplist)):\n",
    "        stopstring = ' ' + str(stoplist[i]) + ' '\n",
    "        temp_string = re.sub(stopstring, ' ', temp_string)        \n",
    "    # replace multiple blank characters with one blank character\n",
    "    temp_string = re.sub('\\s+', ' ', temp_string)    \n",
    "    return(temp_string)    \n"
   ]
  },
  {
   "cell_type": "code",
   "execution_count": 12,
   "metadata": {},
   "outputs": [
    {
     "data": {
      "text/html": [
       "<div>\n",
       "<style>\n",
       "    .dataframe thead tr:only-child th {\n",
       "        text-align: right;\n",
       "    }\n",
       "\n",
       "    .dataframe thead th {\n",
       "        text-align: left;\n",
       "    }\n",
       "\n",
       "    .dataframe tbody tr th {\n",
       "        vertical-align: top;\n",
       "    }\n",
       "</style>\n",
       "<table border=\"1\" class=\"dataframe\">\n",
       "  <thead>\n",
       "    <tr style=\"text-align: right;\">\n",
       "      <th></th>\n",
       "      <th>review</th>\n",
       "      <th>text</th>\n",
       "    </tr>\n",
       "  </thead>\n",
       "  <tbody>\n",
       "    <tr>\n",
       "      <th>0</th>\n",
       "      <td>'Mike\\'s Pizza High Point</td>\n",
       "      <td>NY Service was very slow and the quality was ...</td>\n",
       "    </tr>\n",
       "    <tr>\n",
       "      <th>1</th>\n",
       "      <td>'i really like this buffet restaurant in Marsh...</td>\n",
       "      <td>japanese</td>\n",
       "    </tr>\n",
       "    <tr>\n",
       "      <th>2</th>\n",
       "      <td>'After I went shopping with some of my friend</td>\n",
       "      <td>we went to DODO restaurant for dinner. I foun...</td>\n",
       "    </tr>\n",
       "    <tr>\n",
       "      <th>3</th>\n",
       "      <td>'Olive Oil Garden was very disappointing. I ex...</td>\n",
       "      <td>and the waitor had no manners whatsoever. Don...</td>\n",
       "    </tr>\n",
       "    <tr>\n",
       "      <th>4</th>\n",
       "      <td>'The Seven Heaven restaurant was never known f...</td>\n",
       "      <td>never more. '</td>\n",
       "    </tr>\n",
       "  </tbody>\n",
       "</table>\n",
       "</div>"
      ],
      "text/plain": [
       "                                              review  \\\n",
       "0                          'Mike\\'s Pizza High Point   \n",
       "1  'i really like this buffet restaurant in Marsh...   \n",
       "2      'After I went shopping with some of my friend   \n",
       "3  'Olive Oil Garden was very disappointing. I ex...   \n",
       "4  'The Seven Heaven restaurant was never known f...   \n",
       "\n",
       "                                                text  \n",
       "0   NY Service was very slow and the quality was ...  \n",
       "1                                           japanese  \n",
       "2   we went to DODO restaurant for dinner. I foun...  \n",
       "3   and the waitor had no manners whatsoever. Don...  \n",
       "4                                      never more. '  "
      ]
     },
     "execution_count": 12,
     "metadata": {},
     "output_type": "execute_result"
    }
   ],
   "source": [
    "reviews = pd.read_csv('deception_data_converted_final.csv') \n",
    "reviews.head()"
   ]
  }
 ],
 "metadata": {
  "kernelspec": {
   "display_name": "Python 3",
   "language": "python",
   "name": "python3"
  },
  "language_info": {
   "codemirror_mode": {
    "name": "ipython",
    "version": 3
   },
   "file_extension": ".py",
   "mimetype": "text/x-python",
   "name": "python",
   "nbconvert_exporter": "python",
   "pygments_lexer": "ipython3",
   "version": "3.6.3"
  }
 },
 "nbformat": 4,
 "nbformat_minor": 2
}
