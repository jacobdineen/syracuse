{
 "cells": [
  {
   "cell_type": "markdown",
   "metadata": {},
   "source": [
    "#### Excessively Load Packages That I Likely Won't Use"
   ]
  },
  {
   "cell_type": "code",
   "execution_count": 1,
   "metadata": {
    "scrolled": true
   },
   "outputs": [
    {
     "name": "stdout",
     "output_type": "stream",
     "text": [
      "Requirement already satisfied: tensorflow in c:\\users\\jdine\\documents\\anaconda3\\lib\\site-packages\n",
      "Requirement already satisfied: gast>=0.2.0 in c:\\users\\jdine\\documents\\anaconda3\\lib\\site-packages (from tensorflow)\n",
      "Requirement already satisfied: six>=1.10.0 in c:\\users\\jdine\\documents\\anaconda3\\lib\\site-packages (from tensorflow)\n",
      "Requirement already satisfied: termcolor>=1.1.0 in c:\\users\\jdine\\documents\\anaconda3\\lib\\site-packages (from tensorflow)\n",
      "Requirement already satisfied: numpy>=1.13.3 in c:\\users\\jdine\\documents\\anaconda3\\lib\\site-packages (from tensorflow)\n",
      "Requirement already satisfied: grpcio>=1.8.6 in c:\\users\\jdine\\documents\\anaconda3\\lib\\site-packages (from tensorflow)\n",
      "Requirement already satisfied: protobuf>=3.4.0 in c:\\users\\jdine\\documents\\anaconda3\\lib\\site-packages (from tensorflow)\n",
      "Requirement already satisfied: tensorboard<1.7.0,>=1.6.0 in c:\\users\\jdine\\documents\\anaconda3\\lib\\site-packages (from tensorflow)\n",
      "Requirement already satisfied: wheel>=0.26 in c:\\users\\jdine\\documents\\anaconda3\\lib\\site-packages (from tensorflow)\n",
      "Requirement already satisfied: absl-py>=0.1.6 in c:\\users\\jdine\\documents\\anaconda3\\lib\\site-packages (from tensorflow)\n",
      "Requirement already satisfied: astor>=0.6.0 in c:\\users\\jdine\\documents\\anaconda3\\lib\\site-packages (from tensorflow)\n",
      "Requirement already satisfied: setuptools in c:\\users\\jdine\\documents\\anaconda3\\lib\\site-packages (from protobuf>=3.4.0->tensorflow)\n",
      "Requirement already satisfied: bleach==1.5.0 in c:\\users\\jdine\\documents\\anaconda3\\lib\\site-packages (from tensorboard<1.7.0,>=1.6.0->tensorflow)\n",
      "Requirement already satisfied: markdown>=2.6.8 in c:\\users\\jdine\\documents\\anaconda3\\lib\\site-packages (from tensorboard<1.7.0,>=1.6.0->tensorflow)\n",
      "Requirement already satisfied: werkzeug>=0.11.10 in c:\\users\\jdine\\documents\\anaconda3\\lib\\site-packages (from tensorboard<1.7.0,>=1.6.0->tensorflow)\n",
      "Requirement already satisfied: html5lib==0.9999999 in c:\\users\\jdine\\documents\\anaconda3\\lib\\site-packages (from tensorboard<1.7.0,>=1.6.0->tensorflow)\n"
     ]
    },
    {
     "name": "stderr",
     "output_type": "stream",
     "text": [
      "C:\\Users\\jdine\\Documents\\Anaconda3\\lib\\site-packages\\h5py\\__init__.py:36: FutureWarning: Conversion of the second argument of issubdtype from `float` to `np.floating` is deprecated. In future, it will be treated as `np.float64 == np.dtype(float).type`.\n",
      "  from ._conv import register_converters as _register_converters\n"
     ]
    },
    {
     "name": "stdout",
     "output_type": "stream",
     "text": [
      "Requirement already satisfied: keras in c:\\users\\jdine\\documents\\anaconda3\\lib\\site-packages\n",
      "Requirement already satisfied: pyyaml in c:\\users\\jdine\\documents\\anaconda3\\lib\\site-packages (from keras)\n",
      "Requirement already satisfied: scipy>=0.14 in c:\\users\\jdine\\documents\\anaconda3\\lib\\site-packages (from keras)\n",
      "Requirement already satisfied: numpy>=1.9.1 in c:\\users\\jdine\\documents\\anaconda3\\lib\\site-packages (from keras)\n",
      "Requirement already satisfied: six>=1.9.0 in c:\\users\\jdine\\documents\\anaconda3\\lib\\site-packages (from keras)\n"
     ]
    },
    {
     "name": "stderr",
     "output_type": "stream",
     "text": [
      "Using TensorFlow backend.\n",
      "C:\\Users\\jdine\\Documents\\Anaconda3\\lib\\site-packages\\statsmodels\\compat\\pandas.py:56: FutureWarning: The pandas.core.datetools module is deprecated and will be removed in a future version. Please use the pandas.tseries module instead.\n",
      "  from pandas.core import datetools\n"
     ]
    },
    {
     "name": "stdout",
     "output_type": "stream",
     "text": [
      "Requirement already satisfied: cufflinks in c:\\users\\jdine\\documents\\anaconda3\\lib\\site-packages\n",
      "Requirement already satisfied: plotly>=2.0.0 in c:\\users\\jdine\\documents\\anaconda3\\lib\\site-packages (from cufflinks)\n",
      "Requirement already satisfied: pandas in c:\\users\\jdine\\documents\\anaconda3\\lib\\site-packages (from cufflinks)\n",
      "Requirement already satisfied: colorlover>=0.2 in c:\\users\\jdine\\documents\\anaconda3\\lib\\site-packages (from cufflinks)\n",
      "Requirement already satisfied: nbformat>=4.2 in c:\\users\\jdine\\documents\\anaconda3\\lib\\site-packages (from plotly>=2.0.0->cufflinks)\n",
      "Requirement already satisfied: requests in c:\\users\\jdine\\documents\\anaconda3\\lib\\site-packages (from plotly>=2.0.0->cufflinks)\n",
      "Requirement already satisfied: decorator>=4.0.6 in c:\\users\\jdine\\documents\\anaconda3\\lib\\site-packages (from plotly>=2.0.0->cufflinks)\n",
      "Requirement already satisfied: pytz in c:\\users\\jdine\\documents\\anaconda3\\lib\\site-packages (from plotly>=2.0.0->cufflinks)\n",
      "Requirement already satisfied: six in c:\\users\\jdine\\documents\\anaconda3\\lib\\site-packages (from plotly>=2.0.0->cufflinks)\n",
      "Requirement already satisfied: python-dateutil>=2 in c:\\users\\jdine\\documents\\anaconda3\\lib\\site-packages (from pandas->cufflinks)\n",
      "Requirement already satisfied: numpy>=1.9.0 in c:\\users\\jdine\\documents\\anaconda3\\lib\\site-packages (from pandas->cufflinks)\n",
      "Requirement already satisfied: ipython_genutils in c:\\users\\jdine\\documents\\anaconda3\\lib\\site-packages (from nbformat>=4.2->plotly>=2.0.0->cufflinks)\n",
      "Requirement already satisfied: traitlets>=4.1 in c:\\users\\jdine\\documents\\anaconda3\\lib\\site-packages (from nbformat>=4.2->plotly>=2.0.0->cufflinks)\n",
      "Requirement already satisfied: jsonschema!=2.5.0,>=2.4 in c:\\users\\jdine\\documents\\anaconda3\\lib\\site-packages (from nbformat>=4.2->plotly>=2.0.0->cufflinks)\n",
      "Requirement already satisfied: jupyter_core in c:\\users\\jdine\\documents\\anaconda3\\lib\\site-packages (from nbformat>=4.2->plotly>=2.0.0->cufflinks)\n",
      "Requirement already satisfied: chardet<3.1.0,>=3.0.2 in c:\\users\\jdine\\documents\\anaconda3\\lib\\site-packages (from requests->plotly>=2.0.0->cufflinks)\n",
      "Requirement already satisfied: idna<2.7,>=2.5 in c:\\users\\jdine\\documents\\anaconda3\\lib\\site-packages (from requests->plotly>=2.0.0->cufflinks)\n",
      "Requirement already satisfied: urllib3<1.23,>=1.21.1 in c:\\users\\jdine\\documents\\anaconda3\\lib\\site-packages (from requests->plotly>=2.0.0->cufflinks)\n",
      "Requirement already satisfied: certifi>=2017.4.17 in c:\\users\\jdine\\documents\\anaconda3\\lib\\site-packages (from requests->plotly>=2.0.0->cufflinks)\n",
      "Requirement already satisfied: tensorflow in c:\\users\\jdine\\documents\\anaconda3\\lib\\site-packages\n",
      "Requirement already satisfied: wheel>=0.26 in c:\\users\\jdine\\documents\\anaconda3\\lib\\site-packages (from tensorflow)\n",
      "Requirement already satisfied: astor>=0.6.0 in c:\\users\\jdine\\documents\\anaconda3\\lib\\site-packages (from tensorflow)\n",
      "Requirement already satisfied: absl-py>=0.1.6 in c:\\users\\jdine\\documents\\anaconda3\\lib\\site-packages (from tensorflow)\n",
      "Requirement already satisfied: grpcio>=1.8.6 in c:\\users\\jdine\\documents\\anaconda3\\lib\\site-packages (from tensorflow)\n",
      "Requirement already satisfied: tensorboard<1.7.0,>=1.6.0 in c:\\users\\jdine\\documents\\anaconda3\\lib\\site-packages (from tensorflow)\n",
      "Requirement already satisfied: termcolor>=1.1.0 in c:\\users\\jdine\\documents\\anaconda3\\lib\\site-packages (from tensorflow)\n",
      "Requirement already satisfied: protobuf>=3.4.0 in c:\\users\\jdine\\documents\\anaconda3\\lib\\site-packages (from tensorflow)\n",
      "Requirement already satisfied: six>=1.10.0 in c:\\users\\jdine\\documents\\anaconda3\\lib\\site-packages (from tensorflow)\n",
      "Requirement already satisfied: gast>=0.2.0 in c:\\users\\jdine\\documents\\anaconda3\\lib\\site-packages (from tensorflow)\n",
      "Requirement already satisfied: numpy>=1.13.3 in c:\\users\\jdine\\documents\\anaconda3\\lib\\site-packages (from tensorflow)\n",
      "Requirement already satisfied: werkzeug>=0.11.10 in c:\\users\\jdine\\documents\\anaconda3\\lib\\site-packages (from tensorboard<1.7.0,>=1.6.0->tensorflow)\n",
      "Requirement already satisfied: bleach==1.5.0 in c:\\users\\jdine\\documents\\anaconda3\\lib\\site-packages (from tensorboard<1.7.0,>=1.6.0->tensorflow)\n",
      "Requirement already satisfied: html5lib==0.9999999 in c:\\users\\jdine\\documents\\anaconda3\\lib\\site-packages (from tensorboard<1.7.0,>=1.6.0->tensorflow)\n",
      "Requirement already satisfied: markdown>=2.6.8 in c:\\users\\jdine\\documents\\anaconda3\\lib\\site-packages (from tensorboard<1.7.0,>=1.6.0->tensorflow)\n",
      "Requirement already satisfied: setuptools in c:\\users\\jdine\\documents\\anaconda3\\lib\\site-packages (from protobuf>=3.4.0->tensorflow)\n"
     ]
    }
   ],
   "source": [
    "import numpy as np\n",
    "import pandas as pd\n",
    "import matplotlib.pyplot as plt\n",
    "%matplotlib inline\n",
    "!pip install tensorflow\n",
    "import tensorflow as tf\n",
    "!pip install keras \n",
    "from keras.datasets import mnist\n",
    "from keras.models import Sequential\n",
    "from keras.layers import Dense, Dropout, Activation, Flatten\n",
    "from keras.optimizers import Adam\n",
    "from keras.layers.normalization import BatchNormalization\n",
    "from keras.utils import np_utils\n",
    "from keras.layers import Conv2D, MaxPooling2D, ZeroPadding2D, GlobalAveragePooling2D\n",
    "from keras.layers.advanced_activations import LeakyReLU \n",
    "from keras.preprocessing.image import ImageDataGenerator\n",
    "from keras.utils.np_utils import to_categorical # convert to one-hot-encoding\n",
    "from keras.models import Sequential\n",
    "from keras.layers import Dense, Dropout, Flatten, Conv2D, MaxPool2D\n",
    "from keras.optimizers import RMSprop\n",
    "from keras.preprocessing.image import ImageDataGenerator\n",
    "from keras.callbacks import ReduceLROnPlateau\n",
    "import pandas as pd\n",
    "import numpy as np\n",
    "import matplotlib.pyplot as plt\n",
    "import matplotlib.image as mpimg\n",
    "import seaborn as sns\n",
    "%matplotlib inline\n",
    "np.random.seed(2)\n",
    "from sklearn.model_selection import train_test_split\n",
    "from sklearn.metrics import confusion_matrix\n",
    "import itertools\n",
    "import pandas as pd  # data frame operations\n",
    "import numpy as np #arrays and math functions\n",
    "import statsmodels.api as sm #stat models (regression)\n",
    "import matplotlib.pyplot as plt #2d plotting\n",
    "from pandas.tools.plotting import scatter_matrix  # scatter plot matrix\n",
    "import numpy as np  # arrays and math functions\n",
    "from scipy.stats import uniform  # for training-and-test split\n",
    "%config IPCompleter.greedy=True #tabbing for autocomplete\n",
    "import seaborn as sns  # PROVIDES TRELLIS AND SMALL MULTIPLE PLOTTING\n",
    "from pandas import Series\n",
    "from sklearn.metrics import mean_squared_error\n",
    "from statsmodels.tsa.arima_model import ARIMA\n",
    "from statsmodels.tsa.arima_model import ARIMAResults\n",
    "from math import sqrt\n",
    "from pandas import DataFrame\n",
    "from scipy.stats import boxcox\n",
    "import warnings\n",
    "import matplotlib.pyplot as plt\n",
    "pd.options.mode.chained_assignment = None\n",
    "!pip install cufflinks\n",
    "import cufflinks as cf\n",
    "import plotly \n",
    "import plotly.graph_objs as go\n",
    "from plotly import tools\n",
    "from plotly.offline import iplot, init_notebook_mode\n",
    "from sklearn.metrics import confusion_matrix\n",
    "!pip install tensorflow\n",
    "import tensorflow as tf\n",
    "\n",
    "sns.set(style='white', context='notebook', palette='deep')"
   ]
  },
  {
   "cell_type": "code",
   "execution_count": 2,
   "metadata": {
    "scrolled": true
   },
   "outputs": [
    {
     "name": "stdout",
     "output_type": "stream",
     "text": [
      "[[ 262.  392.]\n",
      " [1141. 1760.]]\n"
     ]
    }
   ],
   "source": [
    "import tensorflow as tf\n",
    "\n",
    "with tf.device(\"/CPU:0\"):\n",
    "    with tf.Session() as sess:\n",
    "        a = tf.constant([1.0, 2.0, 3.0, 4.0, 5.0, 6.0], shape=[2, 3], name='a')\n",
    "        b = tf.constant([1.0, 2.0, 3.0, 4.0, 5.0, 6.0], shape=[3, 2], name='b')\n",
    "        c = tf.matmul(a ** 2, b ** 2)\n",
    "    # Runs the op.\n",
    "    print(sess.run(c))\n"
   ]
  },
  {
   "cell_type": "markdown",
   "metadata": {},
   "source": [
    "# Laboratory Exercise 3"
   ]
  },
  {
   "cell_type": "markdown",
   "metadata": {},
   "source": [
    "### The research question is can we use algorithms and compute to identify handwritten digits? Specifically, can we determine which algorithm and compute methodology provides us the most efficient approach for classifying handwritten digits?"
   ]
  },
  {
   "cell_type": "markdown",
   "metadata": {},
   "source": [
    "Using the base samples available from Prof LeCun:\n",
    "\n",
    "\n",
    "o http://yann.lecun.com/exdb/mnist/\n",
    "\n",
    "\n",
    "o Review the data – clean as appropriate\n",
    "\n",
    "\n",
    "o Provide an initial data analysis"
   ]
  },
  {
   "cell_type": "markdown",
   "metadata": {},
   "source": [
    "The first step is to load the data into to arrays. The Mnist data is available through the Keras and Tensorflow libraries, \n",
    "so to avoid local storage and data conversion, we utilize the given functionality. use the mnist.load data function to read the dataset into 4 different arrays: training image data, training labels, testing image, testing labels. We revert course and decide to use an external library, idx2numpy, that reads in idx files and converts them into numpy arrays. The results are the same, but we've utilized a different method."
   ]
  },
  {
   "cell_type": "code",
   "execution_count": 3,
   "metadata": {},
   "outputs": [
    {
     "name": "stdout",
     "output_type": "stream",
     "text": [
      "Requirement already satisfied: idx2numpy in c:\\users\\jdine\\documents\\anaconda3\\lib\\site-packages\n",
      "Requirement already satisfied: numpy in c:\\users\\jdine\\documents\\anaconda3\\lib\\site-packages (from idx2numpy)\n",
      "Requirement already satisfied: six in c:\\users\\jdine\\documents\\anaconda3\\lib\\site-packages (from idx2numpy)\n"
     ]
    }
   ],
   "source": [
    "#Pip install git+https://github.com/ivanyu/idx2numpy.git to read library in from Github via Conda Prompt\n",
    "#https://pypi.python.org/pypi/idx2numpy\n",
    "#https://keras.io/datasets/\n",
    "#https://github.com/wxs/keras-mnist-tutorial/blob/master/MNIST%20in%20Keras.ipynb\n",
    "\n",
    "#from keras.datasets import mnist #mnist dataset preloaded into Keras\n",
    "#(x_train, y_train), (x_test, y_test) = mnist.load_data() #store into 4 arrays: training image data, training labels, testing image, testing labels\n",
    "\n",
    "#or reading the files in from http://yann.lecun.com/exdb/mnist/\n",
    "!pip install idx2numpy\n",
    "import idx2numpy\n",
    "x_train = idx2numpy.convert_from_file('train-images.idx3-ubyte')\n",
    "y_train = idx2numpy.convert_from_file('train-labels.idx1-ubyte')\n",
    "x_test = idx2numpy.convert_from_file('t10k-images.idx3-ubyte')\n",
    "y_test = idx2numpy.convert_from_file('t10k-labels.idx1-ubyte')"
   ]
  },
  {
   "cell_type": "markdown",
   "metadata": {},
   "source": [
    "Printing the shapes of the data tells us that we are dealing with 60000 observations for our training set, and 10000 for our validation/test set. A snippet of code below shows what the the plotted values of the pre-transformed data represent, visually. Additionally, we look at a countplot of the training labels to understand the distribution of digits, which appears to show some effects of stratified sampling rather than random sampling. This was likely done to be able to better judge the model, for example, if we were looking at a randomly sampled set where n = 60000 and the digit 9 was present 50000 times in the sample, or model could learn to randomly guess 9 for each set of inputs and have an accuracy of 90%. The ytest data also shows relatively even probability distributions across all 10 possible outputs. The data currently sits in multidimensional arrays, so we will want to convert the 28x28 images to be a single ndimensional vector. After conversion, we will want to look at normalizing the values. For image processing, normalization helps to bring the dynamic values of each pixel into a similar range, which becomes important during induction/deduction because we won't have drastic differences in weights from inputs."
   ]
  },
  {
   "cell_type": "code",
   "execution_count": 4,
   "metadata": {},
   "outputs": [
    {
     "data": {
      "text/plain": [
       "(('The shape of', 'x_train', (60000, 28, 28)),\n",
       " ('The shape of', 'y_train', (60000,)),\n",
       " ('The shape of', 'x_test', (10000, 28, 28)),\n",
       " ('The shape of', 'y_test', (10000,)))"
      ]
     },
     "execution_count": 4,
     "metadata": {},
     "output_type": "execute_result"
    }
   ],
   "source": [
    "def printshape (x_train, y_train, x_test, y_test):\n",
    "    return(\"The shape of\", 'x_train', x_train.shape),(\"The shape of\", 'y_train', y_train.shape),(\"The shape of\", 'x_test', x_test.shape),(\"The shape of\", 'y_test', y_test.shape)\n",
    "\n",
    "printshape(x_train, y_train, x_test, y_test)\n",
    "\n"
   ]
  },
  {
   "cell_type": "code",
   "execution_count": 5,
   "metadata": {},
   "outputs": [
    {
     "data": {
      "image/png": "[encoded data removed]",
      "text/plain": [
       "<matplotlib.figure.Figure at 0x21a0c157160>"
      ]
     },
     "metadata": {},
     "output_type": "display_data"
    }
   ],
   "source": [
    "#Print out samples of images from training image set\n",
    "for i in range(5):\n",
    "    plt.subplot(5,5,i+1) \n",
    "    plt.imshow(x_train[i], cmap='gray')\n",
    "    plt.title(\"Class {}\".format(y_train[i]))    "
   ]
  },
  {
   "cell_type": "code",
   "execution_count": 6,
   "metadata": {},
   "outputs": [
    {
     "data": {
      "image/png": "[encoded data removed]",
      "text/plain": [
       "<matplotlib.figure.Figure at 0x21a0c279908>"
      ]
     },
     "metadata": {},
     "output_type": "display_data"
    }
   ],
   "source": [
    "ytraincountplot = pd.DataFrame(y_train)\n",
    "ytestcountplot = pd.DataFrame(y_test)\n",
    "from pylab import rcParams\n",
    "\n",
    "rcParams['figure.figsize'] = 7,7\n",
    "plt.plot([1,2,3])\n",
    "plt.subplot(211)\n",
    "sns.countplot(y_train)\n",
    "plt.title(\"Frequency of Occurrence in Training Set\")\n",
    "plt.subplot(212)\n",
    "sns.countplot(y_test)\n",
    "plt.title(\"Frequency of Occurrence in Test Set\")\n",
    "plt.show()\n",
    "rcParams['figure.figsize'] = 5,5\n"
   ]
  },
  {
   "cell_type": "code",
   "execution_count": 7,
   "metadata": {},
   "outputs": [
    {
     "data": {
      "text/plain": [
       "(('The shape of', 'x_train', (60000, 784)),\n",
       " ('The shape of', 'y_train', (60000,)),\n",
       " ('The shape of', 'x_test', (10000, 784)),\n",
       " ('The shape of', 'y_test', (10000,)))"
      ]
     },
     "execution_count": 7,
     "metadata": {},
     "output_type": "execute_result"
    }
   ],
   "source": [
    "x_train = x_train.reshape(60000,784)\n",
    "x_test = x_test.reshape(10000,784)\n",
    "\n",
    "def printshape (x_train, y_train, x_test, y_test):\n",
    "    return(\"The shape of\", 'x_train', x_train.shape),(\"The shape of\", 'y_train', y_train.shape),(\"The shape of\", 'x_test', x_test.shape),(\"The shape of\", 'y_test', y_test.shape)\n",
    "\n",
    "printshape(x_train, y_train, x_test, y_test)"
   ]
  },
  {
   "cell_type": "code",
   "execution_count": 8,
   "metadata": {},
   "outputs": [
    {
     "name": "stdout",
     "output_type": "stream",
     "text": [
      "Max pixel value of xtrain is now 255\n",
      "Max pixel value of xtest is now 255\n"
     ]
    }
   ],
   "source": [
    "\n",
    "#Check to make sure that image data is normalized (Call max values)\n",
    "print(\"Max pixel value of xtrain is now\", np.max(x_train))\n",
    "print(\"Max pixel value of xtest is now\",  np.max(x_test))\n",
    "\n",
    "x_train = x_train/ np.max(x_train)\n",
    "x_test = x_test/np.max(x_test)"
   ]
  },
  {
   "cell_type": "code",
   "execution_count": 9,
   "metadata": {},
   "outputs": [
    {
     "name": "stdout",
     "output_type": "stream",
     "text": [
      "Max pixel value of xtrain is now 1.0\n",
      "Max pixel value of xtest is now 1.0\n",
      "The data in the image arrays are now normalized.\n"
     ]
    }
   ],
   "source": [
    "\n",
    "#Check to make sure that image data is normalized (Call max values)\n",
    "print(\"Max pixel value of xtrain is now\", np.max(x_train))\n",
    "print(\"Max pixel value of xtest is now\",  np.max(x_test))\n",
    "\n",
    "if np.max(x_train) == 1 and np.max(x_test) ==1: \n",
    "    print(\"The data in the image arrays are now normalized.\")\n",
    "else:\n",
    "    print(\"The data is not normalized\")\n",
    "\n",
    "#Convert Dependent variable/Labels to Categorical variables per the number of class (digits- 0:9 = 10 total classes)\n",
    "y_train = np_utils.to_categorical(y_train, 10)\n",
    "y_test = np_utils.to_categorical(y_test, 10)\n",
    "\n",
    "\n"
   ]
  },
  {
   "cell_type": "code",
   "execution_count": 10,
   "metadata": {},
   "outputs": [
    {
     "data": {
      "text/plain": [
       "(('The shape of', 'x_train', (60000, 784)),\n",
       " ('The shape of', 'y_train', (60000, 10)),\n",
       " ('The shape of', 'x_test', (10000, 784)),\n",
       " ('The shape of', 'y_test', (10000, 10)))"
      ]
     },
     "execution_count": 10,
     "metadata": {},
     "output_type": "execute_result"
    }
   ],
   "source": [
    "def printshape (x_train, y_train, x_test, y_test):\n",
    "    return(\"The shape of\", 'x_train', x_train.shape),(\"The shape of\", 'y_train', y_train.shape),(\"The shape of\", 'x_test', x_test.shape),(\"The shape of\", 'y_test', y_test.shape)\n",
    "\n",
    "printshape(x_train, y_train, x_test, y_test)"
   ]
  },
  {
   "cell_type": "markdown",
   "metadata": {},
   "source": [
    "Now that we have our data formatted, inspected and split into appropriate bindings, we need to decide which models we would like to apply. I had just recently run through this same assignment using Keras to build a convolutional neural network, and was met with an accuracy greater than 97%. I had previously utilized other algorithms (IST 565) such as support vector machines and random forests, but I want to focus specifically on neural networks, and more precisely the differences between CNNs and NNs, or multilayer perceptrons. Some of the things that I want to further understand and will research thoroughly over the course of this assignment are: Costs other than RMSE, Loss functions (Stochastic Gradient Descent vs things like cat. cross entropy), MaxPooling, determing size of a network (hidden layers), and tying in with loss functions, I'd like to have a better technical/mathematical understanding of how backpropogation works. CNNs were constructed with image detection and computer vision in mind, so I have little doubt that our performance will reflect that, but I would like to futher understand the inner workings of deep learning algorithms. As it stands, I understand that inputs are multiplied by weights, that number is passed through to the hidden layer (Or multiple HLs) where it is multiplied by an activation function (Relu/Sigmoid/Tan) and passed through to the output layer. If we are dealing with a multinomial classification problem, we likely need to employ the use of a softmax function at the output to garner probability distribution of our classes. I will utilize online tutorials and books such as 'Deep learning' and 'Deep Learning with Keras'."
   ]
  },
  {
   "cell_type": "markdown",
   "metadata": {
    "collapsed": true
   },
   "source": [
    "## Starting with Multilayer Perceptrons (Feed Forward Neural Net)"
   ]
  },
  {
   "cell_type": "code",
   "execution_count": 11,
   "metadata": {},
   "outputs": [],
   "source": [
    "model = Sequential() #Prime the model\n",
    "model.add(Dense(512, input_shape=(784,)))#shape from reshaped vector\n",
    "model.add(Activation('relu'))\n",
    "model.add(Dropout(0.2))\n",
    "model.add(Dense(512))\n",
    "model.add(Activation('relu'))\n",
    "model.add(Dropout(0.2))\n",
    "model.add(Dense(512))\n",
    "model.add(Activation('relu'))\n",
    "model.add(Dropout(0.2))\n",
    "model.add(Dense(10))\n",
    "model.add(Activation('softmax')) "
   ]
  },
  {
   "cell_type": "markdown",
   "metadata": {},
   "source": [
    "The code above produces a 4 layer perceptron. The dense function is a way of setting up a fully connected neural net, meaning each neuron in one layer are connected to the neurons in the next layer. The 'Dense' value was arbitrarily assigned, but refers to the number of neurons within each layer. An activation function, in the simplest terms, is a nonlinear function that can be applied to the output of a hidden layer as sort of a normalization technique to ensure that all outputs fall within a certain range- otherwise known as a squashing function. Sigmoid transforms values between 0 and 1, Tanh maps values between -1 and 1 and Relus maps all negative values to a new value of 0. A softmax function is typically used within a multinomial classification problem and provides probability distributions per classes (equal to 1)- This is always applied at the output layer. Dropout is a way to prevent overfitting and works by turning off specific neurons to force the network to learn different ways to solve the same problem, ie. we want the the network to be adaptable, and not simply memorize the steps. Dropout kind of works as a regularization technique, similarly to when you might do a Ridge/Lasso regression (I covered this in Lab2) where there is punishment for large weights that control the outcome. \n",
    "\n",
    "\"Regularization is a very important technique in machine learning to prevent overfitting. Mathematically speaking, it adds a regularization term in order to prevent the coefficients to fit so perfectly to overfit. The difference between the L1 and L2 is just that L2 is the sum of the square of the weights, while L1 is just the sum of the weights\" (http://www.chioka.in/differences-between-l1-and-l2-as-loss-function-and-regularization/)"
   ]
  },
  {
   "cell_type": "markdown",
   "metadata": {},
   "source": [
    "### Training the Model"
   ]
  },
  {
   "cell_type": "code",
   "execution_count": 12,
   "metadata": {},
   "outputs": [
    {
     "name": "stdout",
     "output_type": "stream",
     "text": [
      "Train on 48000 samples, validate on 12000 samples\n",
      "Epoch 1/50\n",
      "48000/48000 [==============================] - 5s 97us/step - loss: 1.3665 - acc: 0.6181 - val_loss: 0.5257 - val_acc: 0.8622\n",
      "Epoch 2/50\n",
      "48000/48000 [==============================] - 4s 92us/step - loss: 0.5534 - acc: 0.8379 - val_loss: 0.3517 - val_acc: 0.9008\n",
      "Epoch 3/50\n",
      "48000/48000 [==============================] - 4s 90us/step - loss: 0.4361 - acc: 0.8709 - val_loss: 0.2974 - val_acc: 0.9154\n",
      "Epoch 4/50\n",
      "48000/48000 [==============================] - 4s 90us/step - loss: 0.3745 - acc: 0.8899 - val_loss: 0.2682 - val_acc: 0.9224\n",
      "Epoch 5/50\n",
      "48000/48000 [==============================] - 4s 90us/step - loss: 0.3379 - acc: 0.9018 - val_loss: 0.2451 - val_acc: 0.9303\n",
      "Epoch 6/50\n",
      "48000/48000 [==============================] - 4s 92us/step - loss: 0.3090 - acc: 0.9105 - val_loss: 0.2283 - val_acc: 0.9343\n",
      "Epoch 7/50\n",
      "48000/48000 [==============================] - 4s 90us/step - loss: 0.2850 - acc: 0.9159 - val_loss: 0.2119 - val_acc: 0.9380\n",
      "Epoch 8/50\n",
      "48000/48000 [==============================] - 4s 90us/step - loss: 0.2653 - acc: 0.9220 - val_loss: 0.1977 - val_acc: 0.9443\n",
      "Epoch 9/50\n",
      "48000/48000 [==============================] - 4s 90us/step - loss: 0.2478 - acc: 0.9262 - val_loss: 0.1890 - val_acc: 0.9468\n",
      "Epoch 10/50\n",
      "48000/48000 [==============================] - 4s 92us/step - loss: 0.2337 - acc: 0.9310 - val_loss: 0.1782 - val_acc: 0.9488\n",
      "Epoch 11/50\n",
      "48000/48000 [==============================] - 4s 91us/step - loss: 0.2195 - acc: 0.9364 - val_loss: 0.1699 - val_acc: 0.9522\n",
      "Epoch 12/50\n",
      "48000/48000 [==============================] - 4s 90us/step - loss: 0.2098 - acc: 0.9378 - val_loss: 0.1619 - val_acc: 0.9541\n",
      "Epoch 13/50\n",
      "48000/48000 [==============================] - 4s 93us/step - loss: 0.1976 - acc: 0.9423 - val_loss: 0.1548 - val_acc: 0.9555\n",
      "Epoch 14/50\n",
      "48000/48000 [==============================] - 4s 91us/step - loss: 0.1900 - acc: 0.9443 - val_loss: 0.1502 - val_acc: 0.9563\n",
      "Epoch 15/50\n",
      "48000/48000 [==============================] - 4s 91us/step - loss: 0.1819 - acc: 0.9461 - val_loss: 0.1439 - val_acc: 0.9587\n",
      "Epoch 16/50\n",
      "48000/48000 [==============================] - 4s 91us/step - loss: 0.1707 - acc: 0.9498 - val_loss: 0.1382 - val_acc: 0.9593\n",
      "Epoch 17/50\n",
      "48000/48000 [==============================] - 4s 92us/step - loss: 0.1682 - acc: 0.9495 - val_loss: 0.1342 - val_acc: 0.9612\n",
      "Epoch 18/50\n",
      "48000/48000 [==============================] - 4s 91us/step - loss: 0.1580 - acc: 0.9539 - val_loss: 0.1290 - val_acc: 0.9621\n",
      "Epoch 19/50\n",
      "48000/48000 [==============================] - 4s 91us/step - loss: 0.1532 - acc: 0.9544 - val_loss: 0.1256 - val_acc: 0.9630\n",
      "Epoch 20/50\n",
      "48000/48000 [==============================] - 4s 90us/step - loss: 0.1485 - acc: 0.9557 - val_loss: 0.1229 - val_acc: 0.9643\n",
      "Epoch 21/50\n",
      "48000/48000 [==============================] - 4s 92us/step - loss: 0.1419 - acc: 0.9576 - val_loss: 0.1193 - val_acc: 0.9645\n",
      "Epoch 22/50\n",
      "48000/48000 [==============================] - 4s 90us/step - loss: 0.1367 - acc: 0.9589 - val_loss: 0.1164 - val_acc: 0.9656\n",
      "Epoch 23/50\n",
      "48000/48000 [==============================] - 4s 90us/step - loss: 0.1342 - acc: 0.9597 - val_loss: 0.1132 - val_acc: 0.9666\n",
      "Epoch 24/50\n",
      "48000/48000 [==============================] - 4s 92us/step - loss: 0.1290 - acc: 0.9612 - val_loss: 0.1117 - val_acc: 0.9675\n",
      "Epoch 25/50\n",
      "48000/48000 [==============================] - 4s 92us/step - loss: 0.1223 - acc: 0.9626 - val_loss: 0.1101 - val_acc: 0.9663\n",
      "Epoch 26/50\n",
      "48000/48000 [==============================] - 4s 90us/step - loss: 0.1209 - acc: 0.9639 - val_loss: 0.1073 - val_acc: 0.9675\n",
      "Epoch 27/50\n",
      "48000/48000 [==============================] - 4s 91us/step - loss: 0.1149 - acc: 0.9661 - val_loss: 0.1052 - val_acc: 0.9690\n",
      "Epoch 28/50\n",
      "48000/48000 [==============================] - 4s 92us/step - loss: 0.1115 - acc: 0.9661 - val_loss: 0.1025 - val_acc: 0.9702\n",
      "Epoch 29/50\n",
      "48000/48000 [==============================] - 4s 91us/step - loss: 0.1096 - acc: 0.9664 - val_loss: 0.1009 - val_acc: 0.9698\n",
      "Epoch 30/50\n",
      "48000/48000 [==============================] - 4s 91us/step - loss: 0.1066 - acc: 0.9686 - val_loss: 0.1009 - val_acc: 0.9706\n",
      "Epoch 31/50\n",
      "48000/48000 [==============================] - 4s 91us/step - loss: 0.1045 - acc: 0.9690 - val_loss: 0.0977 - val_acc: 0.9703\n",
      "Epoch 32/50\n",
      "48000/48000 [==============================] - 4s 92us/step - loss: 0.1015 - acc: 0.9696 - val_loss: 0.0975 - val_acc: 0.9707\n",
      "Epoch 33/50\n",
      "48000/48000 [==============================] - 4s 92us/step - loss: 0.0971 - acc: 0.9714 - val_loss: 0.0944 - val_acc: 0.9718\n",
      "Epoch 34/50\n",
      "48000/48000 [==============================] - 4s 91us/step - loss: 0.0959 - acc: 0.9713 - val_loss: 0.0927 - val_acc: 0.9721\n",
      "Epoch 35/50\n",
      "48000/48000 [==============================] - 4s 92us/step - loss: 0.0938 - acc: 0.9721 - val_loss: 0.0923 - val_acc: 0.9726\n",
      "Epoch 36/50\n",
      "48000/48000 [==============================] - 4s 91us/step - loss: 0.0889 - acc: 0.9734 - val_loss: 0.0915 - val_acc: 0.9728\n",
      "Epoch 37/50\n",
      "48000/48000 [==============================] - 4s 90us/step - loss: 0.0890 - acc: 0.9729 - val_loss: 0.0902 - val_acc: 0.9731\n",
      "Epoch 38/50\n",
      "48000/48000 [==============================] - 4s 91us/step - loss: 0.0855 - acc: 0.9743 - val_loss: 0.0895 - val_acc: 0.9729\n",
      "Epoch 39/50\n",
      "48000/48000 [==============================] - 4s 92us/step - loss: 0.0842 - acc: 0.9748 - val_loss: 0.0882 - val_acc: 0.9733\n",
      "Epoch 40/50\n",
      "48000/48000 [==============================] - 4s 91us/step - loss: 0.0806 - acc: 0.9758 - val_loss: 0.0869 - val_acc: 0.9729\n",
      "Epoch 41/50\n",
      "48000/48000 [==============================] - 4s 92us/step - loss: 0.0809 - acc: 0.9754 - val_loss: 0.0860 - val_acc: 0.9738\n",
      "Epoch 42/50\n",
      "48000/48000 [==============================] - 4s 91us/step - loss: 0.0756 - acc: 0.9778 - val_loss: 0.0855 - val_acc: 0.9739\n",
      "Epoch 43/50\n",
      "48000/48000 [==============================] - 4s 92us/step - loss: 0.0767 - acc: 0.9772 - val_loss: 0.0847 - val_acc: 0.9743\n",
      "Epoch 44/50\n",
      "48000/48000 [==============================] - 4s 94us/step - loss: 0.0748 - acc: 0.9772 - val_loss: 0.0838 - val_acc: 0.9741\n",
      "Epoch 45/50\n",
      "48000/48000 [==============================] - 4s 91us/step - loss: 0.0712 - acc: 0.9790 - val_loss: 0.0836 - val_acc: 0.9747\n",
      "Epoch 46/50\n",
      "48000/48000 [==============================] - 4s 93us/step - loss: 0.0703 - acc: 0.9793 - val_loss: 0.0841 - val_acc: 0.9745\n",
      "Epoch 47/50\n",
      "48000/48000 [==============================] - 4s 91us/step - loss: 0.0692 - acc: 0.9791 - val_loss: 0.0813 - val_acc: 0.9747\n",
      "Epoch 48/50\n",
      "48000/48000 [==============================] - 4s 90us/step - loss: 0.0677 - acc: 0.9799 - val_loss: 0.0813 - val_acc: 0.9757\n",
      "Epoch 49/50\n",
      "48000/48000 [==============================] - 4s 91us/step - loss: 0.0657 - acc: 0.9799 - val_loss: 0.0811 - val_acc: 0.9752\n",
      "Epoch 50/50\n",
      "48000/48000 [==============================] - 4s 93us/step - loss: 0.0654 - acc: 0.9802 - val_loss: 0.0804 - val_acc: 0.9753\n"
     ]
    }
   ],
   "source": [
    "with tf.device('/gpu:0'):\n",
    "\n",
    "    \n",
    "    from keras.optimizers import SGD\n",
    "    np.random.seed(1234) #set random seed for reproducibility\n",
    "\n",
    "    NB_EPOCH = 50\n",
    "    #NB_EPOCH = 50\n",
    "    BATCH_SIZE = 100\n",
    "    #BATCH_SIZE = 50\n",
    "    VERBOSE = 1 #This sets Verbose to true meaning that logging output will be displayed on screen. Verbose = 0 is default and does allow model to run faster.\n",
    "    NB_CLASSES = 10\n",
    "    OPTIMIZER = SGD()\n",
    "    VALIDATION_SPLIT = .2\n",
    "\n",
    "    model.compile(loss = 'categorical_crossentropy', optimizer= OPTIMIZER, metrics=['accuracy'])\n",
    "    \n",
    "    sess = tf.Session(config=tf.ConfigProto(\n",
    "      allow_soft_placement=True, log_device_placement=True))\n",
    "    \n",
    "    history = model.fit(x_train, y_train, batch_size= BATCH_SIZE, epochs=NB_EPOCH, verbose=VERBOSE, validation_split= VALIDATION_SPLIT)"
   ]
  },
  {
   "cell_type": "markdown",
   "metadata": {
    "collapsed": true
   },
   "source": [
    "In the cell above, we train the model and validate against a cutpoint of our training data (.2). Important terms for which we fit our model are Epochs and Batch size. Epochs are the number of iterations that are flowed through on the training set, and batch size is the number of observations that are gone through before the backpropogation algorithm kicks in and the weights are adjusted. We use categorical cross entropy as our loss function, as binary cross entropy would be more useful if we were dealing with a binary class problem, and mean square error might be more useful if we were dealing with a continuous response variable. The optimizer is set to stochastic gradient descent, but there are also versions of GD known as ADAM or RMSprop. The optimizer works as a loss function that is enabled during back propogation. Gradient descent works by adjusting the weights assigned to neurons by taking partial derivatives and computing the local minimum. A great analogy was found on quora: \"Suppose you are on the top of a mountain. You want to climb down from the mountain. What will you do? You will take a fewer steps downwards until you reach to the base of the mountain.Here there are two cases:\n",
    "i) Take small steps(very tiny) : Well you will die of hunger before you reach to the base.\n",
    "ii) Take huge steps(gigantic..really) : Well you jump off the cliff and the next thing a chopper will find your shattered pieces of body :P\n",
    "You don’t want to die obviously.. so you take steps enough to reach the base in time\"\n",
    "\n",
    "https://www.quora.com/What-is-an-intuitive-explanation-of-gradient-descent\n",
    "\n",
    "Numbers above are randomly chosen, but  the model construction follows along with 'Deep Learning with Keras'."
   ]
  },
  {
   "cell_type": "markdown",
   "metadata": {
    "collapsed": true
   },
   "source": [
    "### Testing the MLP"
   ]
  },
  {
   "cell_type": "code",
   "execution_count": 13,
   "metadata": {},
   "outputs": [
    {
     "name": "stdout",
     "output_type": "stream",
     "text": [
      "10000/10000 [==============================] - 1s 54us/step\n",
      "Accuracy on test set = 0.9786\n"
     ]
    },
    {
     "data": {
      "image/png": "[encoded data removed]",
      "text/plain": [
       "<matplotlib.figure.Figure at 0x21a0c1570f0>"
      ]
     },
     "metadata": {},
     "output_type": "display_data"
    }
   ],
   "source": [
    "score = model.evaluate(x_test, y_test, verbose=VERBOSE)\n",
    "print(\"Accuracy on test set =\", score[1])\n",
    "\n",
    "predicted = model.predict_classes(x_test)\n",
    "\n",
    "\n",
    "# Look at confusion matrix \n",
    "#https://yashk2810.github.io/Applying-Convolutional-Neural-Network-on-the-MNIST-dataset/\n",
    "def plot_confusion_matrix(cm, classes,\n",
    "                          normalize=False,\n",
    "                          title='Confusion matrix',\n",
    "                          cmap=plt.cm.Blues):\n",
    "    \"\"\"\n",
    "    This function prints and plots the confusion matrix.\n",
    "    Normalization can be applied by setting `normalize=True`.\n",
    "    \"\"\"\n",
    "    plt.imshow(cm, interpolation='nearest', cmap=cmap)\n",
    "    plt.title(title)\n",
    "    plt.colorbar()\n",
    "    tick_marks = np.arange(len(classes))\n",
    "    plt.xticks(tick_marks, classes, rotation=45)\n",
    "    plt.yticks(tick_marks, classes)\n",
    "\n",
    "    if normalize:\n",
    "        cm = cm.astype('float') / cm.sum(axis=1)[:, np.newaxis]\n",
    "\n",
    "    thresh = cm.max() / 2.\n",
    "    for i, j in itertools.product(range(cm.shape[0]), range(cm.shape[1])):\n",
    "        plt.text(j, i, cm[i, j],\n",
    "                 horizontalalignment=\"center\",\n",
    "                 color=\"white\" if cm[i, j] > thresh else \"black\")\n",
    "\n",
    "    plt.tight_layout()\n",
    "    plt.ylabel('True label')\n",
    "    plt.xlabel('Predicted label')\n",
    "\n",
    "# Predict the values from the validation dataset\n",
    "Y_pred = model.predict(x_test)\n",
    "# Convert predictions classes to one hot vectors \n",
    "Y_pred_classes = np.argmax(Y_pred,axis = 1) \n",
    "# Convert validation observations to one hot vectors\n",
    "Y_true = np.argmax(y_test,axis = 1) \n",
    "# compute the confusion matrix\n",
    "confusion_mtx = confusion_matrix(Y_true, Y_pred_classes) \n",
    "# plot the confusion matrix\n",
    "plot_confusion_matrix(confusion_mtx, classes = range(10))\n",
    "\n",
    "\n"
   ]
  },
  {
   "cell_type": "markdown",
   "metadata": {},
   "source": [
    "As we can see above, using the model on our test set results in about 98% accuracy. Our testing loss was a little higher than on our training set, but not noticable enough to raise concerns over overfitting. Using a UDF confusion matrix (yashk2810.github.io/), we can look at what specific digits our model had trouble recognizing, noting that distinguishability was difficult when looking at 9's vs 4's in particular. We could attempt to raise the 'dropout', or increase the amount of hidden layers or iterations, but are happy to use 98% as our benchmark. Previously Kaggle submissions using ensemble methods (RandForests) resulted in accuracy of <85%. The compute was relatively quick, running at about 5sec per epoch/iteration."
   ]
  },
  {
   "cell_type": "markdown",
   "metadata": {},
   "source": [
    "## On to Convolutional Neural Networks"
   ]
  },
  {
   "cell_type": "markdown",
   "metadata": {},
   "source": [
    "I had previously conducted this experiment with CNNs, but want to better understand the differences between MLP and ConvNets. From \"Deep Learning With Keras\", one of the main differences between the two DL algorithms is the fact that we had to transform the shape of the images in MLPs to remove spatial structure from each image. This very spatial structure is what CNNS thrive on for classification models. The cell below follows much of the data munging and transformation that we did above, but we note that we don't reshape the image into a flat vector, but instead into three dimensions. "
   ]
  },
  {
   "cell_type": "code",
   "execution_count": 14,
   "metadata": {},
   "outputs": [],
   "source": [
    "x_train = idx2numpy.convert_from_file('train-images.idx3-ubyte')\n",
    "y_train = idx2numpy.convert_from_file('train-labels.idx1-ubyte')\n",
    "x_test = idx2numpy.convert_from_file('t10k-images.idx3-ubyte')\n",
    "y_test = idx2numpy.convert_from_file('t10k-labels.idx1-ubyte')\n",
    "\n",
    "#normalize by dividing by max value \n",
    "x_train = x_train/255\n",
    "x_test = x_test/255\n",
    "\n",
    "#Convert to support GPU computation (Deep Learning with Keras)\n",
    "x_train = x_train.astype('float32')\n",
    "x_test = x_test.astype('float32')\n",
    "\n",
    "\n",
    "# Reshape image in 3 dimensions (height = 28px, width = 28px , canal = 1)\n",
    "x_train = x_train.reshape(-1,28,28,1)\n",
    "x_test = x_test.reshape(-1,28,28,1)\n",
    "\n",
    "#Convert Dependent variable/Labels to Categorical variables per the number of class (digits- 0:9 = 10 total classes)\n",
    "y_train = np_utils.to_categorical(y_train, 10)\n",
    "y_test = np_utils.to_categorical(y_test, 10)"
   ]
  },
  {
   "cell_type": "markdown",
   "metadata": {},
   "source": [
    "### Training the Convnet"
   ]
  },
  {
   "cell_type": "markdown",
   "metadata": {},
   "source": [
    "The below chunk is representative of a known CNN architecture that performed well on the MNIST project, with a few user tweaks. Some things that differ from the MLP above and we need to research are: Conv layers, Maxpooling, flattening, and data augmentation. The explanations that follow will be my interpretation of research conducted through web searches and reading \"Deep Learning with Keras\". A Convnet is made up of 4 steps: convolution, activation, pooling, and a fully connected dense layer (similar to MLPs). Starting from the beginning, the first layer, we look at the Conv2D function, whick takes the number of filters, the size of the filters, and the original input shape of our training set (we reshaped this to 28x28x1 above). Lines containing batch normalization are implemented in order to assure that scale of dimensionality remains the same as we move from layer to layer. In the below model construction, we can see that there are 4 conv layers, 4 batchnormalization calls, and 4 layers of activation functions = Relu. The model below has more hidden layers than a simple CNN due to repeating steps. The activation functions work in the same way as MLP, simply squashing the outputs of the layers (negative values set to 0, all other values remain constant). Onto the pooling layers- There are many different types of pooling to implement on pooling layers. Maxpooling is directly defined as \"outputting the max activation as observed in the region\". The way I interpret this is that if we have a matrix that is 4x4 and we want to transform it into a 2x2 matrix (this is called downsampling) we want to take the max value of each region of the matrix as the output of our new matrix. Downsampling, through the above technique, helps to reduce dimensionality which reduces training time, and also helps to generalize the model because we aren't just memorizing inputs. Average pooling, which I don't use below, would calculate the average of each region into a subregion. After we have our conv layers, activation layers and max pooling layers defined, we need to flatten the outputs to transform them into inputs for our fully connected layer. This follows the same structure as our MLP above, having an initial dense layer feeding into a hidden layer with activation, into an output layer with a softmax activation function used for multionomial classification problems. Dropout, again, is our way of shutting of neurons randomly throughout training to make the model adaptable. \n",
    "\n",
    "\n",
    "\n",
    "\"Deep Learning with Keras\""
   ]
  },
  {
   "cell_type": "code",
   "execution_count": 15,
   "metadata": {},
   "outputs": [
    {
     "name": "stdout",
     "output_type": "stream",
     "text": [
      "Train on 48000 samples, validate on 12000 samples\n",
      "Epoch 1/10\n",
      "48000/48000 [==============================] - 184s 4ms/step - loss: 0.2184 - acc: 0.9381 - val_loss: 0.0742 - val_acc: 0.9800\n",
      "Epoch 2/10\n",
      "48000/48000 [==============================] - 181s 4ms/step - loss: 0.0704 - acc: 0.9799 - val_loss: 0.0529 - val_acc: 0.9848\n",
      "Epoch 3/10\n",
      "48000/48000 [==============================] - 4799s 100ms/step - loss: 0.0483 - acc: 0.9863 - val_loss: 0.0479 - val_acc: 0.9850\n",
      "Epoch 4/10\n",
      "48000/48000 [==============================] - 182s 4ms/step - loss: 0.0365 - acc: 0.9898 - val_loss: 0.0369 - val_acc: 0.9885\n",
      "Epoch 5/10\n",
      "48000/48000 [==============================] - 183s 4ms/step - loss: 0.0314 - acc: 0.9911 - val_loss: 0.0401 - val_acc: 0.9885\n",
      "Epoch 6/10\n",
      "48000/48000 [==============================] - 181s 4ms/step - loss: 0.0243 - acc: 0.9930 - val_loss: 0.0351 - val_acc: 0.9898\n",
      "Epoch 7/10\n",
      "48000/48000 [==============================] - 181s 4ms/step - loss: 0.0212 - acc: 0.9941 - val_loss: 0.0355 - val_acc: 0.9888\n",
      "Epoch 8/10\n",
      "48000/48000 [==============================] - 179s 4ms/step - loss: 0.0177 - acc: 0.9953 - val_loss: 0.0317 - val_acc: 0.9903\n",
      "Epoch 9/10\n",
      "48000/48000 [==============================] - 181s 4ms/step - loss: 0.0150 - acc: 0.9960 - val_loss: 0.0309 - val_acc: 0.9915\n",
      "Epoch 10/10\n",
      "48000/48000 [==============================] - 180s 4ms/step - loss: 0.0137 - acc: 0.9963 - val_loss: 0.0311 - val_acc: 0.9908\n"
     ]
    }
   ],
   "source": [
    "# Set the CNN model \n",
    "\n",
    "model = Sequential()\n",
    "\n",
    "model.add(Conv2D(32, (3, 3), input_shape=(28,28,1)))\n",
    "model.add(BatchNormalization(axis=-1))\n",
    "model.add(Activation('relu'))\n",
    "model.add(Conv2D(32, (3, 3)))\n",
    "model.add(BatchNormalization(axis=-1))\n",
    "model.add(Activation('relu'))\n",
    "model.add(MaxPooling2D(pool_size=(2,2)))\n",
    "\n",
    "model.add(Conv2D(64,(3, 3)))\n",
    "model.add(BatchNormalization(axis=-1))\n",
    "model.add(Activation('relu'))\n",
    "model.add(Conv2D(64, (3, 3)))\n",
    "model.add(BatchNormalization(axis=-1))\n",
    "model.add(Activation('relu'))\n",
    "model.add(Conv2D(64, (3, 3)))\n",
    "model.add(BatchNormalization(axis=-1))\n",
    "model.add(Activation('relu'))\n",
    "model.add(Conv2D(64, (3, 3)))\n",
    "model.add(BatchNormalization(axis=-1))\n",
    "model.add(Activation('relu'))\n",
    "model.add(MaxPooling2D(pool_size=(2,2)))\n",
    "\n",
    "\n",
    "\n",
    "model.add(Flatten())\n",
    "\n",
    "# Fully connected layer\n",
    "model.add(Dense(512))\n",
    "model.add(BatchNormalization())\n",
    "model.add(Activation('relu'))\n",
    "model.add(Dropout(0.3))\n",
    "model.add(Dense(10))\n",
    "\n",
    "model.add(Activation('softmax'))\n",
    "\n",
    "np.random.seed(1234) #set random seed for reproducibility\n",
    "\n",
    "\n",
    "NB_EPOCH = 10\n",
    "#NB_EPOCH = 50\n",
    "BATCH_SIZE = 50\n",
    "#BATCH_SIZE = 50\n",
    "VERBOSE = 1 #This sets Verbose to true meaning that logging output will be displayed on screen. Verbose = 0 is default and does allow model to run faster.\n",
    "NB_CLASSES = 10\n",
    "OPTIMIZER = SGD() #Could also use Adam or RMSprop here.\n",
    "#OPTIMIZER = ADAM()\n",
    "VALIDATION_SPLIT = .2\n",
    "\n",
    "\n",
    "with tf.device('/gpu:0'):\n",
    "    model.compile(loss = 'categorical_crossentropy', optimizer= OPTIMIZER, metrics=['accuracy'])\n",
    "\n",
    "    sess = tf.Session(config=tf.ConfigProto(\n",
    "      allow_soft_placement=True, log_device_placement=True))\n",
    "    history = model.fit(x_train, y_train, batch_size= BATCH_SIZE, epochs=NB_EPOCH, verbose=VERBOSE, validation_split= VALIDATION_SPLIT)"
   ]
  },
  {
   "cell_type": "markdown",
   "metadata": {},
   "source": [
    "### Testing the Convnet"
   ]
  },
  {
   "cell_type": "code",
   "execution_count": 19,
   "metadata": {},
   "outputs": [
    {
     "name": "stdout",
     "output_type": "stream",
     "text": [
      "10000/10000 [==============================] - 10s 976us/step\n",
      "Accuracy on test set = 0.9915\n"
     ]
    },
    {
     "data": {
      "image/png": "[encoded data removed]",
      "text/plain": [
       "<matplotlib.figure.Figure at 0x21a0c1b4c18>"
      ]
     },
     "metadata": {},
     "output_type": "display_data"
    }
   ],
   "source": [
    "np.random.seed(1234) #set random seed for reproducibility\n",
    "\n",
    "score = model.evaluate(x_test, y_test, verbose=VERBOSE)\n",
    "print(\"Accuracy on test set =\", score[1])\n",
    "\n",
    "predicted = model.predict_classes(x_test)\n",
    "\n",
    "\n",
    "# Look at confusion matrix \n",
    "#https://yashk2810.github.io/Applying-Convolutional-Neural-Network-on-the-MNIST-dataset/\n",
    "def plot_confusion_matrix(cm, classes,\n",
    "                          normalize=False,\n",
    "                          title='Confusion matrix',\n",
    "                          cmap=plt.cm.Blues):\n",
    "    \"\"\"\n",
    "    This function prints and plots the confusion matrix.\n",
    "    Normalization can be applied by setting `normalize=True`.\n",
    "    \"\"\"\n",
    "    plt.imshow(cm, interpolation='nearest', cmap=cmap)\n",
    "    plt.title(title)\n",
    "    plt.colorbar()\n",
    "    tick_marks = np.arange(len(classes))\n",
    "    plt.xticks(tick_marks, classes, rotation=45)\n",
    "    plt.yticks(tick_marks, classes)\n",
    "\n",
    "    if normalize:\n",
    "        cm = cm.astype('float') / cm.sum(axis=1)[:, np.newaxis]\n",
    "\n",
    "    thresh = cm.max() / 2.\n",
    "    for i, j in itertools.product(range(cm.shape[0]), range(cm.shape[1])):\n",
    "        plt.text(j, i, cm[i, j],\n",
    "                 horizontalalignment=\"center\",\n",
    "                 color=\"white\" if cm[i, j] > thresh else \"black\")\n",
    "\n",
    "    plt.tight_layout()\n",
    "    plt.ylabel('True label')\n",
    "    plt.xlabel('Predicted label')\n",
    "\n",
    "# Predict the values from the validation dataset\n",
    "Y_pred = model.predict(x_test)\n",
    "# Convert predictions classes to one hot vectors \n",
    "Y_pred_classes = np.argmax(Y_pred,axis = 1) \n",
    "# Convert validation observations to one hot vectors\n",
    "Y_true = np.argmax(y_test,axis = 1) \n",
    "# compute the confusion matrix\n",
    "confusion_mtx = confusion_matrix(Y_true, Y_pred_classes) \n",
    "# plot the confusion matrix\n",
    "plot_confusion_matrix(confusion_mtx, classes = range(10))\n",
    "\n",
    "\n"
   ]
  },
  {
   "cell_type": "code",
   "execution_count": 20,
   "metadata": {},
   "outputs": [
    {
     "name": "stdout",
     "output_type": "stream",
     "text": [
      "             precision    recall  f1-score   support\n",
      "\n",
      "          0       0.99      1.00      0.99       980\n",
      "          1       0.99      1.00      0.99      1135\n",
      "          2       0.99      0.99      0.99      1032\n",
      "          3       0.99      0.99      0.99      1010\n",
      "          4       0.99      0.99      0.99       982\n",
      "          5       0.99      1.00      0.99       892\n",
      "          6       0.99      0.99      0.99       958\n",
      "          7       0.99      0.99      0.99      1028\n",
      "          8       1.00      0.98      0.99       974\n",
      "          9       0.99      0.99      0.99      1009\n",
      "\n",
      "avg / total       0.99      0.99      0.99     10000\n",
      "\n"
     ]
    }
   ],
   "source": [
    "from sklearn.metrics import classification_report \n",
    "print(classification_report(Y_true, Y_pred_classes))"
   ]
  },
  {
   "cell_type": "markdown",
   "metadata": {},
   "source": [
    "### Testing on Kaggle set + exporting for Submission"
   ]
  },
  {
   "cell_type": "code",
   "execution_count": 18,
   "metadata": {},
   "outputs": [],
   "source": [
    "np.random.seed(1234) #set random seed for reproducibility\n",
    "\n",
    "\n",
    "kaggle = np.array(pd.read_csv('Kaggle Submissions/test.csv'))\n",
    "#normalize by dividing by max value \n",
    "kaggle = kaggle/255\n",
    "#Convert to support GPU computation (Deep Learning with Keras)\n",
    "kaggle = kaggle.astype('float32')\n",
    "# Reshape image in 3 dimensions (height = 28px, width = 28px , canal = 1)\n",
    "kaggle = kaggle.reshape(-1,28,28,1)\n",
    "# predict results\n",
    "results = model.predict(kaggle)\n",
    "\n",
    "# select the indix with the maximum probability\n",
    "results = np.argmax(results,axis = 1)\n",
    "results = pd.Series(results,name=\"Label\")\n",
    "submission = pd.concat([pd.Series(range(1,28001),name = \"ImageId\"),results],axis = 1)\n",
    "submission.to_csv(\"cnn_mnist5.csv\",index=False)"
   ]
  },
  {
   "cell_type": "markdown",
   "metadata": {},
   "source": [
    "### Wrapup"
   ]
  },
  {
   "cell_type": "markdown",
   "metadata": {},
   "source": [
    "This exercise was a great way to learning more about deep learning techniques popularized for image recognition problems. Admittably, MLPs were much easier to digest than Convnets for me, but I'm looking forward to digging more into the architecture of CNNs, and understanding exactly what is happening at each layer. \n",
    "\n",
    "The accuracy of each method was comparable. Our MLP peformed slightly worse than our convet, with an accuracy about .006 lower on our test set of 10000 samples. Basically meaning that we misclassified 60 more observations with the perceptron as opposed to the convnet. 99% accuracy was achieved with the convnet, but we could have added more hidden layers/epochs to try and improve performance. Another technique that I didn't use here, but was used in some tutorials, was data augmentation- This step essentially transforms the training images to enhance the sample size and offer different perspectives of each image. Obviously with more samples you can get a generalized model much easier. Printing out the classification report from sklearn lets us see the precision/recall/fmeasure stats for each class label, and in the case of the CNN, there weren't any glaring issues- Although the number 9 had a lower fmeasure than the rest of the digits. I think that digit struggles at times because the roots for 7s and 4s are very similar to 9s, and people tend to not close off certain digits, which is recognizable to a human when dealing with contextual evidence, but not so much to a neural net without a notion of sequence or time (Think RNNs solve this, but not sure if there is a recurrent convnet out there). I think I will follow up by watching some of Andrew Ng's/Andrej Warparthy lectures to get a better grasp on the flow of convnets because it was much harder for me to understand them. Andrej Warpathy is kind of known as the benchmark human for image classification problems, scoring 96% on cat/dog classification, and I think that is important to note when dealing with computer vision tasks- We shouldn't necessarily be judging accuracy on a 0-100 scale, but should be baselining it against a humans ability to perform the same task. Going through 10k images on my own, I'm sure I would struggle with identifying some observations the same way as the NNs did on this assignment.\n",
    "\n",
    "*Note on the above that I went back and retrained my model with more layers and boosted test accuracy to 99.5%. \n",
    "\n",
    "Per my email to the professor - For fun, I ran my convnet on the kaggle test set to see where I would score. I was met with an accuracy of 99.8%, good enough for the top 4% of all submissions on the digit recognizer competition.\n",
    "\n",
    "The number one thing that I noticed in regards to the differences present between the two types of algorithms, besides their architecture, was the training time was exceptionally higher for a convnet in comparison to an MLP. We ran through about 200 epochs when training the perceptron at a time of 3sec/per, but the convnet took about 2-3 minutes per iteration. For the sake of this assignment, I set the the numberofepochs = 10 on the CNN. Both models ran through the deduction/prediction phase in under 10 seconds. I also wanted to get a grasp on a single optimizer, stochastic gradient descent, so I didn't get into research on Adam or RMSprop, but have read that Adam is a superior iterations of SGD. "
   ]
  }
 ],
 "metadata": {
  "kernelspec": {
   "display_name": "Python 3",
   "language": "python",
   "name": "python3"
  },
  "language_info": {
   "codemirror_mode": {
    "name": "ipython",
    "version": 3
   },
   "file_extension": ".py",
   "mimetype": "text/x-python",
   "name": "python",
   "nbconvert_exporter": "python",
   "pygments_lexer": "ipython3",
   "version": "3.6.4"
  }
 },
 "nbformat": 4,
 "nbformat_minor": 2
}
