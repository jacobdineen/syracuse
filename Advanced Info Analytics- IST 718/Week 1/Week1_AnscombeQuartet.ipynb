{
 "cells": [
  {
   "cell_type": "code",
   "execution_count": 3,
   "metadata": {
    "collapsed": true
   },
   "outputs": [],
   "source": [
    "#The Anscombe Quartet (Python)\n",
    "#demo data"
   ]
  },
  {
   "cell_type": "code",
   "execution_count": 5,
   "metadata": {
    "collapsed": true
   },
   "outputs": [],
   "source": [
    "#prepare for Python Version 3x Feature and Functions\n",
    "from __future__ import division, print_function"
   ]
  },
  {
   "cell_type": "code",
   "execution_count": 7,
   "metadata": {
    "collapsed": true
   },
   "outputs": [],
   "source": [
    "#import packages\n",
    "import pandas as pd #df operations\n",
    "import numpy as np #arrays and math functions\n",
    "import statsmodels.api as sm #stat models (regression)\n",
    "import matplotlib.pyplot as plt #2d plotting"
   ]
  },
  {
   "cell_type": "code",
   "execution_count": 10,
   "metadata": {
    "collapsed": true
   },
   "outputs": [],
   "source": [
    "#define the anscombe df using dictionary of equal-length lists\n",
    "anscombe = pd.DataFrame ({\n",
    "    'x1' : [10,8,13,9,11,14,6,4,12,7,5],\n",
    "    'x2' : [10,8,13,9,11,14,6,4,12,7,5],\n",
    "    'x3' : [10,8,13,9,11,14,6,4,12,7,5],\n",
    "    'x4' : [8,8,8,8,8,8,8,19,8,8,8],\n",
    "    'y1' : [8.04,6.95,7.58,8.81,8.33,9.96,7.24,4.26,10.84,4.82,5.68],\n",
    "    'y2' : [9.14,8.14,8.74,8.77,9.26,8.1,6.13,3.1,9.13,7.26,4.74],\n",
    "    'y3' : [7.46,6.77,12.74,7.11,7.81,8.84,6.08,5.39,8.15,6.42,5.73],\n",
    "    'y4' : [6.58,5.76,7.71,8.84,8.47,7.04,5.25,12.5,5.56,7.91,6.89]})"
   ]
  },
  {
   "cell_type": "code",
   "execution_count": 13,
   "metadata": {},
   "outputs": [
    {
     "name": "stdout",
     "output_type": "stream",
     "text": [
      "                            OLS Regression Results                            \n",
      "==============================================================================\n",
      "Dep. Variable:                     y1   R-squared:                       0.667\n",
      "Model:                            OLS   Adj. R-squared:                  0.629\n",
      "Method:                 Least Squares   F-statistic:                     17.99\n",
      "Date:                Thu, 11 Jan 2018   Prob (F-statistic):            0.00217\n",
      "Time:                        17:07:00   Log-Likelihood:                -16.841\n",
      "No. Observations:                  11   AIC:                             37.68\n",
      "Df Residuals:                       9   BIC:                             38.48\n",
      "Df Model:                           1                                         \n",
      "Covariance Type:            nonrobust                                         \n",
      "==============================================================================\n",
      "                 coef    std err          t      P>|t|      [0.025      0.975]\n",
      "------------------------------------------------------------------------------\n",
      "const          3.0001      1.125      2.667      0.026       0.456       5.544\n",
      "x1             0.5001      0.118      4.241      0.002       0.233       0.767\n",
      "==============================================================================\n",
      "Omnibus:                        0.082   Durbin-Watson:                   3.212\n",
      "Prob(Omnibus):                  0.960   Jarque-Bera (JB):                0.289\n",
      "Skew:                          -0.122   Prob(JB):                        0.865\n",
      "Kurtosis:                       2.244   Cond. No.                         29.1\n",
      "==============================================================================\n",
      "\n",
      "Warnings:\n",
      "[1] Standard Errors assume that the covariance matrix of the errors is correctly specified.\n",
      "                            OLS Regression Results                            \n",
      "==============================================================================\n",
      "Dep. Variable:                     y2   R-squared:                       0.666\n",
      "Model:                            OLS   Adj. R-squared:                  0.629\n",
      "Method:                 Least Squares   F-statistic:                     17.97\n",
      "Date:                Thu, 11 Jan 2018   Prob (F-statistic):            0.00218\n",
      "Time:                        17:07:00   Log-Likelihood:                -16.846\n",
      "No. Observations:                  11   AIC:                             37.69\n",
      "Df Residuals:                       9   BIC:                             38.49\n",
      "Df Model:                           1                                         \n",
      "Covariance Type:            nonrobust                                         \n",
      "==============================================================================\n",
      "                 coef    std err          t      P>|t|      [0.025      0.975]\n",
      "------------------------------------------------------------------------------\n",
      "const          3.0009      1.125      2.667      0.026       0.455       5.547\n",
      "x2             0.5000      0.118      4.239      0.002       0.233       0.767\n",
      "==============================================================================\n",
      "Omnibus:                        1.594   Durbin-Watson:                   2.188\n",
      "Prob(Omnibus):                  0.451   Jarque-Bera (JB):                1.108\n",
      "Skew:                          -0.567   Prob(JB):                        0.575\n",
      "Kurtosis:                       1.936   Cond. No.                         29.1\n",
      "==============================================================================\n",
      "\n",
      "Warnings:\n",
      "[1] Standard Errors assume that the covariance matrix of the errors is correctly specified.\n",
      "                            OLS Regression Results                            \n",
      "==============================================================================\n",
      "Dep. Variable:                     y3   R-squared:                       0.666\n",
      "Model:                            OLS   Adj. R-squared:                  0.629\n",
      "Method:                 Least Squares   F-statistic:                     17.97\n",
      "Date:                Thu, 11 Jan 2018   Prob (F-statistic):            0.00218\n",
      "Time:                        17:07:00   Log-Likelihood:                -16.838\n",
      "No. Observations:                  11   AIC:                             37.68\n",
      "Df Residuals:                       9   BIC:                             38.47\n",
      "Df Model:                           1                                         \n",
      "Covariance Type:            nonrobust                                         \n",
      "==============================================================================\n",
      "                 coef    std err          t      P>|t|      [0.025      0.975]\n",
      "------------------------------------------------------------------------------\n",
      "const          3.0025      1.124      2.670      0.026       0.459       5.546\n",
      "x3             0.4997      0.118      4.239      0.002       0.233       0.766\n",
      "==============================================================================\n",
      "Omnibus:                       19.540   Durbin-Watson:                   2.144\n",
      "Prob(Omnibus):                  0.000   Jarque-Bera (JB):               13.478\n",
      "Skew:                           2.041   Prob(JB):                      0.00118\n",
      "Kurtosis:                       6.571   Cond. No.                         29.1\n",
      "==============================================================================\n",
      "\n",
      "Warnings:\n",
      "[1] Standard Errors assume that the covariance matrix of the errors is correctly specified.\n",
      "                            OLS Regression Results                            \n",
      "==============================================================================\n",
      "Dep. Variable:                     y4   R-squared:                       0.667\n",
      "Model:                            OLS   Adj. R-squared:                  0.630\n",
      "Method:                 Least Squares   F-statistic:                     18.00\n",
      "Date:                Thu, 11 Jan 2018   Prob (F-statistic):            0.00216\n",
      "Time:                        17:07:00   Log-Likelihood:                -16.833\n",
      "No. Observations:                  11   AIC:                             37.67\n",
      "Df Residuals:                       9   BIC:                             38.46\n",
      "Df Model:                           1                                         \n",
      "Covariance Type:            nonrobust                                         \n",
      "==============================================================================\n",
      "                 coef    std err          t      P>|t|      [0.025      0.975]\n",
      "------------------------------------------------------------------------------\n",
      "const          3.0017      1.124      2.671      0.026       0.459       5.544\n",
      "x4             0.4999      0.118      4.243      0.002       0.233       0.766\n",
      "==============================================================================\n",
      "Omnibus:                        0.555   Durbin-Watson:                   1.662\n",
      "Prob(Omnibus):                  0.758   Jarque-Bera (JB):                0.524\n",
      "Skew:                           0.010   Prob(JB):                        0.769\n",
      "Kurtosis:                       1.931   Cond. No.                         29.1\n",
      "==============================================================================\n",
      "\n",
      "Warnings:\n",
      "[1] Standard Errors assume that the covariance matrix of the errors is correctly specified.\n"
     ]
    },
    {
     "name": "stderr",
     "output_type": "stream",
     "text": [
      "C:\\Users\\jdine\\Anaconda3\\lib\\site-packages\\scipy\\stats\\stats.py:1334: UserWarning: kurtosistest only valid for n>=20 ... continuing anyway, n=11\n",
      "  \"anyway, n=%i\" % int(n))\n"
     ]
    }
   ],
   "source": [
    "#fit linear regression models by ordinary least squares\n",
    "set_I_design_matrix = sm.add_constant(anscombe['x1'])\n",
    "set_I_model = sm.OLS(anscombe['y1'], set_I_design_matrix)\n",
    "print(set_I_model.fit().summary())\n",
    "\n",
    "set_II_design_matrix = sm.add_constant(anscombe['x2'])\n",
    "set_II_model = sm.OLS(anscombe['y2'], set_II_design_matrix)\n",
    "print(set_II_model.fit().summary())\n",
    "\n",
    "set_III_design_matrix = sm.add_constant(anscombe['x3'])\n",
    "set_III_model = sm.OLS(anscombe['y3'], set_III_design_matrix)\n",
    "print(set_III_model.fit().summary())\n",
    "\n",
    "set_IV_design_matrix = sm.add_constant(anscombe['x4'])\n",
    "set_IV_model = sm.OLS(anscombe['y4'], set_IV_design_matrix)\n",
    "print(set_IV_model.fit().summary())"
   ]
  },
  {
   "cell_type": "code",
   "execution_count": 23,
   "metadata": {},
   "outputs": [
    {
     "name": "stderr",
     "output_type": "stream",
     "text": [
      "C:\\Users\\jdine\\Anaconda3\\lib\\site-packages\\matplotlib\\pyplot.py:523: RuntimeWarning: More than 20 figures have been opened. Figures created through the pyplot interface (`matplotlib.pyplot.figure`) are retained until explicitly closed and may consume too much memory. (To control this warning, see the rcParam `figure.max_open_warning`).\n",
      "  max_open_warning, RuntimeWarning)\n"
     ]
    }
   ],
   "source": [
    "#create scatter plots\n",
    "fig = plt.figure()\n",
    "set_I = fig.add_subplot(2,2,1)\n",
    "set_I.scatter(anscombe['x1'],anscombe['y1'])\n",
    "set_I.set_title ('Set I')\n",
    "set_I.set_xlabel('x1')\n",
    "set_I.set_ylabel('y1')\n",
    "set_I.set_xlim(2,20)\n",
    "set_I.set_ylim(2,14)\n",
    "\n",
    "fig = plt.figure()\n",
    "set_II = fig.add_subplot(2,2,2)\n",
    "set_II.scatter(anscombe['x2'],anscombe['y2'])\n",
    "set_II.set_title ('Set II')\n",
    "set_II.set_xlabel('x2')\n",
    "set_II.set_ylabel('y2')\n",
    "set_II.set_xlim(2,20)\n",
    "set_II.set_ylim(2,14)\n",
    "\n",
    "fig = plt.figure()\n",
    "set_III = fig.add_subplot(2,2,3)\n",
    "set_III.scatter(anscombe['x3'],anscombe['y3'])\n",
    "set_III.set_title ('Set III')\n",
    "set_III.set_xlabel('x3')\n",
    "set_III.set_ylabel('y3')\n",
    "set_III.set_xlim(2,20)\n",
    "set_III.set_ylim(2,14)\n",
    "\n",
    "fig = plt.figure()\n",
    "set_IV = fig.add_subplot(2,2,4)\n",
    "set_IV.scatter(anscombe['x4'],anscombe['y4'])\n",
    "set_IV.set_title ('Set IV')\n",
    "set_IV.set_xlabel('x4')\n",
    "set_IV.set_ylabel('y4')\n",
    "set_IV.set_xlim(2,20)\n",
    "set_IV.set_ylim(2,14)\n",
    "\n",
    "plt.subplots_adjust(left=.1,right=.925,top=.925,bottom=.1,\n",
    "                  wspace= .3, hspace = .4)\n",
    "plt.savefig('fig_anscombe_python.pdf',bbox_inches = 'tight', dpi= None,\n",
    "           facecolor ='w', edgecolor='b',orientation='portrait', papertype=None, \n",
    "           format= None, transparent = True, pad_inches=0.25, frameon=None)"
   ]
  },
  {
   "cell_type": "code",
   "execution_count": 1,
   "metadata": {
    "collapsed": true
   },
   "outputs": [],
   "source": [
    "%config IPCompleter.greedy=True"
   ]
  },
  {
   "cell_type": "code",
   "execution_count": null,
   "metadata": {
    "collapsed": true
   },
   "outputs": [],
   "source": []
  }
 ],
 "metadata": {
  "kernelspec": {
   "display_name": "Python 3",
   "language": "python",
   "name": "python3"
  },
  "language_info": {
   "codemirror_mode": {
    "name": "ipython",
    "version": 3
   },
   "file_extension": ".py",
   "mimetype": "text/x-python",
   "name": "python",
   "nbconvert_exporter": "python",
   "pygments_lexer": "ipython3",
   "version": "3.6.3"
  }
 },
 "nbformat": 4,
 "nbformat_minor": 2
}
