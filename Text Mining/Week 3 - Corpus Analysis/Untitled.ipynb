{
 "cells": [
  {
   "cell_type": "code",
   "execution_count": 4,
   "metadata": {
    "ExecuteTime": {
     "end_time": "2018-08-01T05:10:04.415532Z",
     "start_time": "2018-08-01T05:10:04.407554Z"
    }
   },
   "outputs": [
    {
     "data": {
      "text/plain": [
       "['.ipynb_checkpoints',\n",
       " 'CGCC.html',\n",
       " 'CGCC_files',\n",
       " 'exploratory_corpus_analysis.pdf',\n",
       " 'liwc2015_languagemanual.pdf',\n",
       " 'mbox-short.txt',\n",
       " 'pennebaker-gender-difference.pdf',\n",
       " 'python-regular-expression.ipynb',\n",
       " 'python-web-crawling-example.ipynb',\n",
       " 'sampledata-textwrangler.txt',\n",
       " 'science-googlebooks.pdf',\n",
       " 'Untitled.ipynb',\n",
       " 'utoronto-novel-dementia.pdf',\n",
       " 'yu-gender-language-congress.pdf']"
      ]
     },
     "execution_count": 4,
     "metadata": {},
     "output_type": "execute_result"
    }
   ],
   "source": [
    "import os\n",
    "path = os.getcwd()\n",
    "file = os.listdir(path)\n",
    "file"
   ]
  }
 ],
 "metadata": {
  "hide_input": false,
  "kernelspec": {
   "display_name": "Python 3",
   "language": "python",
   "name": "python3"
  },
  "language_info": {
   "codemirror_mode": {
    "name": "ipython",
    "version": 3
   },
   "file_extension": ".py",
   "mimetype": "text/x-python",
   "name": "python",
   "nbconvert_exporter": "python",
   "pygments_lexer": "ipython3",
   "version": "3.6.4"
  }
 },
 "nbformat": 4,
 "nbformat_minor": 2
}
