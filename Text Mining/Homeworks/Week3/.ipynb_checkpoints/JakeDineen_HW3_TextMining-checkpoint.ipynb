{
 "cells": [
  {
   "cell_type": "code",
   "execution_count": 5,
   "metadata": {
    "ExecuteTime": {
     "end_time": "2018-08-06T19:48:21.202314Z",
     "start_time": "2018-08-06T19:48:21.198325Z"
    }
   },
   "outputs": [
    {
     "name": "stdout",
     "output_type": "stream",
     "text": [
      "[nltk_data] Downloading package brown to\n",
      "[nltk_data]     C:\\Users\\jdine\\AppData\\Roaming\\nltk_data...\n",
      "[nltk_data]   Package brown is already up-to-date!\n"
     ]
    },
    {
     "data": {
      "text/plain": [
       "True"
      ]
     },
     "execution_count": 5,
     "metadata": {},
     "output_type": "execute_result"
    }
   ],
   "source": [
    "import nltk\n",
    "from nltk.corpus import brown\n",
    "nltk.download('brown')"
   ]
  },
  {
   "cell_type": "code",
   "execution_count": 6,
   "metadata": {
    "ExecuteTime": {
     "end_time": "2018-08-06T19:48:24.095579Z",
     "start_time": "2018-08-06T19:48:24.091590Z"
    }
   },
   "outputs": [
    {
     "data": {
      "text/plain": [
       "['adventure',\n",
       " 'belles_lettres',\n",
       " 'editorial',\n",
       " 'fiction',\n",
       " 'government',\n",
       " 'hobbies',\n",
       " 'humor',\n",
       " 'learned',\n",
       " 'lore',\n",
       " 'mystery',\n",
       " 'news',\n",
       " 'religion',\n",
       " 'reviews',\n",
       " 'romance',\n",
       " 'science_fiction']"
      ]
     },
     "execution_count": 6,
     "metadata": {},
     "output_type": "execute_result"
    }
   ],
   "source": [
    "brown.categories()"
   ]
  },
  {
   "cell_type": "code",
   "execution_count": 8,
   "metadata": {
    "ExecuteTime": {
     "end_time": "2018-08-06T19:49:01.456738Z",
     "start_time": "2018-08-06T19:48:59.571778Z"
    }
   },
   "outputs": [
    {
     "name": "stdout",
     "output_type": "stream",
     "text": [
      "There are 15 categories in this corpus\n",
      "There are 1161192 words in this corpus\n",
      "There are 100554 words in this (news) corpus\n",
      "There are 68488 words in this (fiction) corpus\n"
     ]
    }
   ],
   "source": [
    "cats = ['fiction', 'news']\n",
    "brown_news = brown.words(categories= 'news')\n",
    "brown_fiction = brown.words(categories= 'fiction')\n",
    "print('There are {} categories in this corpus'.format(len(brown.categories())))\n",
    "print('There are {} words in this corpus'.format(len(brown.words())))\n",
    "print('There are {} words in this (news) corpus'.format(len(brown_news)))\n",
    "print('There are {} words in this (fiction) corpus'.format(len(brown_fiction)))"
   ]
  },
  {
   "cell_type": "code",
   "execution_count": 9,
   "metadata": {
    "ExecuteTime": {
     "end_time": "2018-08-06T19:49:04.754921Z",
     "start_time": "2018-08-06T19:49:04.750931Z"
    }
   },
   "outputs": [
    {
     "data": {
      "text/plain": [
       "['The',\n",
       " 'Fulton',\n",
       " 'County',\n",
       " 'Grand',\n",
       " 'Jury',\n",
       " 'said',\n",
       " 'Friday',\n",
       " 'an',\n",
       " 'investigation',\n",
       " 'of']"
      ]
     },
     "execution_count": 9,
     "metadata": {},
     "output_type": "execute_result"
    }
   ],
   "source": [
    "len(brown_news)\n",
    "brown_news[:10]"
   ]
  },
  {
   "cell_type": "code",
   "execution_count": 10,
   "metadata": {
    "ExecuteTime": {
     "end_time": "2018-08-06T19:49:06.787487Z",
     "start_time": "2018-08-06T19:49:06.782501Z"
    }
   },
   "outputs": [
    {
     "data": {
      "text/plain": [
       "['Thirty-three',\n",
       " 'Scotty',\n",
       " 'did',\n",
       " 'not',\n",
       " 'go',\n",
       " 'back',\n",
       " 'to',\n",
       " 'school',\n",
       " '.',\n",
       " 'His']"
      ]
     },
     "execution_count": 10,
     "metadata": {},
     "output_type": "execute_result"
    }
   ],
   "source": [
    "len(brown_fiction)\n",
    "brown_fiction[:10]"
   ]
  },
  {
   "cell_type": "code",
   "execution_count": 11,
   "metadata": {
    "ExecuteTime": {
     "end_time": "2018-08-06T19:49:10.939397Z",
     "start_time": "2018-08-06T19:49:10.927430Z"
    }
   },
   "outputs": [
    {
     "data": {
      "text/plain": [
       "{'a',\n",
       " 'about',\n",
       " 'above',\n",
       " 'after',\n",
       " 'again',\n",
       " 'against',\n",
       " 'ain',\n",
       " 'all',\n",
       " 'am',\n",
       " 'an',\n",
       " 'and',\n",
       " 'any',\n",
       " 'are',\n",
       " 'aren',\n",
       " \"aren't\",\n",
       " 'as',\n",
       " 'at',\n",
       " 'be',\n",
       " 'because',\n",
       " 'been',\n",
       " 'before',\n",
       " 'being',\n",
       " 'below',\n",
       " 'between',\n",
       " 'both',\n",
       " 'but',\n",
       " 'by',\n",
       " 'can',\n",
       " 'couldn',\n",
       " \"couldn't\",\n",
       " 'd',\n",
       " 'did',\n",
       " 'didn',\n",
       " \"didn't\",\n",
       " 'do',\n",
       " 'does',\n",
       " 'doesn',\n",
       " \"doesn't\",\n",
       " 'doing',\n",
       " 'don',\n",
       " \"don't\",\n",
       " 'down',\n",
       " 'during',\n",
       " 'each',\n",
       " 'few',\n",
       " 'for',\n",
       " 'from',\n",
       " 'further',\n",
       " 'had',\n",
       " 'hadn',\n",
       " \"hadn't\",\n",
       " 'has',\n",
       " 'hasn',\n",
       " \"hasn't\",\n",
       " 'have',\n",
       " 'haven',\n",
       " \"haven't\",\n",
       " 'having',\n",
       " 'he',\n",
       " 'her',\n",
       " 'here',\n",
       " 'hers',\n",
       " 'herself',\n",
       " 'him',\n",
       " 'himself',\n",
       " 'his',\n",
       " 'how',\n",
       " 'i',\n",
       " 'if',\n",
       " 'in',\n",
       " 'into',\n",
       " 'is',\n",
       " 'isn',\n",
       " \"isn't\",\n",
       " 'it',\n",
       " \"it's\",\n",
       " 'its',\n",
       " 'itself',\n",
       " 'just',\n",
       " 'll',\n",
       " 'm',\n",
       " 'ma',\n",
       " 'me',\n",
       " 'mightn',\n",
       " \"mightn't\",\n",
       " 'more',\n",
       " 'most',\n",
       " 'mustn',\n",
       " \"mustn't\",\n",
       " 'my',\n",
       " 'myself',\n",
       " 'needn',\n",
       " \"needn't\",\n",
       " 'no',\n",
       " 'nor',\n",
       " 'not',\n",
       " 'now',\n",
       " 'o',\n",
       " 'of',\n",
       " 'off',\n",
       " 'on',\n",
       " 'once',\n",
       " 'only',\n",
       " 'or',\n",
       " 'other',\n",
       " 'our',\n",
       " 'ours',\n",
       " 'ourselves',\n",
       " 'out',\n",
       " 'over',\n",
       " 'own',\n",
       " 're',\n",
       " 's',\n",
       " 'same',\n",
       " 'shan',\n",
       " \"shan't\",\n",
       " 'she',\n",
       " \"she's\",\n",
       " 'should',\n",
       " \"should've\",\n",
       " 'shouldn',\n",
       " \"shouldn't\",\n",
       " 'so',\n",
       " 'some',\n",
       " 'such',\n",
       " 't',\n",
       " 'than',\n",
       " 'that',\n",
       " \"that'll\",\n",
       " 'the',\n",
       " 'their',\n",
       " 'theirs',\n",
       " 'them',\n",
       " 'themselves',\n",
       " 'then',\n",
       " 'there',\n",
       " 'these',\n",
       " 'they',\n",
       " 'this',\n",
       " 'those',\n",
       " 'through',\n",
       " 'to',\n",
       " 'too',\n",
       " 'under',\n",
       " 'until',\n",
       " 'up',\n",
       " 've',\n",
       " 'very',\n",
       " 'was',\n",
       " 'wasn',\n",
       " \"wasn't\",\n",
       " 'we',\n",
       " 'were',\n",
       " 'weren',\n",
       " \"weren't\",\n",
       " 'what',\n",
       " 'when',\n",
       " 'where',\n",
       " 'which',\n",
       " 'while',\n",
       " 'who',\n",
       " 'whom',\n",
       " 'why',\n",
       " 'will',\n",
       " 'with',\n",
       " 'won',\n",
       " \"won't\",\n",
       " 'wouldn',\n",
       " \"wouldn't\",\n",
       " 'y',\n",
       " 'you',\n",
       " \"you'd\",\n",
       " \"you'll\",\n",
       " \"you're\",\n",
       " \"you've\",\n",
       " 'your',\n",
       " 'yours',\n",
       " 'yourself',\n",
       " 'yourselves'}"
      ]
     },
     "execution_count": 11,
     "metadata": {},
     "output_type": "execute_result"
    }
   ],
   "source": [
    "from nltk.corpus import stopwords\n",
    "from nltk.tokenize import word_tokenize\n",
    "stop_words = set(stopwords.words('english'))\n",
    "stop_words"
   ]
  },
  {
   "cell_type": "code",
   "execution_count": 13,
   "metadata": {
    "ExecuteTime": {
     "end_time": "2018-08-06T19:49:19.241265Z",
     "start_time": "2018-08-06T19:49:19.004394Z"
    }
   },
   "outputs": [
    {
     "data": {
      "text/plain": [
       "['the',\n",
       " 'fulton',\n",
       " 'county',\n",
       " 'grand',\n",
       " 'jury',\n",
       " 'said',\n",
       " 'friday',\n",
       " 'an',\n",
       " 'investigation',\n",
       " 'of']"
      ]
     },
     "execution_count": 13,
     "metadata": {},
     "output_type": "execute_result"
    }
   ],
   "source": [
    "#Converting to lower\n",
    "news = []\n",
    "fiction = []\n",
    "for i,j in zip(brown_news, brown_fiction):\n",
    "    news.append(str.lower(i))\n",
    "    fiction.append(str.lower(j))\n",
    "    \n",
    "news[:10]\n",
    "\n",
    "\n"
   ]
  },
  {
   "cell_type": "code",
   "execution_count": 14,
   "metadata": {
    "ExecuteTime": {
     "end_time": "2018-08-06T19:49:21.205025Z",
     "start_time": "2018-08-06T19:49:21.191063Z"
    }
   },
   "outputs": [],
   "source": [
    "from nltk.corpus import stopwords\n",
    "from nltk.tokenize import word_tokenize\n",
    "stop_words = set(stopwords.words('english'))\n",
    "news_fr = [w for w in news if not w in stop_words]\n",
    "fiction_fr = [w for w in fiction if not w in stop_words]"
   ]
  },
  {
   "cell_type": "code",
   "execution_count": 15,
   "metadata": {
    "ExecuteTime": {
     "end_time": "2018-08-06T19:49:24.635360Z",
     "start_time": "2018-08-06T19:49:24.608431Z"
    }
   },
   "outputs": [
    {
     "data": {
      "text/plain": [
       "[(',', 3561),\n",
       " ('.', 2774),\n",
       " ('``', 500),\n",
       " (\"''\", 480),\n",
       " ('said', 361),\n",
       " ('mrs.', 244),\n",
       " ('would', 189),\n",
       " (';', 172),\n",
       " ('--', 168),\n",
       " ('new', 165),\n",
       " ('mr.', 142),\n",
       " ('two', 132),\n",
       " ('one', 131),\n",
       " ('state', 127),\n",
       " ('last', 127),\n",
       " ('year', 120),\n",
       " ('first', 107),\n",
       " ('also', 98),\n",
       " ('home', 94),\n",
       " ('president', 86),\n",
       " ('city', 84),\n",
       " ('(', 81),\n",
       " (')', 80),\n",
       " ('made', 77),\n",
       " ('three', 72),\n",
       " ('years', 72),\n",
       " ('school', 67),\n",
       " (':', 66),\n",
       " ('night', 60),\n",
       " ('time', 60)]"
      ]
     },
     "execution_count": 15,
     "metadata": {},
     "output_type": "execute_result"
    }
   ],
   "source": [
    "FREQ_NEWS = nltk.FreqDist(news_fr)\n",
    "FREQ_NEWS.most_common(30)"
   ]
  },
  {
   "cell_type": "code",
   "execution_count": 16,
   "metadata": {
    "ExecuteTime": {
     "end_time": "2018-08-06T19:49:29.305943Z",
     "start_time": "2018-08-06T19:49:29.281010Z"
    }
   },
   "outputs": [
    {
     "data": {
      "text/plain": [
       "[(',', 3654),\n",
       " ('.', 3639),\n",
       " ('``', 703),\n",
       " (\"''\", 698),\n",
       " ('?', 564),\n",
       " (';', 318),\n",
       " ('would', 291),\n",
       " ('!', 284),\n",
       " ('said', 194),\n",
       " ('one', 184),\n",
       " ('--', 176),\n",
       " ('could', 168),\n",
       " ('like', 151),\n",
       " ('man', 112),\n",
       " ('back', 104),\n",
       " ('time', 103),\n",
       " ('came', 91),\n",
       " ('get', 84),\n",
       " (':', 84),\n",
       " ('little', 82),\n",
       " ('old', 82),\n",
       " ('went', 79),\n",
       " ('know', 78),\n",
       " ('thought', 76),\n",
       " ('two', 76),\n",
       " ('go', 74),\n",
       " ('men', 73),\n",
       " ('looked', 73),\n",
       " ('never', 72),\n",
       " ('around', 71),\n",
       " ('house', 69),\n",
       " ('room', 63),\n",
       " ('even', 63),\n",
       " ('still', 63),\n",
       " ('way', 63),\n",
       " ('eyes', 61),\n",
       " ('good', 60),\n",
       " ('made', 60),\n",
       " ('see', 59),\n",
       " ('knew', 59),\n",
       " ('face', 58),\n",
       " ('felt', 58),\n",
       " ('saw', 58),\n",
       " ('come', 58),\n",
       " ('long', 56),\n",
       " ('church', 56),\n",
       " ('seemed', 55),\n",
       " ('away', 55),\n",
       " ('must', 55),\n",
       " ('first', 55)]"
      ]
     },
     "execution_count": 16,
     "metadata": {},
     "output_type": "execute_result"
    }
   ],
   "source": [
    "FREQ_Fiction = nltk.FreqDist(fiction_fr)\n",
    "FREQ_Fiction.most_common(50)"
   ]
  },
  {
   "cell_type": "code",
   "execution_count": 17,
   "metadata": {
    "ExecuteTime": {
     "end_time": "2018-08-06T19:49:33.965520Z",
     "start_time": "2018-08-06T19:49:33.958539Z"
    }
   },
   "outputs": [
    {
     "name": "stdout",
     "output_type": "stream",
     "text": [
      "[nltk_data] Downloading package words to\n",
      "[nltk_data]     C:\\Users\\jdine\\AppData\\Roaming\\nltk_data...\n",
      "[nltk_data]   Package words is already up-to-date!\n"
     ]
    },
    {
     "data": {
      "text/plain": [
       "True"
      ]
     },
     "execution_count": 17,
     "metadata": {},
     "output_type": "execute_result"
    }
   ],
   "source": [
    "nltk.download('words')"
   ]
  },
  {
   "cell_type": "code",
   "execution_count": 19,
   "metadata": {
    "ExecuteTime": {
     "end_time": "2018-08-06T19:50:09.595767Z",
     "start_time": "2018-08-06T19:50:09.444172Z"
    }
   },
   "outputs": [
    {
     "name": "stdout",
     "output_type": "stream",
     "text": [
      "% of words that are not stopwords (News): 0.6423607055250555\n",
      "% of words that are not stopwords (Fiction): 0.5748598294591754\n"
     ]
    }
   ],
   "source": [
    "def content_fraction(text):\n",
    "    stopwords = nltk.corpus.stopwords.words('english')\n",
    "    content = [w for w in text if w.lower() not in stopwords]\n",
    "    return len(content) / len(text)\n",
    "\n",
    "print('% of words that are not stopwords (News): {}'.format(content_fraction(news)))\n",
    "print('% of words that are not stopwords (Fiction): {}'.format(content_fraction(fiction)))"
   ]
  },
  {
   "cell_type": "code",
   "execution_count": 54,
   "metadata": {
    "ExecuteTime": {
     "end_time": "2018-08-06T20:19:51.217700Z",
     "start_time": "2018-08-06T20:19:51.205732Z"
    }
   },
   "outputs": [
    {
     "name": "stdout",
     "output_type": "stream",
     "text": [
      "Lexical Diversity (News): 0.23169068509342183\n",
      "Lexical Diversity (Fiction): 0.2167585278504483\n"
     ]
    }
   ],
   "source": [
    "def lexical_diversity(my_text_data):\n",
    "    word_count = len(my_text_data)\n",
    "    vocab_size = len(set(my_text_data))\n",
    "    diversity_score = vocab_size / word_count\n",
    "    return diversity_score\n",
    "\n",
    "print('Lexical Diversity (News): {}'.format(lexical_diversity(news_fr)))\n",
    "print('Lexical Diversity (Fiction): {}'.format(lexical_diversity(fiction_fr)))"
   ]
  },
  {
   "cell_type": "code",
   "execution_count": 61,
   "metadata": {
    "ExecuteTime": {
     "end_time": "2018-08-06T20:23:08.510391Z",
     "start_time": "2018-08-06T20:23:08.229143Z"
    }
   },
   "outputs": [
    {
     "name": "stdout",
     "output_type": "stream",
     "text": [
      "% of unusual Words (News): 0.048096016820464896\n",
      "% of unusual Words (Fiction): 0.061060171191994105\n"
     ]
    }
   ],
   "source": [
    "def unusual_words(text):\n",
    "    text_vocab = set(w.lower() for w in text if w.isalpha())\n",
    "    english_vocab = set(w.lower() for w in nltk.corpus.words.words())\n",
    "    unusual = text_vocab - english_vocab\n",
    "    return sorted(unusual)\n",
    "\n",
    "rat_news = len(unusual_words(news_fr))/len(news)\n",
    "rat_ficti =  len(unusual_words(fiction_fr))/len(fiction_fr)\n",
    "\n",
    "print('% of unusual Words (News): {}'.format(rat_news))\n",
    "print('% of unusual Words (Fiction): {}'.format(rat_ficti))\n"
   ]
  },
  {
   "cell_type": "code",
   "execution_count": 46,
   "metadata": {
    "ExecuteTime": {
     "end_time": "2018-08-06T20:10:58.416186Z",
     "start_time": "2018-08-06T20:10:58.143914Z"
    }
   },
   "outputs": [
    {
     "data": {
      "text/plain": [
       "(68488,)"
      ]
     },
     "execution_count": 46,
     "metadata": {},
     "output_type": "execute_result"
    }
   ],
   "source": [
    "from sklearn.feature_extraction.text import CountVectorizer\n",
    "vectorizer = CountVectorizer()\n",
    "v = vectorizer.fit_transform(news)\n",
    "v\n",
    "from sklearn.feature_extraction.text import TfidfVectorizer\n",
    "vectorizer = TfidfVectorizer()\n",
    "v = vectorizer.fit_transform(news)\n",
    "import numpy as np\n",
    "np.shape(news)"
   ]
  }
 ],
 "metadata": {
  "hide_input": false,
  "kernelspec": {
   "display_name": "Python 3",
   "language": "python",
   "name": "python3"
  },
  "language_info": {
   "codemirror_mode": {
    "name": "ipython",
    "version": 3
   },
   "file_extension": ".py",
   "mimetype": "text/x-python",
   "name": "python",
   "nbconvert_exporter": "python",
   "pygments_lexer": "ipython3",
   "version": "3.6.4"
  }
 },
 "nbformat": 4,
 "nbformat_minor": 2
}
