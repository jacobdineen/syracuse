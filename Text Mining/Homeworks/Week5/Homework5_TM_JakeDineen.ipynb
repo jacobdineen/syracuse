{
 "cells": [
  {
   "cell_type": "code",
   "execution_count": 28,
   "metadata": {
    "ExecuteTime": {
     "end_time": "2018-08-16T23:33:10.511640Z",
     "start_time": "2018-08-16T23:33:10.501666Z"
    }
   },
   "outputs": [],
   "source": [
    "import pandas as pd\n",
    "import os\n",
    "path = os.getcwd()\n",
    "listdir = os.listdir(path)\n",
    "for i in listdir:\n",
    "    if 'AMT' in i:\n",
    "        file = i\n",
    "\n",
    "colstodrop = ['HITID', 'Sentiment', 'Worker1', 'Worker2', 'Worker3', 'Worker4', 'Worker5', 'Avg']        \n",
    "        \n",
    "data = pd.read_csv(file)\n",
    "data.columns\n",
    "data.drop(columns = colstodrop, inplace = True)"
   ]
  },
  {
   "cell_type": "code",
   "execution_count": 155,
   "metadata": {
    "ExecuteTime": {
     "end_time": "2018-08-17T20:38:08.280311Z",
     "start_time": "2018-08-17T20:38:08.247400Z"
    }
   },
   "outputs": [],
   "source": [
    "data1 = data.copy()\n",
    "data1.replace([-2,-1,0,1,2], [1,1,2,3,3], inplace= True)\n",
    "data1.replace(['Negative', 'Neutral', 'neutral', 'Positive'], [1,2,2,3], inplace= True)\n",
    "cols = ['Answer1', 'Answer2', 'Answer3', 'Answer4', 'Answer5']\n",
    "data1['Avg'] = data1[cols].sum(axis=1)/5\n",
    "data1['stdev'] = data1[cols].std(axis=1)\n",
    "data1\n",
    "\n",
    "import sklearn\n",
    "from sklearn import cluster\n",
    "kmeans = cluster.KMeans(n_clusters=3).fit (data1[cols])\n",
    "data1['cluster'] = kmeans.labels_\n",
    "data1.sort_values('stdev', ascending= False)\n",
    "data1.to_csv('Final_AMT.csv')\n"
   ]
  },
  {
   "cell_type": "code",
   "execution_count": 156,
   "metadata": {
    "ExecuteTime": {
     "end_time": "2018-08-17T20:38:10.673437Z",
     "start_time": "2018-08-17T20:38:10.663464Z"
    }
   },
   "outputs": [],
   "source": [
    "from sklearn.metrics import cohen_kappa_score\n",
    "\n",
    "one_v_two =cohen_kappa_score(data1['Answer1'], data1['Answer2'])\n",
    "one_v_three =cohen_kappa_score(data1['Answer1'], data1['Answer3'])\n",
    "one_v_four =cohen_kappa_score(data1['Answer1'], data1['Answer4'])\n",
    "one_v_five =cohen_kappa_score(data1['Answer1'], data1['Answer5'])\n",
    "\n",
    "list1 = list(data1['Answer1'])\n",
    "list2 = list(data1['Answer2'])\n",
    "list3 = list(data1['Answer3'])\n",
    "list4 = list(data1['Answer4'])\n",
    "list5 = list(data1['Answer5'])\n",
    "\n"
   ]
  },
  {
   "cell_type": "code",
   "execution_count": 119,
   "metadata": {
    "ExecuteTime": {
     "end_time": "2018-08-17T20:16:20.811345Z",
     "start_time": "2018-08-17T20:16:20.783420Z"
    }
   },
   "outputs": [
    {
     "name": "stdout",
     "output_type": "stream",
     "text": [
      "Agreement between 1 & 2----> 0.18705463182897863\n",
      "Agreement between 1 & 3----> 0.164090368608799\n",
      "Agreement between 1 & 4----> 0.1842849067269643\n",
      "Agreement between 1 & 5----> 0.23944444444444435\n",
      "Agreement between 2 & 3----> 0.26401446654611216\n",
      "Agreement between 2 & 4----> 0.26401446654611216\n",
      "Agreement between 2 & 5----> 0.19706744868035186\n",
      "Agreement between 3 & 4----> 0.1380681818181818\n",
      "Agreement between 3 & 5----> 0.2175848636616583\n",
      "Agreement between 4 & 5----> 0.36732824427480915\n",
      "Avg Kappa ----> 0.22229520231364114\n",
      "STD Kappa ----> 0.0621586475502713\n"
     ]
    }
   ],
   "source": [
    "one_v_two =cohen_kappa_score(list1, list2)\n",
    "one_v_three =cohen_kappa_score(list1, list3)\n",
    "one_v_four =cohen_kappa_score(list1, list4)\n",
    "one_v_five =cohen_kappa_score(list1, list5)\n",
    "two_v_three =cohen_kappa_score(list2, list3)\n",
    "two_v_four =cohen_kappa_score(list2, list3)\n",
    "two_v_five =cohen_kappa_score(list2, list5)\n",
    "three_v_four =cohen_kappa_score(list3, list4)\n",
    "three_v_five =cohen_kappa_score(list3, list5)\n",
    "four_v_five =cohen_kappa_score(list4, list5)\n",
    "\n",
    "print('Agreement between 1 & 2----> {}'.format(one_v_two))\n",
    "print('Agreement between 1 & 3----> {}'.format(one_v_three))\n",
    "print('Agreement between 1 & 4----> {}'.format(one_v_four))\n",
    "print('Agreement between 1 & 5----> {}'.format(one_v_five))\n",
    "print('Agreement between 2 & 3----> {}'.format(two_v_three))\n",
    "print('Agreement between 2 & 4----> {}'.format(two_v_four))\n",
    "print('Agreement between 2 & 5----> {}'.format(two_v_five))\n",
    "print('Agreement between 3 & 4----> {}'.format(three_v_four))\n",
    "print('Agreement between 3 & 5----> {}'.format(three_v_five))\n",
    "print('Agreement between 4 & 5----> {}'.format(four_v_five))\n",
    "\n",
    "list_floats = [one_v_two, one_v_three, one_v_four, one_v_five, two_v_three, two_v_four, two_v_five,\n",
    "              three_v_four, three_v_five, four_v_five]\n",
    "\n",
    "import numpy as np\n",
    "print('Avg Kappa ----> {}'.format(np.mean(list_floats)))\n",
    "print('STD Kappa ----> {}'.format(np.std(list_floats)))"
   ]
  },
  {
   "cell_type": "code",
   "execution_count": 123,
   "metadata": {
    "ExecuteTime": {
     "end_time": "2018-08-17T20:25:31.265974Z",
     "start_time": "2018-08-17T20:25:31.253009Z"
    }
   },
   "outputs": [
    {
     "name": "stdout",
     "output_type": "stream",
     "text": [
      "Agreement between Me and 1----> 0.3516896120150187\n",
      "Agreement between Me and 2----> 0.2059020791415156\n",
      "Agreement between Me and 3----> 0.2875481386392811\n",
      "Agreement between Me and 4----> 0.39305993690851737\n",
      "Agreement between Me and 5---> 0.2835727670206122\n",
      "Avg Kappa ----> 0.304354506744989\n",
      "STD Kappa ----> 0.06405697580640983\n"
     ]
    }
   ],
   "source": [
    "ground = list(data1.GROUNDTRUTH)\n",
    "\n",
    "one_v_me =cohen_kappa_score(ground, list1)\n",
    "two_v_me =cohen_kappa_score(ground, list2)\n",
    "three_v_me =cohen_kappa_score(ground, list3)\n",
    "four_v_me =cohen_kappa_score(ground, list4)\n",
    "five_v_me =cohen_kappa_score(ground, list5)\n",
    "\n",
    "list_floats = [one_v_me, two_v_me, three_v_me, four_v_me, five_v_me]\n",
    "\n",
    "print('Agreement between Me and 1----> {}'.format(one_v_me))\n",
    "print('Agreement between Me and 2----> {}'.format(two_v_me))\n",
    "print('Agreement between Me and 3----> {}'.format(three_v_me))\n",
    "print('Agreement between Me and 4----> {}'.format(four_v_me))\n",
    "print('Agreement between Me and 5---> {}'.format(five_v_me))\n",
    "print('Avg Kappa ----> {}'.format(np.mean(list_floats)))\n",
    "print('STD Kappa ----> {}'.format(np.std(list_floats)))\n"
   ]
  },
  {
   "cell_type": "code",
   "execution_count": 154,
   "metadata": {
    "ExecuteTime": {
     "end_time": "2018-08-17T20:37:35.965526Z",
     "start_time": "2018-08-17T20:37:35.961537Z"
    }
   },
   "outputs": [],
   "source": [
    "import pandas as pd\n",
    "from collections import Counter\n",
    "\n",
    "c = Counter()\n",
    "c."
   ]
  }
 ],
 "metadata": {
  "hide_input": false,
  "kernelspec": {
   "display_name": "Python 3",
   "language": "python",
   "name": "python3"
  },
  "language_info": {
   "codemirror_mode": {
    "name": "ipython",
    "version": 3
   },
   "file_extension": ".py",
   "mimetype": "text/x-python",
   "name": "python",
   "nbconvert_exporter": "python",
   "pygments_lexer": "ipython3",
   "version": "3.6.4"
  }
 },
 "nbformat": 4,
 "nbformat_minor": 2
}
