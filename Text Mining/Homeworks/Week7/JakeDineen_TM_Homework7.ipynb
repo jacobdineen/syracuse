{
 "cells": [
  {
   "cell_type": "markdown",
   "metadata": {},
   "source": [
    "Reading in the data"
   ]
  },
  {
   "cell_type": "code",
   "execution_count": 1,
   "metadata": {
    "ExecuteTime": {
     "end_time": "2018-09-03T04:50:05.167365Z",
     "start_time": "2018-09-03T04:50:04.785387Z"
    }
   },
   "outputs": [],
   "source": [
    "import pandas as pd\n",
    "train=pd.read_csv(\"train.tsv\", delimiter='\\t')\n",
    "y=train['Sentiment'].values\n",
    "X=train['Phrase'].values"
   ]
  },
  {
   "cell_type": "markdown",
   "metadata": {},
   "source": [
    "Train test split and show data shapes"
   ]
  },
  {
   "cell_type": "code",
   "execution_count": 2,
   "metadata": {
    "ExecuteTime": {
     "end_time": "2018-09-03T04:50:05.412709Z",
     "start_time": "2018-09-03T04:50:05.168363Z"
    }
   },
   "outputs": [
    {
     "name": "stdout",
     "output_type": "stream",
     "text": [
      "(93636,) (93636,) (62424,) (62424,)\n",
      "almost in a class with that of Wilde\n",
      "3\n",
      "escape movie\n",
      "2\n"
     ]
    }
   ],
   "source": [
    "from sklearn.model_selection import train_test_split\n",
    "X_train, X_test, y_train, y_test = train_test_split(X, y, test_size=0.4, random_state=0)\n",
    "\n",
    "print(X_train.shape, y_train.shape, X_test.shape, y_test.shape)\n",
    "print(X_train[0])\n",
    "print(y_train[0])\n",
    "print(X_test[0])\n",
    "print(y_test[0])"
   ]
  },
  {
   "cell_type": "markdown",
   "metadata": {},
   "source": [
    "Showing Class Distribution"
   ]
  },
  {
   "cell_type": "code",
   "execution_count": 3,
   "metadata": {
    "ExecuteTime": {
     "end_time": "2018-09-03T04:50:05.425674Z",
     "start_time": "2018-09-03T04:50:05.413707Z"
    }
   },
   "outputs": [
    {
     "name": "stdout",
     "output_type": "stream",
     "text": [
      "{0, 1, 2, 3, 4}\n",
      "[[    0  4141]\n",
      " [    1 16449]\n",
      " [    2 47718]\n",
      " [    3 19859]\n",
      " [    4  5469]]\n"
     ]
    }
   ],
   "source": [
    "training_labels = set(y_train)\n",
    "print(training_labels)\n",
    "from scipy.stats import itemfreq\n",
    "training_category_dist = itemfreq(y_train)\n",
    "print(training_category_dist)"
   ]
  },
  {
   "cell_type": "code",
   "execution_count": 4,
   "metadata": {
    "ExecuteTime": {
     "end_time": "2018-09-03T04:50:05.436645Z",
     "start_time": "2018-09-03T04:50:05.426672Z"
    }
   },
   "outputs": [
    {
     "name": "stdout",
     "output_type": "stream",
     "text": [
      "{0, 1, 2, 3, 4}\n",
      "[[    0  2931]\n",
      " [    1 10824]\n",
      " [    2 31864]\n",
      " [    3 13068]\n",
      " [    4  3737]]\n"
     ]
    }
   ],
   "source": [
    "testing_labels = set(y_test)\n",
    "print(testing_labels)\n",
    "testing_category_dist = itemfreq(y_test)\n",
    "print(testing_category_dist)\n"
   ]
  },
  {
   "cell_type": "markdown",
   "metadata": {},
   "source": [
    "Vectorize"
   ]
  },
  {
   "cell_type": "code",
   "execution_count": 5,
   "metadata": {
    "ExecuteTime": {
     "end_time": "2018-09-03T04:50:06.347208Z",
     "start_time": "2018-09-03T04:50:05.437643Z"
    }
   },
   "outputs": [],
   "source": [
    "from sklearn.feature_extraction.text import CountVectorizer\n",
    "from sklearn.feature_extraction.text import TfidfVectorizer\n",
    "\n",
    "unigram_tfidf_vectorizer = TfidfVectorizer(encoding='latin-1', use_idf=True, min_df=5, stop_words='english', ngram_range=(1, 1))\n",
    "X_train_vec = unigram_tfidf_vectorizer.fit_transform(X_train)\n",
    "X_test_vec = unigram_tfidf_vectorizer.transform(X_test)\n",
    "\n",
    "import numpy as np"
   ]
  },
  {
   "cell_type": "markdown",
   "metadata": {},
   "source": [
    "Build Models"
   ]
  },
  {
   "cell_type": "code",
   "execution_count": 6,
   "metadata": {
    "ExecuteTime": {
     "end_time": "2018-09-03T04:50:08.744795Z",
     "start_time": "2018-09-03T04:50:06.348207Z"
    }
   },
   "outputs": [],
   "source": [
    "from sklearn.naive_bayes import MultinomialNB\n",
    "# import the LinearSVC module\n",
    "from sklearn.svm import LinearSVC\n",
    "from sklearn.svm import SVC\n",
    "\n",
    "mnb = MultinomialNB()\n",
    "lin_svc = LinearSVC()\n",
    "\n",
    "score = []\n",
    "\n",
    "mnb.fit(X_train_vec, y_train)\n",
    "score.append(mnb.score(X_test_vec, y_test))\n",
    "\n",
    "lin_svc.fit(X_train_vec, y_train)\n",
    "score.append(lin_svc.score(X_test_vec, y_test))"
   ]
  },
  {
   "cell_type": "code",
   "execution_count": 7,
   "metadata": {
    "ExecuteTime": {
     "end_time": "2018-09-03T04:50:08.749781Z",
     "start_time": "2018-09-03T04:50:08.745793Z"
    }
   },
   "outputs": [
    {
     "name": "stdout",
     "output_type": "stream",
     "text": [
      "Accuracy for Multinomial Naive Bayes: 58.36%\n",
      "Accuracy for Linear Support Vector Machine: 62.54%\n"
     ]
    }
   ],
   "source": [
    "models = ['Multinomial Naive Bayes', 'Linear Support Vector Machine']\n",
    "\n",
    "for i,j in zip(models, score):\n",
    "    print('Accuracy for {}: {}%'.format(i, np.round(j* 100,2)))"
   ]
  },
  {
   "cell_type": "code",
   "execution_count": 8,
   "metadata": {
    "ExecuteTime": {
     "end_time": "2018-09-03T04:50:08.787680Z",
     "start_time": "2018-09-03T04:50:08.750779Z"
    }
   },
   "outputs": [
    {
     "name": "stdout",
     "output_type": "stream",
     "text": [
      "Very negative words\n",
      "(2.098745524605588, 'stinks')\n",
      "(2.1727441861556014, 'worthless')\n",
      "(2.1798300535190975, 'worst')\n",
      "(2.1800488133108624, 'distasteful')\n",
      "(2.2009510686483065, 'unwatchable')\n",
      "(2.2123856971708524, 'unbearable')\n",
      "(2.238137825043866, 'meaningless')\n",
      "(2.4621467094133798, 'stinker')\n",
      "(2.5442745310983668, 'disappointment')\n",
      "(2.563483172171112, 'disgusting')\n",
      "\n",
      "Positive words\n",
      "(2.2486557705119186, 'phenomenal')\n",
      "(2.2841723636274565, 'masterpiece')\n",
      "(2.3433885257084137, 'magnificent')\n",
      "(2.352451486318256, 'stunning')\n",
      "(2.354476196742644, 'miraculous')\n",
      "(2.3737043540320197, 'masterfully')\n",
      "(2.376399463522625, 'glorious')\n",
      "(2.381295242411694, 'masterful')\n",
      "(2.390828121488659, 'zings')\n",
      "(2.468221447306822, 'perfection')\n",
      "\n"
     ]
    }
   ],
   "source": [
    "feature_ranks = sorted(zip(lin_svc.coef_[0], unigram_tfidf_vectorizer.get_feature_names()))\n",
    "\n",
    "## get the 10 features that are best indicators of very negative sentiment (they are at the bottom of the ranked list)\n",
    "very_negative_10 = feature_ranks[-10:]\n",
    "print(\"Very negative words\")\n",
    "for i in range(0, len(very_negative_10)):\n",
    "    print(very_negative_10[i])\n",
    "print()\n",
    "\n",
    "feature_ranks = sorted(zip(lin_svc.coef_[4], unigram_tfidf_vectorizer.get_feature_names()))\n",
    "## get 10 features that are least relevant to \"very negative\" sentiment (they are at the top of the ranked list)\n",
    "not_very_negative_10 = feature_ranks[-10:]\n",
    "print(\"Positive words\")\n",
    "for i in range(0, len(not_very_negative_10)):\n",
    "    print(not_very_negative_10[i])\n",
    "print()"
   ]
  },
  {
   "cell_type": "code",
   "execution_count": 9,
   "metadata": {
    "ExecuteTime": {
     "end_time": "2018-09-03T04:50:08.817601Z",
     "start_time": "2018-09-03T04:50:08.788678Z"
    }
   },
   "outputs": [
    {
     "name": "stdout",
     "output_type": "stream",
     "text": [
      "Top Features:\n",
      "1.5455295526446657 best\n",
      "1.5275180369015378 moving\n",
      "1.5220467986739947 beautiful\n",
      "1.5042949131728902 beautifully\n",
      "1.4723329465164048 touching\n",
      "1.4716110795291075 excellent\n",
      "1.4600241208924587 terrific\n",
      "1.4586896637436464 powerful\n",
      "1.4476005932359128 fascinating\n",
      "1.4418258452675978 remarkable\n",
      "Bottom Features:\n",
      "0.5696241694233448 bad\n",
      "0.6087269892625203 worst\n",
      "0.6705127954632845 stupid\n",
      "0.6764508789088829 mess\n",
      "0.6840558490880838 awful\n",
      "0.6945048190327225 waste\n",
      "0.7015816915592267 unfunny\n",
      "0.7071649244857492 dull\n",
      "0.7104968819815105 worse\n",
      "0.7157005375918319 failure\n"
     ]
    },
    {
     "data": {
      "text/plain": [
       "[None, None, None, None, None, None, None, None, None, None]"
      ]
     },
     "execution_count": 9,
     "metadata": {},
     "output_type": "execute_result"
    }
   ],
   "source": [
    "# Your code starts here\n",
    "ratios = (mnb.feature_log_prob_[0]/mnb.feature_log_prob_[4])\n",
    "feature_ranks = sorted(zip(ratios,unigram_tfidf_vectorizer.get_feature_names()))\n",
    "botton_features = feature_ranks[0:10]\n",
    "top_features = feature_ranks[-10:]\n",
    "print(\"Top Features:\")\n",
    "[print(x[0],x[1]) for x in reversed(top_features) ]\n",
    "print(\"Bottom Features:\")\n",
    "[print(x[0],x[1]) for x in botton_features]"
   ]
  },
  {
   "cell_type": "code",
   "execution_count": 10,
   "metadata": {
    "ExecuteTime": {
     "end_time": "2018-09-03T04:50:08.936282Z",
     "start_time": "2018-09-03T04:50:08.818598Z"
    }
   },
   "outputs": [],
   "source": [
    "from sklearn.metrics import confusion_matrix, accuracy_score, classification_report\n",
    "import itertools\n",
    "import numpy as np\n",
    "import matplotlib.pyplot as plt\n",
    "\n",
    "def plot_confusion_matrix(cm, classes,\n",
    "                          normalize=False,\n",
    "                          title='Confusion matrix',\n",
    "                          cmap=plt.cm.Blues):\n",
    "    \"\"\"\n",
    "    This function prints and plots the confusion matrix.\n",
    "    Normalization can be applied by setting `normalize=True`.\n",
    "    \"\"\"\n",
    "    plt.imshow(cm, interpolation='nearest', cmap=cmap)\n",
    "    plt.title(title)\n",
    "    plt.colorbar()\n",
    "    tick_marks = np.arange(len(classes))\n",
    "    plt.xticks(tick_marks, classes, rotation=45)\n",
    "    plt.yticks(tick_marks, classes)\n",
    "\n",
    "    if normalize:\n",
    "        cm = cm.astype('float') / cm.sum(axis=1)[:, np.newaxis]\n",
    "\n",
    "    thresh = cm.max() / 2.\n",
    "    for i, j in itertools.product(range(cm.shape[0]), range(cm.shape[1])):\n",
    "        plt.text(j, i, cm[i, j],\n",
    "                 horizontalalignment=\"center\",\n",
    "                 color=\"black\" if cm[i, j] > thresh else \"black\")\n",
    "\n",
    "    plt.tight_layout()\n",
    "    plt.ylabel('True label')\n",
    "    plt.xlabel('Predicted label')\n",
    "\n"
   ]
  },
  {
   "cell_type": "code",
   "execution_count": 11,
   "metadata": {
    "ExecuteTime": {
     "end_time": "2018-09-03T04:50:09.128768Z",
     "start_time": "2018-09-03T04:50:08.937280Z"
    }
   },
   "outputs": [
    {
     "name": "stdout",
     "output_type": "stream",
     "text": [
      "                   precision    recall  f1-score   support\n",
      "\n",
      "         Negative       0.57      0.04      0.07      2931\n",
      "somewhat negative       0.51      0.24      0.33     10824\n",
      "          Neutral       0.60      0.90      0.72     31864\n",
      "Somewhat positive       0.52      0.37      0.43     13068\n",
      "          Postive       0.62      0.05      0.09      3737\n",
      "\n",
      "      avg / total       0.57      0.58      0.53     62424\n",
      "\n"
     ]
    },
    {
     "data": {
      "image/png": "[encoded data removed]",
      "text/plain": [
       "<Figure size 504x504 with 2 Axes>"
      ]
     },
     "metadata": {},
     "output_type": "display_data"
    }
   ],
   "source": [
    "ypred = mnb.predict(X_test_vec)\n",
    "confusion_mtx = confusion_matrix(y_test, ypred)\n",
    "\n",
    "from pylab import rcParams\n",
    "rcParams['figure.figsize'] = 7, 7\n",
    "plot_confusion_matrix(confusion_mtx,  classes = ['Negative', 'somewhat negative', 'Neutral', 'Somewhat positive', 'Postive'])\n",
    "print(classification_report(y_test, ypred, target_names  =['Negative', 'somewhat negative', 'Neutral', 'Somewhat positive', 'Postive']))"
   ]
  },
  {
   "cell_type": "code",
   "execution_count": 12,
   "metadata": {
    "ExecuteTime": {
     "end_time": "2018-09-03T04:50:09.307290Z",
     "start_time": "2018-09-03T04:50:09.129766Z"
    }
   },
   "outputs": [
    {
     "name": "stdout",
     "output_type": "stream",
     "text": [
      "                   precision    recall  f1-score   support\n",
      "\n",
      "         Negative       0.51      0.27      0.35      2931\n",
      "somewhat negative       0.51      0.40      0.45     10824\n",
      "          Neutral       0.69      0.83      0.75     31864\n",
      "Somewhat positive       0.53      0.48      0.50     13068\n",
      "          Postive       0.53      0.30      0.39      3737\n",
      "\n",
      "      avg / total       0.61      0.63      0.61     62424\n",
      "\n"
     ]
    },
    {
     "data": {
      "image/png": "[encoded data removed]",
      "text/plain": [
       "<Figure size 504x504 with 2 Axes>"
      ]
     },
     "metadata": {},
     "output_type": "display_data"
    }
   ],
   "source": [
    "ypred = lin_svc.predict(X_test_vec)\n",
    "confusion_mtx = confusion_matrix(y_test, ypred)\n",
    "\n",
    "from pylab import rcParams\n",
    "rcParams['figure.figsize'] = 7, 7\n",
    "plot_confusion_matrix(confusion_mtx,  classes = ['Negative', 'somewhat negative', 'Neutral', 'Somewhat positive', 'Postive'])\n",
    "print(classification_report(y_test, ypred, target_names  =['Negative', 'somewhat negative', 'Neutral', 'Somewhat positive', 'Postive']))"
   ]
  },
  {
   "cell_type": "code",
   "execution_count": 22,
   "metadata": {
    "ExecuteTime": {
     "end_time": "2018-09-03T04:53:19.684032Z",
     "start_time": "2018-09-03T04:52:59.650590Z"
    }
   },
   "outputs": [
    {
     "name": "stdout",
     "output_type": "stream",
     "text": [
      "Fitting 5 folds for each of 2 candidates, totalling 10 fits\n"
     ]
    },
    {
     "name": "stderr",
     "output_type": "stream",
     "text": [
      "[Parallel(n_jobs=4)]: Done  10 out of  10 | elapsed:   13.9s finished\n"
     ]
    }
   ],
   "source": [
    "train=pd.read_csv(\"train.tsv\", delimiter='\\t')\n",
    "y=train['Sentiment'].values\n",
    "X=train['Phrase'].values\n",
    "\n",
    "unigram_tfidf_vectorizer = TfidfVectorizer(encoding='latin-1', use_idf=True, min_df=5, stop_words='english', ngram_range=(1, 1))\n",
    "X_train_vec = unigram_tfidf_vectorizer.fit_transform(X)\n",
    "\n",
    "\n",
    "from sklearn.model_selection import train_test_split\n",
    "from sklearn.grid_search import GridSearchCV\n",
    "from sklearn.metrics import confusion_matrix, classification_report\n",
    "import warnings\n",
    "\n",
    "\n",
    "ex_param_grid = {\n",
    "    \"penalty\": ['l2'],\n",
    "    \"loss\": ['squared_hinge'],\n",
    "    'tol': [.0001,.001],\n",
    "    \n",
    "}\n",
    "\n",
    "gsExtC = GridSearchCV(\n",
    "    lin_svc,\n",
    "    param_grid=ex_param_grid,\n",
    "    cv=5,\n",
    "    scoring=\"accuracy\",\n",
    "    n_jobs=4,\n",
    "    verbose=1)\n",
    "\n",
    "gsExtC.fit(X_train_vec, y)\n",
    "ExtC_best = gsExtC.best_estimator_"
   ]
  },
  {
   "cell_type": "code",
   "execution_count": 24,
   "metadata": {
    "ExecuteTime": {
     "end_time": "2018-09-03T04:55:25.980797Z",
     "start_time": "2018-09-03T04:55:25.961848Z"
    }
   },
   "outputs": [
    {
     "data": {
      "text/plain": [
       "0.7045943867743175"
      ]
     },
     "execution_count": 24,
     "metadata": {},
     "output_type": "execute_result"
    }
   ],
   "source": [
    "ExtC_best.score(X_train_vec, y)"
   ]
  },
  {
   "cell_type": "code",
   "execution_count": 23,
   "metadata": {
    "ExecuteTime": {
     "end_time": "2018-09-03T04:53:51.101984Z",
     "start_time": "2018-09-03T04:53:50.624262Z"
    }
   },
   "outputs": [],
   "source": [
    "import pandas as p\n",
    "# read in the test data\n",
    "kaggle_test=p.read_csv(\"test.tsv\", delimiter='\\t') \n",
    "\n",
    "# preserve the id column of the test examples\n",
    "kaggle_ids=kaggle_test['PhraseId'].values\n",
    "\n",
    "# read in the text content of the examples\n",
    "kaggle_X_test=kaggle_test['Phrase'].values\n",
    "\n",
    "# vectorize the test examples using the vocabulary fitted from the 60% training data\n",
    "kaggle_X_test_vec=unigram_tfidf_vectorizer.transform(kaggle_X_test)\n",
    "\n",
    "# predict using the NB classifier that we built\n",
    "kaggle_pred= ExtC_best.predict(kaggle_X_test_vec)\n",
    "\n",
    "# combine the test example ids with their predictions\n",
    "kaggle_submission=zip(kaggle_ids, kaggle_pred)\n",
    "\n",
    "# prepare output file\n",
    "outf=open('kaggle_submission_linearSVC.csv', 'w')\n",
    "\n",
    "# write header\n",
    "outf.write('PhraseId,Sentiment\\n')\n",
    "\n",
    "# write predictions with ids to the output file\n",
    "for x, value in enumerate(kaggle_submission): outf.write(str(value[0]) + ',' + str(value[1]) + '\\n')\n",
    "\n",
    "# close the output file\n",
    "outf.close()"
   ]
  }
 ],
 "metadata": {
  "hide_input": false,
  "kernelspec": {
   "display_name": "Python 3",
   "language": "python",
   "name": "python3"
  },
  "language_info": {
   "codemirror_mode": {
    "name": "ipython",
    "version": 3
   },
   "file_extension": ".py",
   "mimetype": "text/x-python",
   "name": "python",
   "nbconvert_exporter": "python",
   "pygments_lexer": "ipython3",
   "version": "3.6.4"
  }
 },
 "nbformat": 4,
 "nbformat_minor": 2
}
