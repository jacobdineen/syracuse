{
 "cells": [
  {
   "cell_type": "code",
   "execution_count": 1,
   "metadata": {
    "ExecuteTime": {
     "end_time": "2018-08-25T22:34:54.844335Z",
     "start_time": "2018-08-25T22:34:54.146202Z"
    }
   },
   "outputs": [
    {
     "name": "stdout",
     "output_type": "stream",
     "text": [
      "-------------------------------------------\n",
      "The shape of your data is 92 rows by 3 columns\n",
      "-------------------------------------------\n"
     ]
    },
    {
     "data": {
      "image/png": "[encoded data removed]",
      "text/plain": [
       "<Figure size 432x288 with 1 Axes>"
      ]
     },
     "metadata": {},
     "output_type": "display_data"
    },
    {
     "data": {
      "image/png": "[encoded data removed]",
      "text/plain": [
       "<Figure size 432x288 with 1 Axes>"
      ]
     },
     "metadata": {},
     "output_type": "display_data"
    }
   ],
   "source": [
    "get_ipython().magic('reset -sf') \n",
    "import pandas as pd\n",
    "import numpy as np\n",
    "import matplotlib.pyplot as plt\n",
    "from sklearn.model_selection import GridSearchCV, cross_val_score, StratifiedKFold, learning_curve\n",
    "from sklearn.model_selection import train_test_split\n",
    "from IPython import get_ipython\n",
    "# show images inline\n",
    "%matplotlib inline\n",
    "import sys\n",
    "import os \n",
    "#!pip install arff\n",
    "from scipy.io import arff\n",
    "from io import StringIO\n",
    "import seaborn as sns\n",
    "from __future__ import print_function\n",
    "\n",
    "from pprint import pprint\n",
    "from time import time\n",
    "import logging\n",
    "from sklearn.feature_extraction.text import TfidfVectorizer\n",
    "from sklearn.datasets import fetch_20newsgroups\n",
    "from sklearn.feature_extraction.text import CountVectorizer\n",
    "from sklearn.feature_extraction.text import TfidfTransformer\n",
    "from sklearn.linear_model import SGDClassifier\n",
    "from sklearn.model_selection import GridSearchCV\n",
    "from sklearn.pipeline import Pipeline\n",
    "from sklearn.naive_bayes import MultinomialNB, BernoulliNB\n",
    "\n",
    "import random\n",
    "random.seed(1)\n",
    "\n",
    "cwd = os.getcwd()\n",
    "path = os.listdir(cwd)[2]\n",
    "data = pd.read_csv(path)\n",
    "data = data[['lie', 'sentiment', 'review']]\n",
    "print('-------------------------------------------')\n",
    "print('The shape of your data is {} rows by {} columns'.format(data.shape[0],data.shape[1]))\n",
    "print('-------------------------------------------')\n",
    "sns.countplot(data.lie)\n",
    "plt.show()\n",
    "\n",
    "sns.countplot(data.sentiment)\n",
    "plt.show()"
   ]
  },
  {
   "cell_type": "markdown",
   "metadata": {},
   "source": [
    "### Starting w/ Sentiment"
   ]
  },
  {
   "cell_type": "code",
   "execution_count": 2,
   "metadata": {
    "ExecuteTime": {
     "end_time": "2018-08-25T22:34:57.397522Z",
     "start_time": "2018-08-25T22:34:57.393532Z"
    }
   },
   "outputs": [],
   "source": [
    "random_state = 2\n",
    "lie = data[['lie', 'review']]\n",
    "x = lie['review']\n",
    "y = lie['lie']\n"
   ]
  },
  {
   "cell_type": "code",
   "execution_count": 3,
   "metadata": {
    "ExecuteTime": {
     "end_time": "2018-08-25T22:35:02.224620Z",
     "start_time": "2018-08-25T22:34:59.195715Z"
    }
   },
   "outputs": [
    {
     "name": "stdout",
     "output_type": "stream",
     "text": [
      "[0.43090909090909096, 0.41424242424242425]\n"
     ]
    },
    {
     "data": {
      "image/png": "[encoded data removed]",
      "text/plain": [
       "<Figure size 432x288 with 1 Axes>"
      ]
     },
     "metadata": {},
     "output_type": "display_data"
    }
   ],
   "source": [
    "kfold = 5\n",
    "#Set Test Size to 0.3\n",
    "xtrain, xtest, ytrain, ytest = train_test_split(x, y, test_size = 0.4, random_state=2)\n",
    "\n",
    "unigram_bool_vectorizer = CountVectorizer(encoding='latin-1', binary=True, min_df=5, stop_words='english')\n",
    "X_train_vec = unigram_bool_vectorizer.fit_transform(xtrain)\n",
    "X_test_vec = unigram_bool_vectorizer.transform(xtest)\n",
    "\n",
    "# Modeling step Test differents algorithms \n",
    "random_state = 2\n",
    "classifiers = []\n",
    "classifiers.append(BernoulliNB())\n",
    "classifiers.append(MultinomialNB())\n",
    "\n",
    "cv_results = []\n",
    "for classifier in classifiers :\n",
    "    cv_results.append(cross_val_score(classifier, X_train_vec, y = ytrain, scoring = \"accuracy\", cv = kfold, n_jobs=4))\n",
    "\n",
    "cv_means = []\n",
    "cv_std = []\n",
    "for cv_result in cv_results:\n",
    "    cv_means.append(cv_result.mean())\n",
    "    cv_std.append(cv_result.std())\n",
    "\n",
    "cv_res = pd.DataFrame({\"CrossValMeans\":cv_means,\"CrossValerrors\": cv_std,\"Algorithm\":[\"BernoulliNB\",\"MultinomialNB\"]})\n",
    "\n",
    "g = sns.barplot(\"CrossValMeans\",\"Algorithm\",data = cv_res, palette=\"Set3\",orient = \"h\",**{'xerr':cv_std})\n",
    "g.set_xlabel(\"Mean Accuracy\")\n",
    "g = g.set_title(\"Cross validation scores - Unigram Boolean\")\n",
    "print(cv_means)"
   ]
  },
  {
   "cell_type": "code",
   "execution_count": 4,
   "metadata": {
    "ExecuteTime": {
     "end_time": "2018-08-25T22:35:07.718936Z",
     "start_time": "2018-08-25T22:35:04.718955Z"
    }
   },
   "outputs": [
    {
     "name": "stdout",
     "output_type": "stream",
     "text": [
      "[0.43090909090909096, 0.37757575757575756]\n"
     ]
    },
    {
     "data": {
      "image/png": "[encoded data removed]",
      "text/plain": [
       "<Figure size 432x288 with 1 Axes>"
      ]
     },
     "metadata": {},
     "output_type": "display_data"
    }
   ],
   "source": [
    "unigram_count_vectorizer = CountVectorizer(encoding='latin-1', binary=False, min_df=5, stop_words='english')\n",
    "X_train_vec = unigram_count_vectorizer.fit_transform(xtrain)\n",
    "X_test_vec = unigram_count_vectorizer.transform(xtest)\n",
    "\n",
    "# Modeling step Test differents algorithms \n",
    "random_state = 2\n",
    "classifiers = []\n",
    "classifiers.append(BernoulliNB())\n",
    "classifiers.append(MultinomialNB())\n",
    "\n",
    "cv_results = []\n",
    "for classifier in classifiers :\n",
    "    cv_results.append(cross_val_score(classifier, X_train_vec, y = ytrain, scoring = \"accuracy\", cv = kfold, n_jobs=4))\n",
    "\n",
    "cv_means = []\n",
    "cv_std = []\n",
    "for cv_result in cv_results:\n",
    "    cv_means.append(cv_result.mean())\n",
    "    cv_std.append(cv_result.std())\n",
    "\n",
    "cv_res = pd.DataFrame({\"CrossValMeans\":cv_means,\"CrossValerrors\": cv_std,\"Algorithm\":[\"BernoulliNB\",\"MultinomialNB\"]})\n",
    "\n",
    "g = sns.barplot(\"CrossValMeans\",\"Algorithm\",data = cv_res, palette=\"Set3\",orient = \"h\",**{'xerr':cv_std})\n",
    "g.set_xlabel(\"Mean Accuracy\")\n",
    "g = g.set_title(\"Cross validation scores - Unigram Count\")\n",
    "print(cv_means)"
   ]
  },
  {
   "cell_type": "code",
   "execution_count": 5,
   "metadata": {
    "ExecuteTime": {
     "end_time": "2018-08-25T22:35:13.578276Z",
     "start_time": "2018-08-25T22:35:10.567323Z"
    }
   },
   "outputs": [
    {
     "name": "stdout",
     "output_type": "stream",
     "text": [
      "[0.43090909090909096, 0.37757575757575756]\n"
     ]
    },
    {
     "data": {
      "image/png": "[encoded data removed]",
      "text/plain": [
       "<Figure size 432x288 with 1 Axes>"
      ]
     },
     "metadata": {},
     "output_type": "display_data"
    }
   ],
   "source": [
    "gram12_count_vectorizer = CountVectorizer(encoding='latin-1', ngram_range=(1,2), min_df=5, stop_words='english')\n",
    "X_train_vec = gram12_count_vectorizer.fit_transform(xtrain)\n",
    "X_test_vec = gram12_count_vectorizer.transform(xtest)\n",
    "\n",
    "# Modeling step Test differents algorithms \n",
    "random_state = 2\n",
    "classifiers = []\n",
    "classifiers.append(BernoulliNB())\n",
    "classifiers.append(MultinomialNB())\n",
    "\n",
    "cv_results = []\n",
    "for classifier in classifiers :\n",
    "    cv_results.append(cross_val_score(classifier, X_train_vec, y = ytrain, scoring = \"accuracy\", cv = kfold, n_jobs=4))\n",
    "\n",
    "cv_means = []\n",
    "cv_std = []\n",
    "for cv_result in cv_results:\n",
    "    cv_means.append(cv_result.mean())\n",
    "    cv_std.append(cv_result.std())\n",
    "\n",
    "cv_res = pd.DataFrame({\"CrossValMeans\":cv_means,\"CrossValerrors\": cv_std,\"Algorithm\":[\"BernoulliNB\",\"MultinomialNB\"]})\n",
    "\n",
    "g = sns.barplot(\"CrossValMeans\",\"Algorithm\",data = cv_res, palette=\"Set3\",orient = \"h\",**{'xerr':cv_std})\n",
    "g.set_xlabel(\"Mean Accuracy\")\n",
    "g = g.set_title(\"Cross validation scores - Gram12 Count\")\n",
    "print(cv_means)"
   ]
  },
  {
   "cell_type": "code",
   "execution_count": 6,
   "metadata": {
    "ExecuteTime": {
     "end_time": "2018-08-25T22:35:18.113155Z",
     "start_time": "2018-08-25T22:35:15.123147Z"
    }
   },
   "outputs": [
    {
     "name": "stdout",
     "output_type": "stream",
     "text": [
      "[0.43090909090909096, 0.35939393939393943]\n"
     ]
    },
    {
     "data": {
      "image/png": "[encoded data removed]",
      "text/plain": [
       "<Figure size 432x288 with 1 Axes>"
      ]
     },
     "metadata": {},
     "output_type": "display_data"
    }
   ],
   "source": [
    "unigram_tfidf_vectorizer = TfidfVectorizer(encoding='latin-1', use_idf=True, min_df=5, stop_words='english')\n",
    "X_train_vec = unigram_tfidf_vectorizer.fit_transform(xtrain)\n",
    "X_test_vec = unigram_tfidf_vectorizer.transform(xtest)\n",
    "\n",
    "# Modeling step Test differents algorithms \n",
    "random_state = 2\n",
    "classifiers = []\n",
    "classifiers.append(BernoulliNB())\n",
    "classifiers.append(MultinomialNB())\n",
    "\n",
    "cv_results = []\n",
    "for classifier in classifiers :\n",
    "    cv_results.append(cross_val_score(classifier, X_train_vec, y = ytrain, scoring = \"accuracy\", cv = kfold, n_jobs=4))\n",
    "\n",
    "cv_means = []\n",
    "cv_std = []\n",
    "for cv_result in cv_results:\n",
    "    cv_means.append(cv_result.mean())\n",
    "    cv_std.append(cv_result.std())\n",
    "\n",
    "cv_res = pd.DataFrame({\"CrossValMeans\":cv_means,\"CrossValerrors\": cv_std,\"Algorithm\":[\"BernoulliNB\",\"MultinomialNB\"]})\n",
    "\n",
    "g = sns.barplot(\"CrossValMeans\",\"Algorithm\",data = cv_res, palette=\"Set3\",orient = \"h\",**{'xerr':cv_std})\n",
    "g.set_xlabel(\"Mean Accuracy\")\n",
    "g = g.set_title(\"Cross validation scores - Unigram TFIDF\")\n",
    "print(cv_means)"
   ]
  },
  {
   "cell_type": "markdown",
   "metadata": {},
   "source": [
    "### Garbage. practicing w/ pipelines. "
   ]
  },
  {
   "cell_type": "code",
   "execution_count": 7,
   "metadata": {
    "ExecuteTime": {
     "end_time": "2018-08-25T22:35:24.069236Z",
     "start_time": "2018-08-25T22:35:23.970501Z"
    }
   },
   "outputs": [
    {
     "data": {
      "text/plain": [
       "{'Unigram Boolean + Bern_NB + mindf = 5 + stopwords = English': 0.5675675675675675,\n",
       " 'Unigram Boolean + MNB + mindf = 5 + stopwords = English': 0.5405405405405406,\n",
       " 'Unigram Count + Bern_NB + mindf = 10 + stopwords = English': 0.5675675675675675,\n",
       " 'Unigram Count + Bern_NB + mindf = 5 + stopwords = English': 0.5675675675675675,\n",
       " 'Unigram Count + MNB + mindf = 10 + stopwords = English': 0.4594594594594595,\n",
       " 'Unigram Count + MNB + mindf = 5 + stopwords = English': 0.5405405405405406,\n",
       " 'Unigram TFIDF + Bern_NB + mindf = 5 + stopwords = English': 0.5675675675675675,\n",
       " 'Unigram TFIDF + MNB + mindf = 5 + stopwords = English': 0.5135135135135135}"
      ]
     },
     "execution_count": 7,
     "metadata": {},
     "output_type": "execute_result"
    }
   ],
   "source": [
    "#https://www.kaggle.com/baghern/a-deep-dive-into-sklearn-pipelines\n",
    "\n",
    "unigram_count_vec = CountVectorizer(encoding='latin-1', binary=False, min_df=5, stop_words='english')\n",
    "unigram_count_vecdf10 = CountVectorizer(encoding='latin-1', binary=False, min_df=10, stop_words='english')\n",
    "unigram_tfidf_vectorizer = TfidfVectorizer(encoding='latin-1', use_idf=True, min_df=5, stop_words='english')\n",
    "unigram_bool_vectorizer = CountVectorizer(encoding='latin-1', binary=True, min_df=5, stop_words='english')\n",
    "bigram_count_vectorizer = CountVectorizer(encoding='latin-1', ngram_range=(1,10), min_df=5, stop_words='english')\n",
    "\n",
    "lst = [unigram_count_vec, unigram_tfidf_vectorizer, unigram_bool_vectorizer, bigram_count_vectorizer]\n",
    "\n",
    "Bern_nb = BernoulliNB()\n",
    "Multi_NB = MultinomialNB()\n",
    "\n",
    "mb_results= []\n",
    "nb_results = []\n",
    "\n",
    "\n",
    "for i in lst:\n",
    "    xtrain_vec = i.fit_transform(xtrain)\n",
    "    xtest_vec = i.transform(xtest)\n",
    "    Multi_NB.fit(xtrain_vec, ytrain)\n",
    "    Bern_nb.fit(xtrain_vec,ytrain)\n",
    "    mb_results.append(Multi_NB.score(xtest_vec, ytest))\n",
    "    nb_results.append(Bern_nb.score(xtest_vec, ytest))\n",
    "    \n",
    "\n",
    "mb_names = ['Unigram Count + MNB + mindf = 5 + stopwords = English',\n",
    "            'Unigram Count + MNB + mindf = 10 + stopwords = English',\n",
    "        'Unigram TFIDF + MNB + mindf = 5 + stopwords = English',\n",
    "        'Unigram Boolean + MNB + mindf = 5 + stopwords = English',\n",
    "        'ngram Count + MNB + mindf = 5 + stopwords = English', ]\n",
    "\n",
    "bern_names = ['Unigram Count + Bern_NB + mindf = 5 + stopwords = English',\n",
    "              'Unigram Count + Bern_NB + mindf = 10 + stopwords = English',\n",
    "        'Unigram TFIDF + Bern_NB + mindf = 5 + stopwords = English',\n",
    "        'Unigram Boolean + Bern_NB + mindf = 5 + stopwords = English',\n",
    "        'ngram Count + Bern_NB + mindf = 5 + stopwords = English', ]\n",
    "    \n",
    "dictionary_mb = dict(zip(mb_names, mb_results))\n",
    "dictionary_nb = dict(zip(bern_names, nb_results))\n",
    "\n",
    "dictionary_mb\n",
    "dictionary_nb\n",
    "z = {**dictionary_mb, **dictionary_nb}\n",
    "z"
   ]
  },
  {
   "cell_type": "code",
   "execution_count": null,
   "metadata": {},
   "outputs": [],
   "source": []
  },
  {
   "cell_type": "code",
   "execution_count": 8,
   "metadata": {
    "ExecuteTime": {
     "end_time": "2018-08-25T22:35:32.699676Z",
     "start_time": "2018-08-25T22:35:32.330662Z"
    }
   },
   "outputs": [
    {
     "name": "stdout",
     "output_type": "stream",
     "text": [
      "--------------------------------------------------------\n",
      "Testing Stopword Removal against MNB and Bernoulli\n",
      "--------------------------------------------------------\n",
      "Default CountVec MNB ------- Holdout Score: 0.49%\n",
      "Default TFIDF MNB ------- Holdout Score: 0.43%\n",
      "MNB Countvec Stopwords = English ------- Holdout Score: 0.54%\n",
      "MNB TFIDF Stopwords = English ------- Holdout Score: 0.43%\n",
      "MNB Boolean CountVec Stopwords = English ------- Holdout Score: 0.43%\n",
      "Default CountVec Bernoulli ------- Holdout Score: 0.51%\n",
      "Default TFIDF Bernoulli ------- Holdout Score: 0.51%\n",
      "Stopwords = Bernoulli ------- Holdout Score: 0.54%\n",
      "TFIDF Stopwords = Bernoulli ------- Holdout Score: 0.54%\n",
      "--------------------------------------------------------\n",
      "--------------------------------------------------------\n",
      "Variations of Best two vectorizers\n",
      "--------------------------------------------------------\n",
      "Default CountVec MNB minDF = 5 ------- Holdout Score: 0.43%\n",
      "Default TFIDF MNB minDF = 5 ------- Holdout Score: 0.51%\n",
      "Default CountVec MNB minDF = 10 ------- Holdout Score: 0.54%\n",
      "Default TFIDF MNB minDF = 10 ------- Holdout Score: 0.54%\n",
      "--------------------------------------------------------\n",
      "Variations of Best two vectorizers\n",
      "--------------------------------------------------------\n",
      "Default CountVec MNB encoding = latin ------- Holdout Score: 0.49%\n",
      "Default TFIDF MNB encoding = latin ------- Holdout Score: 0.43%\n",
      "Default CountVec MNB encoding = utf-8 ------- Holdout Score: 0.49%\n",
      "Default TFIDF MNB encoding = utf-8 ------- Holdout Score: 0.43%\n",
      "--------------------------------------------------------\n",
      "Variations of Best two vectorizers\n",
      "--------------------------------------------------------\n",
      "Default CountVec MNB ngram_range=(1, 5) ------- Holdout Score: 0.43%\n",
      "Default TFIDF MNB ngram_range=(1, 5) ------- Holdout Score: 0.46%\n"
     ]
    }
   ],
   "source": [
    "pipeline_default_CountVec_MNB = Pipeline([('default_CountVec_MNB', CountVectorizer()),\n",
    "                     ('classifier', MultinomialNB())])\n",
    "\n",
    "pipeline_default_TFIDF_MNB = Pipeline([('default_TFIDF_MNB', TfidfVectorizer()),\n",
    "                     ('classifier', MultinomialNB())])\n",
    "\n",
    "pipeline1_stopwords_CountVec_MNB = Pipeline([('stopwords_CountVec_MNB', CountVectorizer(stop_words='english')),\n",
    "                     ('classifier', MultinomialNB())])\n",
    "\n",
    "pipeline_stopwords_TFIDF_MNB = Pipeline([('stopwords_TFIDF_MNB', TfidfVectorizer(stop_words='english')),\n",
    "                     ('classifier', MultinomialNB())])\n",
    "\n",
    "pipeline_default_CountVec_Boolean_MNB = Pipeline([('default_CountVec_MNB', CountVectorizer(binary = True)),\n",
    "                     ('classifier', MultinomialNB())])\n",
    "\n",
    "\n",
    "pipeline_default_CountVec_Bern = Pipeline([('default_CountVec_MNB', CountVectorizer()),\n",
    "                     ('classifier', BernoulliNB())])\n",
    "\n",
    "pipeline_default_TFIDF_Bern = Pipeline([('default_TFIDF_MNB', TfidfVectorizer()),\n",
    "                     ('classifier', BernoulliNB())])\n",
    "\n",
    "pipeline1_stopwords_CountVec_Bern = Pipeline([('stopwords_CountVec_MNB', CountVectorizer(stop_words='english')),\n",
    "                     ('classifier', BernoulliNB())])\n",
    "\n",
    "pipeline_stopwords_TFIDF_Bern = Pipeline([('stopwords_TFIDF_MNB', TfidfVectorizer(stop_words='english')),\n",
    "                     ('classifier', BernoulliNB())])\n",
    "\n",
    "\n",
    "def fit_transform_score(x, name ):\n",
    "    x.fit(xtrain, ytrain)\n",
    "    return  ('{} ------- Holdout Score: {}%'.format(name, np.round(x.score(xtest, ytest), 2)))\n",
    "\n",
    "print('--------------------------------------------------------')\n",
    "print('Testing Stopword Removal against MNB and Bernoulli')\n",
    "print('--------------------------------------------------------')\n",
    "print(fit_transform_score(pipeline_default_CountVec_MNB, 'Default CountVec MNB'))\n",
    "print(fit_transform_score(pipeline_default_TFIDF_MNB, 'Default TFIDF MNB'))\n",
    "print(fit_transform_score(pipeline1_stopwords_CountVec_MNB, 'MNB Countvec Stopwords = English'))\n",
    "print(fit_transform_score(pipeline_stopwords_TFIDF_MNB, 'MNB TFIDF Stopwords = English'))\n",
    "print(fit_transform_score(pipeline_stopwords_TFIDF_MNB, 'MNB Boolean CountVec Stopwords = English'))\n",
    "\n",
    "print(fit_transform_score(pipeline_default_CountVec_Bern, 'Default CountVec Bernoulli'))\n",
    "print(fit_transform_score(pipeline_default_TFIDF_Bern, 'Default TFIDF Bernoulli'))\n",
    "print(fit_transform_score(pipeline1_stopwords_CountVec_Bern, 'Stopwords = Bernoulli'))\n",
    "print(fit_transform_score(pipeline_stopwords_TFIDF_Bern, 'TFIDF Stopwords = Bernoulli'))\n",
    "print('--------------------------------------------------------')\n",
    "\n",
    "print('--------------------------------------------------------')\n",
    "print('Variations of Best two vectorizers')\n",
    "print('--------------------------------------------------------')\n",
    "\n",
    "pipeline_default_CountVec_MNB = Pipeline([('default_CountVec_MNB', CountVectorizer(min_df= 5)),\n",
    "                     ('classifier', MultinomialNB())])\n",
    "\n",
    "pipeline_default_TFIDF_MNB = Pipeline([('default_TFIDF_MNB', TfidfVectorizer(min_df= 5)),\n",
    "                     ('classifier', MultinomialNB())])\n",
    "\n",
    "print(fit_transform_score(pipeline_default_CountVec_MNB, 'Default CountVec MNB minDF = 5'))\n",
    "print(fit_transform_score(pipeline_default_TFIDF_MNB, 'Default TFIDF MNB minDF = 5'))\n",
    "pipeline_default_CountVec_MNB = Pipeline([('default_CountVec_MNB', CountVectorizer(min_df= 10)),\n",
    "                     ('classifier', MultinomialNB())])\n",
    "\n",
    "pipeline_default_TFIDF_MNB = Pipeline([('default_TFIDF_MNB', TfidfVectorizer(min_df= 10)),\n",
    "                     ('classifier', MultinomialNB())])\n",
    "\n",
    "print(fit_transform_score(pipeline_default_CountVec_MNB, 'Default CountVec MNB minDF = 10'))\n",
    "print(fit_transform_score(pipeline_default_TFIDF_MNB, 'Default TFIDF MNB minDF = 10'))\n",
    "\n",
    "\n",
    "print('--------------------------------------------------------')\n",
    "print('Variations of Best two vectorizers')\n",
    "print('--------------------------------------------------------')\n",
    "\n",
    "\n",
    "pipeline_default_CountVec_MNB = Pipeline([('default_CountVec_MNB', CountVectorizer(encoding='latin-1')),\n",
    "                     ('classifier', MultinomialNB())])\n",
    "\n",
    "pipeline_default_TFIDF_MNB = Pipeline([('default_TFIDF_MNB', TfidfVectorizer(encoding='latin-1')),\n",
    "                     ('classifier', MultinomialNB())])\n",
    "\n",
    "print(fit_transform_score(pipeline_default_CountVec_MNB, 'Default CountVec MNB encoding = latin'))\n",
    "print(fit_transform_score(pipeline_default_TFIDF_MNB, 'Default TFIDF MNB encoding = latin'))\n",
    "\n",
    "pipeline_default_CountVec_MNB = Pipeline([('default_CountVec_MNB', CountVectorizer()),\n",
    "                     ('classifier', MultinomialNB())])\n",
    "\n",
    "pipeline_default_TFIDF_MNB = Pipeline([('default_TFIDF_MNB', TfidfVectorizer()),\n",
    "                     ('classifier', MultinomialNB())])\n",
    "\n",
    "print(fit_transform_score(pipeline_default_CountVec_MNB, 'Default CountVec MNB encoding = utf-8'))\n",
    "print(fit_transform_score(pipeline_default_TFIDF_MNB, 'Default TFIDF MNB encoding = utf-8'))\n",
    "\n",
    "print('--------------------------------------------------------')\n",
    "print('Variations of Best two vectorizers')\n",
    "print('--------------------------------------------------------')\n",
    "\n",
    "pipeline_default_CountVec_MNB = Pipeline([('default_CountVec_MNB', CountVectorizer(ngram_range=(1, 5))),\n",
    "                     ('classifier', MultinomialNB())])\n",
    "\n",
    "pipeline_default_TFIDF_MNB = Pipeline([('default_TFIDF_MNB', TfidfVectorizer(ngram_range=(1, 5))),\n",
    "                     ('classifier', MultinomialNB())])\n",
    "\n",
    "print(fit_transform_score(pipeline_default_CountVec_MNB, 'Default CountVec MNB ngram_range=(1, 5)'))\n",
    "print(fit_transform_score(pipeline_default_TFIDF_MNB, 'Default TFIDF MNB ngram_range=(1, 5)'))"
   ]
  },
  {
   "cell_type": "code",
   "execution_count": 9,
   "metadata": {
    "ExecuteTime": {
     "end_time": "2018-08-25T22:35:38.487248Z",
     "start_time": "2018-08-25T22:35:38.340640Z"
    }
   },
   "outputs": [
    {
     "name": "stdout",
     "output_type": "stream",
     "text": [
      "             precision    recall  f1-score   support\n",
      "\n",
      "       TRUE       0.44      0.37      0.40        19\n",
      "       fake       0.43      0.50      0.46        18\n",
      "\n",
      "avg / total       0.43      0.43      0.43        37\n",
      "\n"
     ]
    },
    {
     "data": {
      "image/png": "[encoded data removed]",
      "text/plain": [
       "<Figure size 432x288 with 2 Axes>"
      ]
     },
     "metadata": {},
     "output_type": "display_data"
    }
   ],
   "source": [
    "\n",
    "from sklearn.metrics import confusion_matrix, accuracy_score, classification_report\n",
    "import itertools\n",
    "import numpy as np\n",
    "import matplotlib.pyplot as plt\n",
    "\n",
    "def plot_confusion_matrix(cm, classes,\n",
    "                          normalize=False,\n",
    "                          title='Confusion matrix',\n",
    "                          cmap=plt.cm.Blues):\n",
    "    \"\"\"\n",
    "    This function prints and plots the confusion matrix.\n",
    "    Normalization can be applied by setting `normalize=True`.\n",
    "    \"\"\"\n",
    "    plt.imshow(cm, interpolation='nearest', cmap=cmap)\n",
    "    plt.title(title)\n",
    "    plt.colorbar()\n",
    "    tick_marks = np.arange(len(classes))\n",
    "    plt.xticks(tick_marks, classes, rotation=45)\n",
    "    plt.yticks(tick_marks, classes)\n",
    "\n",
    "    if normalize:\n",
    "        cm = cm.astype('float') / cm.sum(axis=1)[:, np.newaxis]\n",
    "\n",
    "    thresh = cm.max() / 2.\n",
    "    for i, j in itertools.product(range(cm.shape[0]), range(cm.shape[1])):\n",
    "        plt.text(j, i, cm[i, j],\n",
    "                 horizontalalignment=\"center\",\n",
    "                 color=\"black\" if cm[i, j] > thresh else \"black\")\n",
    "\n",
    "    plt.tight_layout()\n",
    "    plt.ylabel('True label')\n",
    "    plt.xlabel('Predicted label')\n",
    "\n",
    "pipeline_default_CountVec_MNB.fit(xtrain, ytrain)\n",
    "y_pred = pipeline_default_CountVec_MNB.predict(xtest)\n",
    "\n",
    "# compute the confusion matrix\n",
    "confusion_mtx = confusion_matrix(ytest, y_pred) \n",
    "# plot the confusion matrix\n",
    "\n",
    "plot_confusion_matrix(confusion_mtx,  classes = ['Negative', 'Positive'])\n",
    "\n",
    "print(classification_report(ytest, y_pred))"
   ]
  },
  {
   "cell_type": "code",
   "execution_count": 10,
   "metadata": {
    "ExecuteTime": {
     "end_time": "2018-08-25T22:35:40.966621Z",
     "start_time": "2018-08-25T22:35:40.959640Z"
    }
   },
   "outputs": [
    {
     "name": "stdout",
     "output_type": "stream",
     "text": [
      "errors: 0\n"
     ]
    }
   ],
   "source": [
    "ytest = np.array(ytest)\n",
    "ypred = np.array(y_pred)\n",
    "xtest = np.array(xtest)\n",
    "\n",
    "ytest\n",
    "ypred\n",
    "\n",
    "err_cnt = 0\n",
    "for i in range(0, len(xtest)):\n",
    "    if(ytest[i]=='negative' and ypred[i]=='positive'):\n",
    "        print(xtest[i])\n",
    "        err_cnt = err_cnt+1\n",
    "print(\"errors:\", err_cnt)\n",
    "\n"
   ]
  },
  {
   "cell_type": "code",
   "execution_count": 11,
   "metadata": {
    "ExecuteTime": {
     "end_time": "2018-08-25T22:35:45.649610Z",
     "start_time": "2018-08-25T22:35:45.637642Z"
    },
    "scrolled": true
   },
   "outputs": [
    {
     "data": {
      "text/plain": [
       "MultinomialNB(alpha=1.0, class_prior=None, fit_prior=True)"
      ]
     },
     "execution_count": 11,
     "metadata": {},
     "output_type": "execute_result"
    }
   ],
   "source": [
    "# Your code starts here\n",
    "\n",
    "vect = CountVectorizer(stop_words= 'english')\n",
    "xtrain1 = vect.fit_transform(xtrain)\n",
    "xtest1 = vect.transform(xtest)\n",
    "mnb = MultinomialNB()\n",
    "mnb.fit(xtrain1, ytrain)\n",
    "\n"
   ]
  },
  {
   "cell_type": "code",
   "execution_count": 12,
   "metadata": {
    "ExecuteTime": {
     "end_time": "2018-08-25T22:35:48.392280Z",
     "start_time": "2018-08-25T22:35:48.383305Z"
    }
   },
   "outputs": [
    {
     "name": "stdout",
     "output_type": "stream",
     "text": [
      "Top Features:\n",
      "1.2957824322962994 best\n",
      "1.258054254265893 right\n",
      "1.258054254265893 meal\n",
      "1.258054254265893 friendly\n",
      "1.258054254265893 came\n",
      "1.1631664765475858 took\n",
      "1.1631664765475858 terrible\n",
      "1.1631664765475858 table\n",
      "1.1631664765475858 service\n",
      "1.1631664765475858 quality\n",
      "1.1631664765475858 prices\n",
      "1.1631664765475858 order\n",
      "1.1631664765475858 nice\n",
      "1.1631664765475858 life\n",
      "1.1631664765475858 just\n",
      "Bottom Features:\n",
      "0.7536058518074356 don\n",
      "0.8612496532657566 delicious\n",
      "0.8612496532657566 dinner\n",
      "0.8612496532657566 dishes\n",
      "0.8612496532657566 environment\n",
      "0.8612496532657566 experience\n",
      "0.8612496532657566 food\n",
      "0.8612496532657566 friends\n",
      "0.8612496532657566 like\n",
      "0.8612496532657566 little\n",
      "0.8612496532657566 try\n",
      "0.8612496532657566 waiter\n",
      "0.8612496532657566 went\n",
      "0.8732509317096887 people\n",
      "0.9127614151100819 definitely\n"
     ]
    },
    {
     "data": {
      "text/plain": [
       "[None,\n",
       " None,\n",
       " None,\n",
       " None,\n",
       " None,\n",
       " None,\n",
       " None,\n",
       " None,\n",
       " None,\n",
       " None,\n",
       " None,\n",
       " None,\n",
       " None,\n",
       " None,\n",
       " None]"
      ]
     },
     "execution_count": 12,
     "metadata": {},
     "output_type": "execute_result"
    }
   ],
   "source": [
    "# Your code starts here\n",
    "ratios = (mnb.feature_log_prob_[0]/mnb.feature_log_prob_[1])\n",
    "feature_ranks = sorted(zip(ratios,unigram_count_vectorizer.get_feature_names()))\n",
    "botton_features = feature_ranks[0:15]\n",
    "top_features = feature_ranks[-15\n",
    "                             :]\n",
    "print(\"Top Features:\")\n",
    "[print(x[0],x[1]) for x in reversed(top_features) ]\n",
    "\n",
    "print(\"Bottom Features:\")\n",
    "[print(x[0],x[1]) for x in botton_features]"
   ]
  },
  {
   "cell_type": "code",
   "execution_count": null,
   "metadata": {},
   "outputs": [],
   "source": []
  }
 ],
 "metadata": {
  "hide_input": false,
  "kernelspec": {
   "display_name": "Python 3",
   "language": "python",
   "name": "python3"
  },
  "language_info": {
   "codemirror_mode": {
    "name": "ipython",
    "version": 3
   },
   "file_extension": ".py",
   "mimetype": "text/x-python",
   "name": "python",
   "nbconvert_exporter": "python",
   "pygments_lexer": "ipython3",
   "version": "3.6.4"
  }
 },
 "nbformat": 4,
 "nbformat_minor": 2
}
