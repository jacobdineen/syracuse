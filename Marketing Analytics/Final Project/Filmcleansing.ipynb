{
 "cells": [
  {
   "cell_type": "code",
   "execution_count": 1,
   "metadata": {
    "ExecuteTime": {
     "end_time": "2018-04-30T23:41:46.765701Z",
     "start_time": "2018-04-30T23:41:42.595902Z"
    }
   },
   "outputs": [
    {
     "name": "stdout",
     "output_type": "stream",
     "text": [
      "Requirement already satisfied: nltk in c:\\users\\jdine\\documents\\anaconda3\\envs\\tensorflowlatest\\lib\\site-packages\n",
      "Requirement already satisfied: six in c:\\users\\jdine\\documents\\anaconda3\\envs\\tensorflowlatest\\lib\\site-packages (from nltk)\n"
     ]
    },
    {
     "name": "stderr",
     "output_type": "stream",
     "text": [
      "You are using pip version 9.0.3, however version 10.0.1 is available.\n",
      "You should consider upgrading via the 'python -m pip install --upgrade pip' command.\n"
     ]
    },
    {
     "name": "stdout",
     "output_type": "stream",
     "text": [
      "Requirement already satisfied: fuzzywuzzy in c:\\users\\jdine\\documents\\anaconda3\\envs\\tensorflowlatest\\lib\\site-packages\n"
     ]
    },
    {
     "name": "stderr",
     "output_type": "stream",
     "text": [
      "You are using pip version 9.0.3, however version 10.0.1 is available.\n",
      "You should consider upgrading via the 'python -m pip install --upgrade pip' command.\n"
     ]
    },
    {
     "name": "stdout",
     "output_type": "stream",
     "text": [
      "Requirement already satisfied: wordcloud in c:\\users\\jdine\\documents\\anaconda3\\envs\\tensorflowlatest\\lib\\site-packages\n",
      "Requirement already satisfied: pillow in c:\\users\\jdine\\documents\\anaconda3\\envs\\tensorflowlatest\\lib\\site-packages (from wordcloud)\n",
      "Requirement already satisfied: numpy>=1.6.1 in c:\\users\\jdine\\documents\\anaconda3\\envs\\tensorflowlatest\\lib\\site-packages (from wordcloud)\n",
      "Requirement already satisfied: matplotlib in c:\\users\\jdine\\documents\\anaconda3\\envs\\tensorflowlatest\\lib\\site-packages (from wordcloud)\n",
      "Requirement already satisfied: cycler>=0.10 in c:\\users\\jdine\\documents\\anaconda3\\envs\\tensorflowlatest\\lib\\site-packages (from matplotlib->wordcloud)\n",
      "Requirement already satisfied: kiwisolver>=1.0.1 in c:\\users\\jdine\\documents\\anaconda3\\envs\\tensorflowlatest\\lib\\site-packages (from matplotlib->wordcloud)\n",
      "Requirement already satisfied: six>=1.10 in c:\\users\\jdine\\documents\\anaconda3\\envs\\tensorflowlatest\\lib\\site-packages (from matplotlib->wordcloud)\n",
      "Requirement already satisfied: python-dateutil>=2.1 in c:\\users\\jdine\\documents\\anaconda3\\envs\\tensorflowlatest\\lib\\site-packages (from matplotlib->wordcloud)\n",
      "Requirement already satisfied: pyparsing!=2.0.4,!=2.1.2,!=2.1.6,>=2.0.1 in c:\\users\\jdine\\documents\\anaconda3\\envs\\tensorflowlatest\\lib\\site-packages (from matplotlib->wordcloud)\n",
      "Requirement already satisfied: pytz in c:\\users\\jdine\\documents\\anaconda3\\envs\\tensorflowlatest\\lib\\site-packages (from matplotlib->wordcloud)\n",
      "Requirement already satisfied: setuptools in c:\\users\\jdine\\documents\\anaconda3\\envs\\tensorflowlatest\\lib\\site-packages (from kiwisolver>=1.0.1->matplotlib->wordcloud)\n"
     ]
    },
    {
     "name": "stderr",
     "output_type": "stream",
     "text": [
      "You are using pip version 9.0.3, however version 10.0.1 is available.\n",
      "You should consider upgrading via the 'python -m pip install --upgrade pip' command.\n",
      "C:\\Users\\jdine\\Documents\\Anaconda3\\envs\\tensorflowlatest\\lib\\site-packages\\fuzzywuzzy\\fuzz.py:35: UserWarning: Using slow pure-python SequenceMatcher. Install python-Levenshtein to remove this warning\n",
      "  warnings.warn('Using slow pure-python SequenceMatcher. Install python-Levenshtein to remove this warning')\n"
     ]
    }
   ],
   "source": [
    "import pandas as pd\n",
    "import json\n",
    "import numpy as np\n",
    "import matplotlib as mpl\n",
    "import matplotlib.pyplot as plt\n",
    "import seaborn as sns\n",
    "!pip install nltk\n",
    "!pip install fuzzywuzzy\n",
    "!pip install wordcloud\n",
    "import math, nltk, warnings\n",
    "from nltk.corpus import wordnet\n",
    "from sklearn import linear_model\n",
    "from sklearn.neighbors import NearestNeighbors\n",
    "from fuzzywuzzy import fuzz\n",
    "from wordcloud import WordCloud, STOPWORDS\n",
    "plt.rcParams[\"patch.force_edgecolor\"] = True\n",
    "plt.style.use('fivethirtyeight')\n",
    "mpl.rc('patch', edgecolor = 'dimgray', linewidth=1)\n",
    "from IPython.core.interactiveshell import InteractiveShell\n",
    "InteractiveShell.ast_node_interactivity = \"last_expr\"\n",
    "pd.options.display.max_columns = 50\n",
    "%matplotlib inline\n",
    "warnings.filterwarnings('ignore')\n",
    "PS = nltk.stem.PorterStemmer()\n",
    "#-------------------------------------------------------------------------\n",
    "def load_tmdb_movies(path):\n",
    "    df = pd.read_csv(path)\n",
    "    df['release_date'] = pd.to_datetime(df['release_date']).apply(lambda x: x.date())\n",
    "    json_columns = ['genres', 'keywords', 'production_countries', 'production_companies', 'spoken_languages']\n",
    "    for column in json_columns:\n",
    "        df[column] = df[column].apply(json.loads)\n",
    "    return df\n",
    "\n",
    "#-------------------------------------------------------------------------\n",
    "def load_tmdb_credits(path):\n",
    "    df = pd.read_csv(path)\n",
    "    json_columns = ['cast', 'crew']\n",
    "    for column in json_columns:\n",
    "        df[column] = df[column].apply(json.loads)\n",
    "    return df\n",
    "\n",
    "#-------------------------------------------------------------------------\n",
    "def safe_access(container, index_values):\n",
    "    # return a missing value rather than an error upon indexing/key failure\n",
    "    result = container\n",
    "    try:\n",
    "        for idx in index_values:\n",
    "            result = result[idx]\n",
    "        return result\n",
    "    except IndexError or KeyError:\n",
    "        return pd.np.nan\n",
    "\n",
    "#-------------------------------------------------------------------------\n",
    "def get_director(crew_data):\n",
    "    directors = [x['name'] for x in crew_data if x['job'] == 'Director']\n",
    "    return safe_access(directors, [0])\n",
    "\n",
    "#-------------------------------------------------------------------------\n",
    "def pipe_flatten_names(keywords):\n",
    "    return ','.join([x['name'] for x in keywords])\n",
    "\n",
    "#-------------------------------------------------------------------------\n",
    "def convert_to_original_format(movies, credits):\n",
    "    # Converts TMDb data to make it as compatible as possible with kernels built on the original version of the data.\n",
    "    tmdb_movies = movies.copy()\n",
    "    tmdb_movies.rename(columns=TMDB_TO_IMDB_SIMPLE_EQUIVALENCIES, inplace=True)\n",
    "    tmdb_movies['title_year'] = pd.to_datetime(tmdb_movies['release_date']).apply(lambda x: x.year)\n",
    "    # I'm assuming that the first production country is equivalent, but have not been able to validate this\n",
    "    tmdb_movies['country'] = tmdb_movies['production_countries'].apply(lambda x: safe_access(x, [0, 'name']))\n",
    "    tmdb_movies['language'] = tmdb_movies['spoken_languages'].apply(lambda x: safe_access(x, [0, 'name']))\n",
    "    tmdb_movies['director_name'] = credits['crew'].apply(get_director)\n",
    "    tmdb_movies['actor_1_name'] = credits['cast'].apply(lambda x: safe_access(x, [0, 'name']))\n",
    "    tmdb_movies['actor_2_name'] = credits['cast'].apply(lambda x: safe_access(x, [1, 'name']))\n",
    "    tmdb_movies['actor_3_name'] = credits['cast'].apply(lambda x: safe_access(x, [2, 'name']))\n",
    "    tmdb_movies['genres'] = tmdb_movies['genres'].apply(pipe_flatten_names)\n",
    "    tmdb_movies['plot_keywords'] = tmdb_movies['plot_keywords'].apply(pipe_flatten_names)\n",
    "    return tmdb_movies"
   ]
  }
 ],
 "metadata": {
  "hide_input": false,
  "kernelspec": {
   "display_name": "Python 3",
   "language": "python",
   "name": "python3"
  },
  "language_info": {
   "codemirror_mode": {
    "name": "ipython",
    "version": 3
   },
   "file_extension": ".py",
   "mimetype": "text/x-python",
   "name": "python",
   "nbconvert_exporter": "python",
   "pygments_lexer": "ipython3",
   "version": "3.6.4"
  }
 },
 "nbformat": 4,
 "nbformat_minor": 2
}
